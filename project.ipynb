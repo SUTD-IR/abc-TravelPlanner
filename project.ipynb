{
 "cells": [
  {
   "cell_type": "markdown",
   "metadata": {},
   "source": [
    "# abc Trip Planner (MVP)\n",
    "\n",
    "Members\n",
    "* Daniel Jiang (1009509)\n",
    "* John Mo (1009513)\n",
    "* Timothy Zheng (1009502)\n",
    "\n",
    "## Notes\n",
    "\n",
    "To run this program, you will need to create and populate a `.env` file with your OpenAI API key\n",
    "\n",
    "`.env`\n",
    "\n",
    "```bash\n",
    "OPENAI_API_KEY = \"your_key_here\"\n",
    "```\n",
    "\n",
    "### TODO\n",
    "* Set up OpenAI key\n",
    "* Implement LLM\n",
    "* RAG system\n",
    "* (eval) compare to \"ground truth\"\n",
    "\n",
    "### Innovative \"ideas\"\n",
    "* Take note of the places LLM suggests, then make LLM system search online for the prices of places. Then output estimated cost of trip.\n",
    "* Approach the topic as a \"narrative journey\": Add the history of places, culture, etc and make attractions \"references\" to the narrative, instead of the primary focus. Make the narrative the primary focus.\n",
    "* Attach a packing list\n",
    "* Implement weather forecast into trip plan"
   ]
  },
  {
   "cell_type": "code",
   "execution_count": 1,
   "metadata": {},
   "outputs": [
    {
     "name": "stdout",
     "output_type": "stream",
     "text": [
      "\u001b[33mWARNING: Skipping pandas as it is not installed.\u001b[0m\u001b[33m\n",
      "\u001b[0mNote: you may need to restart the kernel to use updated packages.\n",
      "\u001b[33mWARNING: Skipping numpy as it is not installed.\u001b[0m\u001b[33m\n",
      "\u001b[0mNote: you may need to restart the kernel to use updated packages.\n",
      "\u001b[33mWARNING: Skipping pytz as it is not installed.\u001b[0m\u001b[33m\n",
      "\u001b[0mNote: you may need to restart the kernel to use updated packages.\n",
      "Found existing installation: python-dateutil 2.9.0.post0\n",
      "Uninstalling python-dateutil-2.9.0.post0:\n",
      "  Successfully uninstalled python-dateutil-2.9.0.post0\n",
      "Note: you may need to restart the kernel to use updated packages.\n"
     ]
    }
   ],
   "source": [
    "%pip uninstall pandas -y\n",
    "%pip uninstall numpy -y\n",
    "%pip uninstall pytz -y\n",
    "%pip uninstall python-dateutil -y"
   ]
  },
  {
   "cell_type": "code",
   "execution_count": 2,
   "metadata": {},
   "outputs": [
    {
     "name": "stdout",
     "output_type": "stream",
     "text": [
      "Note: you may need to restart the kernel to use updated packages.\n",
      "Note: you may need to restart the kernel to use updated packages.\n",
      "Note: you may need to restart the kernel to use updated packages.\n",
      "Note: you may need to restart the kernel to use updated packages.\n",
      "Note: you may need to restart the kernel to use updated packages.\n",
      "Note: you may need to restart the kernel to use updated packages.\n",
      "Note: you may need to restart the kernel to use updated packages.\n",
      "Note: you may need to restart the kernel to use updated packages.\n"
     ]
    }
   ],
   "source": [
    "%pip install --upgrade pip --quiet\n",
    "%pip install openai --quiet\n",
    "%pip install python-dotenv --quiet\n",
    "%pip install praw --quiet\n",
    "%pip install pydantic --quiet\n",
    "%pip install langchain-community --quiet\n",
    "%pip install bs4 --quiet\n",
    "%pip install pandas --quiet"
   ]
  },
  {
   "cell_type": "code",
   "execution_count": 3,
   "metadata": {},
   "outputs": [
    {
     "data": {
      "text/plain": [
       "True"
      ]
     },
     "execution_count": 3,
     "metadata": {},
     "output_type": "execute_result"
    }
   ],
   "source": [
    "from openai import OpenAI\n",
    "from dotenv import load_dotenv\n",
    "from IPython.display import display, Markdown, clear_output\n",
    "import time\n",
    "\n",
    "load_dotenv() # Requires .env file"
   ]
  },
  {
   "cell_type": "code",
   "execution_count": 4,
   "metadata": {},
   "outputs": [],
   "source": [
    "client = OpenAI()\n",
    "\n",
    "system_prompt = \"\"\"You are a knowledgeable travel assistant. Provide a comprehensive and well-structured guide for the specified destination. Your response should be detailed, accurate, and formatted using markdown. Follow these guidelines:\n",
    "\n",
    "1. Begin with a brief introduction about the destination.\n",
    "2. Use level 2 headers (##) to separate main sections.\n",
    "3. Use bolding (**) for subsections or important points within sections.\n",
    "4. Include exclusively the following sections in exactly this order.\n",
    "   - Best Time to Visit\n",
    "   - Top Attractions\n",
    "   - Local Culture and Etiquette\n",
    "   - Getting Around\n",
    "   - Food and Dining\n",
    "   - Accommodation\n",
    "   - Safety and Health\n",
    "   - Budget Tips\n",
    "   - Unique Experiences\n",
    "   - Essential Phrases (if applicable)\n",
    "\n",
    "5. Provide practical, up-to-date information and insider tips, highlighting any date-specific events if possible.\n",
    "6. Use bullet points sparingly, preferring well-structured paragraphs.\n",
    "7. Include any recent developments or changes affecting travel to the destination.\n",
    "8. Conclude with a brief summary or final travel tip.\n",
    "\n",
    "Aim for a comprehensive guide that's easy to read and informative for travelers.\"\"\""
   ]
  },
  {
   "cell_type": "code",
   "execution_count": 5,
   "metadata": {},
   "outputs": [
    {
     "data": {
      "text/markdown": [
       "## Introduction\n",
       "Welcome to Chiang Mai, a charming city in northern Thailand known for its rich history, stunning temples, vibrant markets, and lush green landscapes. Chiang Mai offers a unique blend of traditional culture and modern amenities, making it a must-visit destination in Southeast Asia.\n",
       "\n",
       "## Best Time to Visit\n",
       "**-** The best time to visit Chiang Mai is during the cool season from November to February, when the weather is pleasant with clear skies and cool evenings.\n",
       "**-** Avoid the hot season from March to May when temperatures can soar, and the wet season from June to October when rainfall is frequent.\n",
       "\n",
       "## Top Attractions\n",
       "**-** Explore the historic Old City with its ancient temples such as Wat Phra That Doi Suthep and Wat Chedi Luang.\n",
       "**-** Visit the bustling Night Bazaar for shopping and sampling local street food.\n",
       "**-** Experience the beauty of nature at Doi Inthanon National Park and the Elephant Nature Park.\n",
       "\n",
       "## Local Culture and Etiquette\n",
       "**-** Respect the local customs by covering your shoulders and knees when visiting temples.\n",
       "**-** Remove your shoes before entering a temple or someone's home.\n",
       "**-** Greet people with a \"wai\" (pressing your palms together in a prayer-like gesture) as a sign of respect.\n",
       "\n",
       "## Getting Around\n",
       "**-** Tuk-tuks and songthaews (shared taxis) are popular modes of transportation in Chiang Mai.\n",
       "**-** Renting a scooter or bicycle is a convenient way to explore the city and its surroundings.\n",
       "**-** Grab and local taxi services are also available for longer distances.\n",
       "\n",
       "## Food and Dining\n",
       "**-** Don't miss trying traditional Northern Thai dishes like Khao Soi, Sai Oua, and Nam Prik Noom.\n",
       "**-** Visit the local markets such as Warorot Market and Chiang Mai Gate Market for authentic street food.\n",
       "**-** Join a cooking class to learn how to prepare classic Thai dishes using fresh ingredients.\n",
       "\n",
       "## Accommodation\n",
       "**-** Chiang Mai offers a range of accommodation options from budget hostels to luxury resorts.\n",
       "**-** Stay in the Old City for easy access to temples and markets or opt for a riverside hotel for a serene experience.\n",
       "**-** Consider booking accommodation in advance, especially during the peak tourist season.\n",
       "\n",
       "## Safety and Health\n",
       "**-** Chiang Mai is a relatively safe city, but be cautious of pickpocketing and scams in crowded areas.\n",
       "**-** Drink bottled water to stay hydrated and avoid consuming street food from unhygienic stalls.\n",
       "**-** Check if you need vaccinations before traveling to Thailand and have travel insurance for medical emergencies.\n",
       "\n",
       "## Budget Tips\n",
       "**-** Bargain when shopping at markets to get the best prices.\n",
       "**-** Eat at local eateries and street food stalls for affordable and authentic meals.\n",
       "**-** Consider visiting free attractions like temples and parks to save money.\n",
       "\n",
       "## Unique Experiences\n",
       "**-** Release a lantern during the Yi Peng Lantern Festival in November for a magical experience.\n",
       "**-** Learn traditional crafts like Thai cooking, massage, or weaving from local experts.\n",
       "**-** Attend a monk chat session at a temple to learn about Buddhism and exchange cultural insights.\n",
       "\n",
       "## Essential Phrases\n",
       "**-** \"Sawasdee\" - Hello\n",
       "**-** \"Kap kun mak\" - Thank you very much\n",
       "**-** \"Nee tao rai?\" - How much is this?\n",
       "**-** \"Hong nam yu ti nai?\" - Where is the restroom?\n",
       "\n",
       "## Summary\n",
       "Chiang Mai is a city that seamlessly blends old-world charm with modern comforts, offering visitors a unique and enriching travel experience. Remember to respect local customs, sample delicious Northern Thai cuisine, and immerse yourself in the rich cultural heritage of this captivating destination. Whether you're exploring ancient temples, shopping at bustling markets, or enjoying nature's beauty, Chiang Mai has something for every traveler to enjoy."
      ],
      "text/plain": [
       "<IPython.core.display.Markdown object>"
      ]
     },
     "metadata": {},
     "output_type": "display_data"
    }
   ],
   "source": [
    "destination = \"Chiang Mai\"\n",
    "stream = client.chat.completions.create(\n",
    "    model=\"gpt-3.5-turbo-0125\",\n",
    "    messages=[\n",
    "        {\"role\": \"system\", \"content\": system_prompt},\n",
    "        {\"role\": \"user\", \"content\": f\"Provide key travel tips for {destination}\"}\n",
    "    ],\n",
    "    stream=True\n",
    ")\n",
    "\n",
    "full_response = \"\"\n",
    "for chunk in stream:\n",
    "    if chunk.choices[0].delta.content is not None:\n",
    "        content = chunk.choices[0].delta.content\n",
    "        full_response += content\n",
    "        \n",
    "        # Clear the current output and display the updated markdown\n",
    "        clear_output(wait=True)\n",
    "        display(Markdown(full_response))\n",
    "        \n",
    "        # Add a small delay to make the streaming visible\n",
    "        time.sleep(0.01)"
   ]
  },
  {
   "cell_type": "markdown",
   "metadata": {},
   "source": [
    "***\n",
    "\n",
    "## RAG Implementation"
   ]
  },
  {
   "cell_type": "markdown",
   "metadata": {},
   "source": [
    "## TODO: Need to create system that dynamically finds reddit threads (maybe tripadvisor if time permits) given a location (refer to the diagram in slides to implement)\n",
    "* Searches google API for places based on \"things to do in <location> site:reddit.com\" etc."
   ]
  },
  {
   "cell_type": "code",
   "execution_count": 6,
   "metadata": {},
   "outputs": [],
   "source": [
    "# code here"
   ]
  },
  {
   "cell_type": "markdown",
   "metadata": {},
   "source": [
    "### Testing\n",
    "* Below is a test list of sources for Chiang Mai (still need to implement the system for fetching docs from Google)"
   ]
  },
  {
   "cell_type": "code",
   "execution_count": 7,
   "metadata": {},
   "outputs": [],
   "source": [
    "sources = [\n",
    "    'https://www.reddit.com/r/chiangmai/comments/1cb3fx4/yi_pengloi_krathong_2024/',\n",
    "    'https://www.reddit.com/r/ThailandTourism/comments/1cpccho/yi_peng_festival_on_a_budget/',\n",
    "    'https://www.reddit.com/r/ThailandTourism/comments/13b0gld/help_me_with_chiang_mai_itinerary/',\n",
    "    'https://www.reddit.com/r/chiangmai/comments/1evxoyu/4_days_trip_in_chiang_mai_any_suggestions_for/',\n",
    "    'https://www.reddit.com/r/chiangmai/comments/1er2mj4/things_to_do_in_chiang_mai/',\n",
    "    'https://www.reddit.com/r/chiangmai/comments/1bmosut/chiang_mai_trip_report_places_to_eat_activities/',\n",
    "    'https://www.reddit.com/r/chiangmai/comments/185wni7/what_to_do_in_chiang_mai/',\n",
    "    \n",
    "    # buggy tripadvisor\n",
    "    'https://www.tripadvisor.com/ShowUserReviews-g293917-d8820428-r621075297-Yi_Peng_and_Loy_Krathong_Lantern_Festival-Chiang_Mai.html'\n",
    "]"
   ]
  },
  {
   "cell_type": "code",
   "execution_count": 8,
   "metadata": {},
   "outputs": [
    {
     "name": "stderr",
     "output_type": "stream",
     "text": [
      "/Users/timothyz/Library/Python/3.9/lib/python/site-packages/urllib3/__init__.py:35: NotOpenSSLWarning: urllib3 v2 only supports OpenSSL 1.1.1+, currently the 'ssl' module is compiled with 'LibreSSL 2.8.3'. See: https://github.com/urllib3/urllib3/issues/3020\n",
      "  warnings.warn(\n"
     ]
    }
   ],
   "source": [
    "import praw\n",
    "import requests\n",
    "from bs4 import BeautifulSoup, SoupStrainer\n",
    "from urllib.parse import urlparse\n",
    "import pandas as pd\n",
    "import time\n",
    "from typing import List, Dict\n",
    "import os\n"
   ]
  },
  {
   "cell_type": "markdown",
   "metadata": {},
   "source": [
    "### Reddit API Key\n",
    "Create a Reddit API key by following the instructions [here](https://www.reddit.com/prefs/apps) (create a script)\n",
    "\n",
    "add the following to your `.env` file\n",
    "```bash\n",
    "REDDIT_CLIENT_ID = \"<your-reddit-client-id>\"\n",
    "REDDIT_CLIENT_SECRET = \"<your-reddit-client-secret>\" \n",
    "REDDIT_USER_AGENT = \"python:<app-name>:v1.0 (by /u/<your-reddit-username>)\"\n",
    "```"
   ]
  },
  {
   "cell_type": "code",
   "execution_count": 9,
   "metadata": {},
   "outputs": [],
   "source": [
    "# Scrape reddit using praw\n",
    "\n",
    "# using praw to better seperate reddit data\n",
    "reddit = praw.Reddit(\n",
    "    client_id=os.environ.get(\"REDDIT_CLIENT_ID\"),\n",
    "    client_secret=os.environ.get(\"REDDIT_CLIENT_SECRET\"),\n",
    "    user_agent=os.environ.get(\"REDDIT_USER_AGENT\"),\n",
    ")\n",
    "\n",
    "def scrape_reddit_post(url: str) -> Dict:\n",
    "    \"\"\"Scrape content from a Reddit post.\"\"\"\n",
    "    try:\n",
    "        # Extract post ID from URL\n",
    "        submission_id = url.split('comments/')[1].split('/')[0]\n",
    "        submission = reddit.submission(id=submission_id)\n",
    "        \n",
    "        # Get post content\n",
    "        post_data = {\n",
    "            'title': submission.title,\n",
    "            'text': submission.selftext,\n",
    "            'comments': [],\n",
    "            'url': url,\n",
    "            'source': 'reddit'\n",
    "        }\n",
    "        \n",
    "        # Get comments (limit to top-level comments)\n",
    "        submission.comments.replace_more(limit=0)\n",
    "        for comment in submission.comments:\n",
    "            if not comment.stickied:  # Skip stickied comments\n",
    "                post_data['comments'].append(comment.body)\n",
    "        \n",
    "        return post_data\n",
    "    \n",
    "    except Exception as e:\n",
    "        print(f\"Error scraping Reddit post {url}: {str(e)}\")\n",
    "        return None\n"
   ]
  },
  {
   "cell_type": "code",
   "execution_count": 10,
   "metadata": {},
   "outputs": [
    {
     "name": "stderr",
     "output_type": "stream",
     "text": [
      "USER_AGENT environment variable not set, consider setting it to identify your requests.\n"
     ]
    }
   ],
   "source": [
    "from langchain_community.document_loaders import WebBaseLoader\n",
    "\n",
    "# TODO scraping tripadvisor is too buggy keeps getting rate limited\n",
    "def scrape_tripadvisor(url: str):\n",
    "    loader = WebBaseLoader(\n",
    "    web_paths=(url,),\n",
    "    bs_kwargs=dict(\n",
    "        parse_only=SoupStrainer(\n",
    "            class_=(\"post-content\", \"post-title\", \"post-header\")\n",
    "            )\n",
    "        ),\n",
    "    )\n",
    "    return loader.load()[0]"
   ]
  },
  {
   "cell_type": "code",
   "execution_count": 11,
   "metadata": {},
   "outputs": [],
   "source": [
    "# Combined function\n",
    "def scrape_urls(urls: List[str]) -> pd.DataFrame:\n",
    "    \"\"\"Scrape content from a list of URLs.\"\"\"\n",
    "    scraped_data = []\n",
    "    \n",
    "    for url in urls:\n",
    "        print(f\"Scraping {url}\")\n",
    "        domain = urlparse(url).netloc\n",
    "        \n",
    "        # Add delay between requests\n",
    "        time.sleep(1)\n",
    "        \n",
    "        if 'reddit.com' in domain:\n",
    "            data = scrape_reddit_post(url)\n",
    "        else:\n",
    "            data = scrape_tripadvisor(url)\n",
    "            \n",
    "        if data:\n",
    "            scraped_data.append(data)\n",
    "    \n",
    "    # Convert to DataFrame\n",
    "    df = pd.DataFrame(scraped_data)\n",
    "    return df\n",
    "\n",
    "# non-reddit links keep getting rate limited\n",
    "# display(scrape_urls(['https://www.tripadvisor.com/ShowUserReviews-g293917-d8820428-r621075297-Yi_Peng_and_Loy_Krathong_Lantern_Festival-Chiang_Mai.html']))"
   ]
  },
  {
   "cell_type": "code",
   "execution_count": 12,
   "metadata": {},
   "outputs": [
    {
     "name": "stdout",
     "output_type": "stream",
     "text": [
      "Scraping https://www.reddit.com/r/chiangmai/comments/1cb3fx4/yi_pengloi_krathong_2024/\n",
      "Scraping https://www.reddit.com/r/ThailandTourism/comments/1cpccho/yi_peng_festival_on_a_budget/\n",
      "Scraping https://www.reddit.com/r/ThailandTourism/comments/13b0gld/help_me_with_chiang_mai_itinerary/\n",
      "Scraping https://www.reddit.com/r/chiangmai/comments/1evxoyu/4_days_trip_in_chiang_mai_any_suggestions_for/\n",
      "Scraping https://www.reddit.com/r/chiangmai/comments/1er2mj4/things_to_do_in_chiang_mai/\n",
      "Scraping https://www.reddit.com/r/chiangmai/comments/1bmosut/chiang_mai_trip_report_places_to_eat_activities/\n",
      "Scraping https://www.reddit.com/r/chiangmai/comments/185wni7/what_to_do_in_chiang_mai/\n"
     ]
    },
    {
     "data": {
      "text/html": [
       "<div>\n",
       "<style scoped>\n",
       "    .dataframe tbody tr th:only-of-type {\n",
       "        vertical-align: middle;\n",
       "    }\n",
       "\n",
       "    .dataframe tbody tr th {\n",
       "        vertical-align: top;\n",
       "    }\n",
       "\n",
       "    .dataframe thead th {\n",
       "        text-align: right;\n",
       "    }\n",
       "</style>\n",
       "<table border=\"1\" class=\"dataframe\">\n",
       "  <thead>\n",
       "    <tr style=\"text-align: right;\">\n",
       "      <th></th>\n",
       "      <th>title</th>\n",
       "      <th>text</th>\n",
       "      <th>comments</th>\n",
       "      <th>url</th>\n",
       "      <th>source</th>\n",
       "    </tr>\n",
       "  </thead>\n",
       "  <tbody>\n",
       "    <tr>\n",
       "      <th>0</th>\n",
       "      <td>Yi Peng/Loi Krathong 2024</td>\n",
       "      <td>Hey everyone!\\n\\nMy Girl and me want to visit ...</td>\n",
       "      <td>[There is events you can pay to go, but I woul...</td>\n",
       "      <td>https://www.reddit.com/r/chiangmai/comments/1c...</td>\n",
       "      <td>reddit</td>\n",
       "    </tr>\n",
       "    <tr>\n",
       "      <th>1</th>\n",
       "      <td>Yi Peng Festival - on a Budget</td>\n",
       "      <td>Hi, so I'm from the Philippines! \\n\\nMy friend...</td>\n",
       "      <td>[No matter where you stay in the Old City area...</td>\n",
       "      <td>https://www.reddit.com/r/ThailandTourism/comme...</td>\n",
       "      <td>reddit</td>\n",
       "    </tr>\n",
       "    <tr>\n",
       "      <th>2</th>\n",
       "      <td>Help me with Chiang Mai itinerary</td>\n",
       "      <td>This September me and my friends will be in Ch...</td>\n",
       "      <td>[You'll be completely fucked after a night bus...</td>\n",
       "      <td>https://www.reddit.com/r/ThailandTourism/comme...</td>\n",
       "      <td>reddit</td>\n",
       "    </tr>\n",
       "    <tr>\n",
       "      <th>3</th>\n",
       "      <td>4 days trip in Chiang Mai - Any suggestions fo...</td>\n",
       "      <td>Hello all! I'm planning on a solo trip to Chia...</td>\n",
       "      <td>[Sticky waterfall: a wonder that will mess wit...</td>\n",
       "      <td>https://www.reddit.com/r/chiangmai/comments/1e...</td>\n",
       "      <td>reddit</td>\n",
       "    </tr>\n",
       "    <tr>\n",
       "      <th>4</th>\n",
       "      <td>Things to do in Chiang Mai</td>\n",
       "      <td>Hey guys! I'm an Irish Tourist and am in Chian...</td>\n",
       "      <td>[Here’s a helpful [Chiang Mai Itinerary](https...</td>\n",
       "      <td>https://www.reddit.com/r/chiangmai/comments/1e...</td>\n",
       "      <td>reddit</td>\n",
       "    </tr>\n",
       "  </tbody>\n",
       "</table>\n",
       "</div>"
      ],
      "text/plain": [
       "                                               title  \\\n",
       "0                          Yi Peng/Loi Krathong 2024   \n",
       "1                     Yi Peng Festival - on a Budget   \n",
       "2                  Help me with Chiang Mai itinerary   \n",
       "3  4 days trip in Chiang Mai - Any suggestions fo...   \n",
       "4                         Things to do in Chiang Mai   \n",
       "\n",
       "                                                text  \\\n",
       "0  Hey everyone!\\n\\nMy Girl and me want to visit ...   \n",
       "1  Hi, so I'm from the Philippines! \\n\\nMy friend...   \n",
       "2  This September me and my friends will be in Ch...   \n",
       "3  Hello all! I'm planning on a solo trip to Chia...   \n",
       "4  Hey guys! I'm an Irish Tourist and am in Chian...   \n",
       "\n",
       "                                            comments  \\\n",
       "0  [There is events you can pay to go, but I woul...   \n",
       "1  [No matter where you stay in the Old City area...   \n",
       "2  [You'll be completely fucked after a night bus...   \n",
       "3  [Sticky waterfall: a wonder that will mess wit...   \n",
       "4  [Here’s a helpful [Chiang Mai Itinerary](https...   \n",
       "\n",
       "                                                 url  source  \n",
       "0  https://www.reddit.com/r/chiangmai/comments/1c...  reddit  \n",
       "1  https://www.reddit.com/r/ThailandTourism/comme...  reddit  \n",
       "2  https://www.reddit.com/r/ThailandTourism/comme...  reddit  \n",
       "3  https://www.reddit.com/r/chiangmai/comments/1e...  reddit  \n",
       "4  https://www.reddit.com/r/chiangmai/comments/1e...  reddit  "
      ]
     },
     "metadata": {},
     "output_type": "display_data"
    }
   ],
   "source": [
    "# Scrape reddit only\n",
    "reddit_results = scrape_urls([s for s in sources if 'reddit' in s])\n",
    "\n",
    "# Display first few rows\n",
    "display(reddit_results.head())"
   ]
  },
  {
   "cell_type": "markdown",
   "metadata": {},
   "source": [
    "### Encode Reddit data in single string for embedding\n",
    "\n",
    "Target structure (Markdown):\n",
    "\n",
    "* Markdown performance in GPT-4 is cheaper and more token-efficient\n",
    "- https://arxiv.org/html/2411.10541v1\n",
    "   - GPT-3.5-turbo prefers JSON, whereas GPT-4 favors Markdown\n",
    "   - Encode in markdown since we are using GPT-4\n",
    "- https://community.openai.com/t/markdown-is-15-more-token-efficient-than-json/841742"
   ]
  },
  {
   "cell_type": "code",
   "execution_count": 13,
   "metadata": {},
   "outputs": [
    {
     "data": {
      "text/plain": [
       "title                               Yi Peng/Loi Krathong 2024\n",
       "text        Hey everyone!\\n\\nMy Girl and me want to visit ...\n",
       "comments    [There is events you can pay to go, but I woul...\n",
       "url         https://www.reddit.com/r/chiangmai/comments/1c...\n",
       "source                                                 reddit\n",
       "Name: 0, dtype: object"
      ]
     },
     "execution_count": 13,
     "metadata": {},
     "output_type": "execute_result"
    }
   ],
   "source": [
    "first_post = reddit_results.iloc[0]\n",
    "first_post"
   ]
  },
  {
   "cell_type": "code",
   "execution_count": 14,
   "metadata": {},
   "outputs": [],
   "source": [
    "from dataclasses import dataclass\n",
    "from typing import List\n",
    "import textwrap\n",
    "\n",
    "@dataclass\n",
    "class RedditThread:\n",
    "    title: str\n",
    "    text: str\n",
    "    comments: List[str]\n",
    "    url: str\n",
    "    source: str\n",
    "    \n",
    "    def __str__(self) -> str:\n",
    "        # Format the main post\n",
    "        output = [\n",
    "            f\"# {self.title}\",\n",
    "            \"\",\n",
    "            f\"## Original Post\",\n",
    "            \"\",\n",
    "            textwrap.fill(self.text, width=80),\n",
    "            \"\",\n",
    "            \"### Comments\",\n",
    "            \"\"\n",
    "        ]\n",
    "        \n",
    "        # Format comments with indentation to show thread structure\n",
    "        for comment in self.comments:\n",
    "            # Calculate comment depth based on leading spaces\n",
    "            depth = len(comment) - len(comment.lstrip())\n",
    "            # Remove leading spaces and wrap text\n",
    "            clean_comment = comment.lstrip()\n",
    "            # Add markdown list marker with proper indentation\n",
    "            indent = \"  \" * (depth // 2)  # Adjust indentation based on depth\n",
    "            wrapped_comment = textwrap.fill(\n",
    "                clean_comment,\n",
    "                width=80,\n",
    "                initial_indent=f\"{indent}- \",\n",
    "                subsequent_indent=f\"{indent}  \"\n",
    "            )\n",
    "            output.append(wrapped_comment)\n",
    "        \n",
    "        output += [\n",
    "            \"\",\n",
    "            \"#### URL\",\n",
    "            self.url\n",
    "        ]\n",
    "        \n",
    "        return \"\\n\".join(output)\n",
    "    \n",
    "    def get_comments_as_str(self):\n",
    "        output = [\"### Comments\"]\n",
    "        # Format comments with indentation to show thread structure\n",
    "        for comment in self.comments:\n",
    "            # Calculate comment depth based on leading spaces\n",
    "            depth = len(comment) - len(comment.lstrip())\n",
    "            # Remove leading spaces and wrap text\n",
    "            clean_comment = comment.lstrip()\n",
    "            # Add markdown list marker with proper indentation\n",
    "            indent = \"  \" * (depth // 2)  # Adjust indentation based on depth\n",
    "            wrapped_comment = textwrap.fill(\n",
    "                clean_comment,\n",
    "                width=80,\n",
    "                initial_indent=f\"{indent}- \",\n",
    "                subsequent_indent=f\"{indent}  \"\n",
    "            )\n",
    "            output.append(wrapped_comment)\n",
    "        return \"\\n\".join(output)"
   ]
  },
  {
   "cell_type": "code",
   "execution_count": 15,
   "metadata": {},
   "outputs": [],
   "source": [
    "reddit_threads = [RedditThread(\n",
    "    title=row['title'],\n",
    "    text=row['text'],\n",
    "    comments=row['comments'],\n",
    "    url=row['url'],\n",
    "    source=row['source']\n",
    ") for index, row in reddit_results.iterrows()]"
   ]
  },
  {
   "cell_type": "code",
   "execution_count": 16,
   "metadata": {},
   "outputs": [
    {
     "data": {
      "text/plain": [
       "\"# Yi Peng/Loi Krathong 2024\\n\\n## Original Post\\n\\nHey everyone!  My Girl and me want to visit Thailand in November. We saw that\\naround the 15./16. of November there will be the Yi Peng and Loi Krathong\\nfestivities in Chiang Mai. It is not easy to get an overview of what to expect\\nthere. So I am grateful for any information!   So here are a few questions:  -\\nDo we need to attend the paid festival by CAD? Or is this just a touristic cash\\ngrab? - Where to get a lantern? - Are we allowed to let a lantern start from\\nwithin the city?  - What is a “must see” at that time in Chiang mai? e.g. any\\nspecial ceremonies? Parades? - Is there like a timetable what is happening when\\nin the city?   Thank & Cheers!\\n\\n### Comments\\n\\n- There is events you can pay to go, but I would advise against it. It's very\\n  simple festival, go to any bridge on the ping river, there is lanterns\\n  everywhere to buy from street vendors, you can buy flowers to set on the water\\n  etc. You dont have to stress to much about time, when the sun goes down around\\n  7 is when you can expect the lanterns to raise to the air. Go have a nice\\n  dinner near ping river (Riverside or The Dukes, and when dinner is done go to\\n  the river and enjoy the sights and buy some lanterns and some flower\\n  decorations to give to the water spirits ( which is from my understanding what\\n  the whole festival Loi Krathong is about)   I hired a photographer for 2 hours\\n  in 2017 and got some amazing shots with me and my family.\\n- Hey, I was in CM for Yi Peng/Loi Krathong last November, it was very good. No\\n  need to go to the paid festival, the city centre (particularly around the\\n  river area) is absolutely buzzing with people/festivities and decorated\\n  beautifully.  In terms of launching lanterns from the city - people seemed to\\n  be launching them mostly from Nawarat Bridge (literally hundreds, maybe\\n  thousands). I can't endorse this though as it's banned due to fire risk. It\\n  also can't be great for the environment / wildlife. Unfortunately there was a\\n  big fire last year that took hours to put out\\n  (https://www.nationthailand.com/thailand/general/40033278). I witnessed it\\n  from my balcony and it was a very sad sight. Apparently this has happed in\\n  previous years too. Fortunately I think nobody was hurt, but people probably\\n  lost homes, or at very least businesses.  Other than that, it was a really\\n  great festival. CM (and Thailand in general) has some of the strongest\\n  festival game I've ever seen. Each one truly magical and memorable. And yes,\\n  there was parade around the perimeter of the Old City on one of the last days,\\n  that was good too.  One thing I'd say is to try and book accommodation and\\n  flights (if that's how you'll be travelling) well in advance as a lot of\\n  people visit CM for this festival. I was there for the the whole of November\\n  and the influx was very noticeable. Afterwards, as my departure from CM\\n  happened to coincide with the end of Yi Peng/Loi Krathong, I ended up having\\n  to get a 10hr bus to BKK to just get a reasonably priced last(ish) minute\\n  flight to HCM as this was \\\\~$300 from CM (usually $50-70 for this route). I\\n  imagine it would've been cheaper from CM if I'd booked more in advance.  Have\\n  a great time! I love CM so much, one of my favourite places in the world. If\\n  you have time, drive \\\\~20mins from the centre (or get a Grab taxi for \\\\~300\\n  bhat) to Royal Park Rajapruek. Afterwards, you can also drive/taxi 5-10min up\\n  to Wat Phra That Doi Kham, the temple overlooking the park + has a great view\\n  over CM (if you go up by Grab taxi you may have to get a songthaew back down\\n  though as I'm not sure if Grab collect from up there, or perhaps you could try\\n  and tipping the Grab driver that took you up to wait for you). This area is\\n  truly special and relatively unknown / unvisited by tourists as it's a bit out\\n  of town.\\n- The paid event is worth it if you dgaf about the cost and want something less\\n  crowded and organized including transportation to/from and everything planned\\n  out.  There’s a free event at doi saket lakes which is fun but insanely\\n  overcrowded. It’s absolutely crazy how many people are here for it. We’re\\n  already sold out of beds for this year.\\n\\n#### URL\\nhttps://www.reddit.com/r/chiangmai/comments/1cb3fx4/yi_pengloi_krathong_2024/\""
      ]
     },
     "execution_count": 16,
     "metadata": {},
     "output_type": "execute_result"
    }
   ],
   "source": [
    "str(reddit_threads[0])"
   ]
  },
  {
   "cell_type": "code",
   "execution_count": 17,
   "metadata": {},
   "outputs": [
    {
     "data": {
      "text/markdown": [
       "# Yi Peng/Loi Krathong 2024\n",
       "\n",
       "## Original Post\n",
       "\n",
       "Hey everyone!  My Girl and me want to visit Thailand in November. We saw that\n",
       "around the 15./16. of November there will be the Yi Peng and Loi Krathong\n",
       "festivities in Chiang Mai. It is not easy to get an overview of what to expect\n",
       "there. So I am grateful for any information!   So here are a few questions:  -\n",
       "Do we need to attend the paid festival by CAD? Or is this just a touristic cash\n",
       "grab? - Where to get a lantern? - Are we allowed to let a lantern start from\n",
       "within the city?  - What is a “must see” at that time in Chiang mai? e.g. any\n",
       "special ceremonies? Parades? - Is there like a timetable what is happening when\n",
       "in the city?   Thank & Cheers!\n",
       "\n",
       "### Comments\n",
       "\n",
       "- There is events you can pay to go, but I would advise against it. It's very\n",
       "  simple festival, go to any bridge on the ping river, there is lanterns\n",
       "  everywhere to buy from street vendors, you can buy flowers to set on the water\n",
       "  etc. You dont have to stress to much about time, when the sun goes down around\n",
       "  7 is when you can expect the lanterns to raise to the air. Go have a nice\n",
       "  dinner near ping river (Riverside or The Dukes, and when dinner is done go to\n",
       "  the river and enjoy the sights and buy some lanterns and some flower\n",
       "  decorations to give to the water spirits ( which is from my understanding what\n",
       "  the whole festival Loi Krathong is about)   I hired a photographer for 2 hours\n",
       "  in 2017 and got some amazing shots with me and my family.\n",
       "- Hey, I was in CM for Yi Peng/Loi Krathong last November, it was very good. No\n",
       "  need to go to the paid festival, the city centre (particularly around the\n",
       "  river area) is absolutely buzzing with people/festivities and decorated\n",
       "  beautifully.  In terms of launching lanterns from the city - people seemed to\n",
       "  be launching them mostly from Nawarat Bridge (literally hundreds, maybe\n",
       "  thousands). I can't endorse this though as it's banned due to fire risk. It\n",
       "  also can't be great for the environment / wildlife. Unfortunately there was a\n",
       "  big fire last year that took hours to put out\n",
       "  (https://www.nationthailand.com/thailand/general/40033278). I witnessed it\n",
       "  from my balcony and it was a very sad sight. Apparently this has happed in\n",
       "  previous years too. Fortunately I think nobody was hurt, but people probably\n",
       "  lost homes, or at very least businesses.  Other than that, it was a really\n",
       "  great festival. CM (and Thailand in general) has some of the strongest\n",
       "  festival game I've ever seen. Each one truly magical and memorable. And yes,\n",
       "  there was parade around the perimeter of the Old City on one of the last days,\n",
       "  that was good too.  One thing I'd say is to try and book accommodation and\n",
       "  flights (if that's how you'll be travelling) well in advance as a lot of\n",
       "  people visit CM for this festival. I was there for the the whole of November\n",
       "  and the influx was very noticeable. Afterwards, as my departure from CM\n",
       "  happened to coincide with the end of Yi Peng/Loi Krathong, I ended up having\n",
       "  to get a 10hr bus to BKK to just get a reasonably priced last(ish) minute\n",
       "  flight to HCM as this was \\~$300 from CM (usually $50-70 for this route). I\n",
       "  imagine it would've been cheaper from CM if I'd booked more in advance.  Have\n",
       "  a great time! I love CM so much, one of my favourite places in the world. If\n",
       "  you have time, drive \\~20mins from the centre (or get a Grab taxi for \\~300\n",
       "  bhat) to Royal Park Rajapruek. Afterwards, you can also drive/taxi 5-10min up\n",
       "  to Wat Phra That Doi Kham, the temple overlooking the park + has a great view\n",
       "  over CM (if you go up by Grab taxi you may have to get a songthaew back down\n",
       "  though as I'm not sure if Grab collect from up there, or perhaps you could try\n",
       "  and tipping the Grab driver that took you up to wait for you). This area is\n",
       "  truly special and relatively unknown / unvisited by tourists as it's a bit out\n",
       "  of town.\n",
       "- The paid event is worth it if you dgaf about the cost and want something less\n",
       "  crowded and organized including transportation to/from and everything planned\n",
       "  out.  There’s a free event at doi saket lakes which is fun but insanely\n",
       "  overcrowded. It’s absolutely crazy how many people are here for it. We’re\n",
       "  already sold out of beds for this year.\n",
       "\n",
       "#### URL\n",
       "https://www.reddit.com/r/chiangmai/comments/1cb3fx4/yi_pengloi_krathong_2024/"
      ],
      "text/plain": [
       "<IPython.core.display.Markdown object>"
      ]
     },
     "metadata": {},
     "output_type": "display_data"
    }
   ],
   "source": [
    "display(Markdown(str(reddit_threads[0])))"
   ]
  },
  {
   "cell_type": "markdown",
   "metadata": {},
   "source": [
    "### Add reddit data into vector store"
   ]
  },
  {
   "cell_type": "code",
   "execution_count": 18,
   "metadata": {},
   "outputs": [
    {
     "name": "stdout",
     "output_type": "stream",
     "text": [
      "Note: you may need to restart the kernel to use updated packages.\n",
      "Note: you may need to restart the kernel to use updated packages.\n",
      "Note: you may need to restart the kernel to use updated packages.\n"
     ]
    }
   ],
   "source": [
    "%pip install --quiet sentence-transformers\n",
    "%pip install --quiet langchain\n",
    "%pip install --quiet langchain_openai"
   ]
  },
  {
   "cell_type": "code",
   "execution_count": 19,
   "metadata": {},
   "outputs": [],
   "source": [
    "from langchain_openai import ChatOpenAI\n",
    "\n",
    "llm = ChatOpenAI(\n",
    "    model=\"gpt-4o\"\n",
    ")"
   ]
  },
  {
   "cell_type": "code",
   "execution_count": 20,
   "metadata": {},
   "outputs": [],
   "source": [
    "reddit_thread_strings = [str(t) for t in reddit_threads] # not being used anymore"
   ]
  },
  {
   "cell_type": "code",
   "execution_count": 21,
   "metadata": {},
   "outputs": [
    {
     "name": "stderr",
     "output_type": "stream",
     "text": [
      "/var/folders/4p/cxyrtqhj6g16s0hdsll_bgfm0000gn/T/ipykernel_78657/1002293555.py:13: LangChainDeprecationWarning: The class `HuggingFaceEmbeddings` was deprecated in LangChain 0.2.2 and will be removed in 1.0. An updated version of the class exists in the :class:`~langchain-huggingface package and should be used instead. To use it run `pip install -U :class:`~langchain-huggingface` and import as `from :class:`~langchain_huggingface import HuggingFaceEmbeddings``.\n",
      "  embeddings = HuggingFaceEmbeddings(\n",
      "/Users/timothyz/Library/Python/3.9/lib/python/site-packages/tqdm/auto.py:21: TqdmWarning: IProgress not found. Please update jupyter and ipywidgets. See https://ipywidgets.readthedocs.io/en/stable/user_install.html\n",
      "  from .autonotebook import tqdm as notebook_tqdm\n",
      "/var/folders/4p/cxyrtqhj6g16s0hdsll_bgfm0000gn/T/ipykernel_78657/1002293555.py:42: LangChainDeprecationWarning: Since Chroma 0.4.x the manual persistence method is no longer supported as docs are automatically persisted.\n",
      "  vectorstore.persist()\n"
     ]
    }
   ],
   "source": [
    "from langchain.embeddings import HuggingFaceEmbeddings\n",
    "from langchain.vectorstores import Chroma\n",
    "from langchain.schema import Document\n",
    "import numpy as np\n",
    "from typing import List, Optional\n",
    "import re\n",
    "\n",
    "def create_reddit_vectorstore(\n",
    "    reddit_threads: List[RedditThread], \n",
    "    persist_directory: str = \"./chroma_db\",\n",
    ") -> Chroma:\n",
    "# Initialize embeddings model\n",
    "    embeddings = HuggingFaceEmbeddings(\n",
    "        model_name=\"sentence-transformers/all-MiniLM-L12-v2\", # allows embedding the entire reddit thread, which is probably more useful\n",
    "        model_kwargs={'device': 'mps'}\n",
    "    )\n",
    "    \n",
    "    # Convert threads to Documents with metadata\n",
    "    documents = []\n",
    "    for i, thread in enumerate(reddit_threads):\n",
    "        metadata = {\n",
    "            \"thread_id\": i,\n",
    "            \"title\": thread.title,\n",
    "            \"content\": thread.text,\n",
    "            \"comments\": thread.get_comments_as_str(),\n",
    "            \"url\": thread.url,\n",
    "            \"type\": \"reddit_thread\",\n",
    "        }\n",
    "        \n",
    "        doc = Document(\n",
    "            page_content=str(thread),\n",
    "            metadata=metadata\n",
    "        )\n",
    "        documents.append(doc)\n",
    "    \n",
    "    vectorstore = Chroma.from_documents(\n",
    "        documents=documents,\n",
    "        embedding=embeddings,\n",
    "        persist_directory=persist_directory\n",
    "    )\n",
    "    \n",
    "    vectorstore.persist()\n",
    "    return vectorstore\n",
    "\n",
    "# Create vectorstore\n",
    "vectorstore = create_reddit_vectorstore(reddit_threads)\n",
    "\n",
    "retriever = vectorstore.as_retriever(\n",
    "    search_type=\"similarity\",\n",
    "    search_kwargs={\n",
    "        \"k\": 3,\n",
    "        \"filter\": None,\n",
    "    }\n",
    ")"
   ]
  },
  {
   "cell_type": "code",
   "execution_count": 22,
   "metadata": {},
   "outputs": [],
   "source": [
    "from langchain_core.prompts import ChatPromptTemplate\n",
    "\n",
    "rag_system_prompt = (\n",
    "    \"You're a helpful AI assistant. Given a user question \"\n",
    "    \"and some Reddit reddit threads formatted in markdown format composing of user questions and comments, answer the user \"\n",
    "    \"question using the replies in the comments based on the topic of the thread. If none of the threads answer the question, \"\n",
    "    \"just say you don't know.\"\n",
    "    \"\\n\\nHere are the Reddit Threads in full: \"\n",
    "    \"{context}\"\n",
    ")\n",
    "\n",
    "rag_prompt = ChatPromptTemplate.from_messages(\n",
    "    [\n",
    "        (\"system\", rag_system_prompt),\n",
    "        (\"human\", \"{input}\"),\n",
    "    ]\n",
    ")"
   ]
  },
  {
   "cell_type": "code",
   "execution_count": 23,
   "metadata": {},
   "outputs": [],
   "source": [
    "def format_reddit_threads(threads):\n",
    "    enumerated_reddit_threads = [\n",
    "        f\"Source ID: {i}\\nReddit Thread: {thread}\"\n",
    "        for i, thread in enumerate(threads)\n",
    "    ]\n",
    "\n",
    "    return \"\\n\\n\" + \"\\n\\n\".join(enumerated_reddit_threads)\n"
   ]
  },
  {
   "cell_type": "code",
   "execution_count": 24,
   "metadata": {},
   "outputs": [],
   "source": [
    "from pydantic import BaseModel, Field\n",
    "from langchain_core.runnables import RunnablePassthrough\n",
    "\n",
    "\n",
    "class Citation(BaseModel):\n",
    "    source_id: int = Field(\n",
    "        ...,\n",
    "        description=\"The integer ID of a SPECIFIC source which justifies the answer.\",\n",
    "    )\n",
    "    quote: str = Field(\n",
    "        ...,\n",
    "        description=\"The VERBATIM quote from the specified source that justifies the answer.\",\n",
    "    )\n",
    "\n",
    "\n",
    "class QuotedAnswer(BaseModel):\n",
    "    \"\"\"Answer the user question based only on the given sources, and cite the sources used.\"\"\"\n",
    "\n",
    "    answer: str = Field(\n",
    "        ...,\n",
    "        description=\"The answer to the user question, which is based only on the given sources.\",\n",
    "    )\n",
    "    citations: List[Citation] = Field(\n",
    "        ..., description=\"Citations from the given sources that justify the answer.\"\n",
    "    )\n",
    "\n",
    "rag_chain_from_docs = (\n",
    "    RunnablePassthrough.assign(context=(lambda x: format_reddit_threads(x[\"context\"])))\n",
    "    | rag_prompt\n",
    "    | llm.with_structured_output(QuotedAnswer)\n",
    ")\n",
    "\n",
    "\n",
    "retrieve_docs = (lambda x: x[\"input\"]) | retriever\n",
    "\n",
    "chain = RunnablePassthrough.assign(context=retrieve_docs).assign(\n",
    "    answer=rag_chain_from_docs\n",
    ")"
   ]
  },
  {
   "cell_type": "code",
   "execution_count": 25,
   "metadata": {},
   "outputs": [],
   "source": [
    "result = chain.invoke({\"input\": f\"What is a must-eat food in {destination}?\"})"
   ]
  },
  {
   "cell_type": "code",
   "execution_count": 26,
   "metadata": {},
   "outputs": [
    {
     "data": {
      "text/plain": [
       "QuotedAnswer(answer='The Reddit threads provided do not mention specific must-eat foods in Chiang Mai, but you might find recommendations in the Chiang Mai Itinerary guide linked in the comments.', citations=[Citation(source_id=0, quote='- Here’s a helpful [Chiang Mai Itinerary](https://travelhiatus.com/the-\\n  perfect-4-days-in-chiang-mai-itinerary/) guide')])"
      ]
     },
     "execution_count": 26,
     "metadata": {},
     "output_type": "execute_result"
    }
   ],
   "source": [
    "result[\"answer\"]"
   ]
  },
  {
   "cell_type": "code",
   "execution_count": 27,
   "metadata": {},
   "outputs": [
    {
     "data": {
      "text/plain": [
       "'The Reddit threads provided do not mention specific must-eat foods in Chiang Mai, but you might find recommendations in the Chiang Mai Itinerary guide linked in the comments.'"
      ]
     },
     "execution_count": 27,
     "metadata": {},
     "output_type": "execute_result"
    }
   ],
   "source": [
    "result[\"answer\"].answer"
   ]
  },
  {
   "cell_type": "code",
   "execution_count": 28,
   "metadata": {},
   "outputs": [],
   "source": [
    "import json\n",
    "def format_citations_to_json(citations: List[Citation], retrieved_docs) -> str:\n",
    "    # Convert citations to list of dictionaries\n",
    "    citations_dict = [citation.model_dump() for citation in citations]\n",
    "    \n",
    "    # Add URLs using source_id\n",
    "    for citation in citations_dict:\n",
    "        citation[\"url\"] = retrieved_docs[citation[\"source_id\"]].metadata[\"url\"]\n",
    "    \n",
    "    \n",
    "    # Convert to JSON with proper formatting\n",
    "    json_output = json.dumps(citations_dict, indent=2)\n",
    "    return json_output"
   ]
  },
  {
   "cell_type": "code",
   "execution_count": 29,
   "metadata": {},
   "outputs": [
    {
     "name": "stdout",
     "output_type": "stream",
     "text": [
      "[\n",
      "  {\n",
      "    \"source_id\": 0,\n",
      "    \"quote\": \"- Here\\u2019s a helpful [Chiang Mai Itinerary](https://travelhiatus.com/the-\\n  perfect-4-days-in-chiang-mai-itinerary/) guide\",\n",
      "    \"url\": \"https://www.reddit.com/r/chiangmai/comments/1er2mj4/things_to_do_in_chiang_mai/\"\n",
      "  }\n",
      "]\n"
     ]
    }
   ],
   "source": [
    "print(format_citations_to_json(result[\"answer\"].citations, result['context']))"
   ]
  },
  {
   "cell_type": "code",
   "execution_count": 30,
   "metadata": {},
   "outputs": [
    {
     "name": "stdout",
     "output_type": "stream",
     "text": [
      "# Things to do in Chiang Mai\n",
      "\n",
      "## Original Post\n",
      "\n",
      "Hey guys! I'm an Irish Tourist and am in Chiang Mai for a few days Does anyone\n",
      "have any recommendations for food or drinks?  I love a good bar, and I love good\n",
      "food. Apart from that please feel free to mention any other cool stuff!\n",
      "(Picture: Mae Salong, Chiang Rai)\n",
      "\n",
      "### Comments\n",
      "\n",
      "- Here’s a helpful [Chiang Mai Itinerary](https://travelhiatus.com/the-\n",
      "  perfect-4-days-in-chiang-mai-itinerary/) guide\n",
      "- https://www.tripadvisor.com/Tourism-g293917-Chiang_Mai-Vacations.html\n",
      "- Go to santitham and never leave\n",
      "- Skugga estate, the queen's botanical garden and Elephant Nature Park and\n",
      "  sunday night market were our highlights.\n",
      "- Well the UN Irish pub for a pint of Guinness and there's plenty on that road\n",
      "  to keep you entertained.\n",
      "\n",
      "#### URL\n",
      "https://www.reddit.com/r/chiangmai/comments/1er2mj4/things_to_do_in_chiang_mai/\n",
      "Metadata\n",
      "{\n",
      "    \"comments\": \"### Comments\\n- Here\\u2019s a helpful [Chiang Mai Itinerary](https://travelhiatus.com/the-\\n  perfect-4-days-in-chiang-mai-itinerary/) guide\\n- https://www.tripadvisor.com/Tourism-g293917-Chiang_Mai-Vacations.html\\n- Go to santitham and never leave\\n- Skugga estate, the queen's botanical garden and Elephant Nature Park and\\n  sunday night market were our highlights.\\n- Well the UN Irish pub for a pint of Guinness and there's plenty on that road\\n  to keep you entertained.\",\n",
      "    \"content\": \"Hey guys! I'm an Irish Tourist and am in Chiang Mai for a few days\\nDoes anyone have any recommendations for food or drinks? \\nI love a good bar, and I love good food.\\nApart from that please feel free to mention any other cool stuff! \\n(Picture: Mae Salong, Chiang Rai)\\n\",\n",
      "    \"thread_id\": 4,\n",
      "    \"title\": \"Things to do in Chiang Mai\",\n",
      "    \"type\": \"reddit_thread\",\n",
      "    \"url\": \"https://www.reddit.com/r/chiangmai/comments/1er2mj4/things_to_do_in_chiang_mai/\"\n",
      "}\n"
     ]
    }
   ],
   "source": [
    "first_result = result['context'][0]\n",
    "print(first_result.page_content)\n",
    "\n",
    "print(\"Metadata\")\n",
    "\n",
    "import json\n",
    "\n",
    "print(json.dumps(\n",
    "    first_result.metadata,\n",
    "    sort_keys=False,\n",
    "    indent=4,\n",
    "    separators=(',', ': ')\n",
    "))"
   ]
  },
  {
   "cell_type": "code",
   "execution_count": 31,
   "metadata": {},
   "outputs": [
    {
     "data": {
      "text/plain": [
       "[Document(metadata={'comments': \"### Comments\\n- Here’s a helpful [Chiang Mai Itinerary](https://travelhiatus.com/the-\\n  perfect-4-days-in-chiang-mai-itinerary/) guide\\n- https://www.tripadvisor.com/Tourism-g293917-Chiang_Mai-Vacations.html\\n- Go to santitham and never leave\\n- Skugga estate, the queen's botanical garden and Elephant Nature Park and\\n  sunday night market were our highlights.\\n- Well the UN Irish pub for a pint of Guinness and there's plenty on that road\\n  to keep you entertained.\", 'content': \"Hey guys! I'm an Irish Tourist and am in Chiang Mai for a few days\\nDoes anyone have any recommendations for food or drinks? \\nI love a good bar, and I love good food.\\nApart from that please feel free to mention any other cool stuff! \\n(Picture: Mae Salong, Chiang Rai)\\n\", 'thread_id': 4, 'title': 'Things to do in Chiang Mai', 'type': 'reddit_thread', 'url': 'https://www.reddit.com/r/chiangmai/comments/1er2mj4/things_to_do_in_chiang_mai/'}, page_content=\"# Things to do in Chiang Mai\\n\\n## Original Post\\n\\nHey guys! I'm an Irish Tourist and am in Chiang Mai for a few days Does anyone\\nhave any recommendations for food or drinks?  I love a good bar, and I love good\\nfood. Apart from that please feel free to mention any other cool stuff!\\n(Picture: Mae Salong, Chiang Rai)\\n\\n### Comments\\n\\n- Here’s a helpful [Chiang Mai Itinerary](https://travelhiatus.com/the-\\n  perfect-4-days-in-chiang-mai-itinerary/) guide\\n- https://www.tripadvisor.com/Tourism-g293917-Chiang_Mai-Vacations.html\\n- Go to santitham and never leave\\n- Skugga estate, the queen's botanical garden and Elephant Nature Park and\\n  sunday night market were our highlights.\\n- Well the UN Irish pub for a pint of Guinness and there's plenty on that road\\n  to keep you entertained.\\n\\n#### URL\\nhttps://www.reddit.com/r/chiangmai/comments/1er2mj4/things_to_do_in_chiang_mai/\"),\n",
       " Document(metadata={'comments': \"### Comments\\n- Here’s a helpful [Chiang Mai Itinerary](https://travelhiatus.com/the-\\n  perfect-4-days-in-chiang-mai-itinerary/) guide\\n- https://www.tripadvisor.com/Tourism-g293917-Chiang_Mai-Vacations.html\\n- Go to santitham and never leave\\n- Skugga estate, the queen's botanical garden and Elephant Nature Park and\\n  sunday night market were our highlights.\\n- Well the UN Irish pub for a pint of Guinness and there's plenty on that road\\n  to keep you entertained.\", 'content': \"Hey guys! I'm an Irish Tourist and am in Chiang Mai for a few days\\nDoes anyone have any recommendations for food or drinks? \\nI love a good bar, and I love good food.\\nApart from that please feel free to mention any other cool stuff! \\n(Picture: Mae Salong, Chiang Rai)\\n\", 'thread_id': 4, 'title': 'Things to do in Chiang Mai', 'type': 'reddit_thread', 'url': 'https://www.reddit.com/r/chiangmai/comments/1er2mj4/things_to_do_in_chiang_mai/'}, page_content=\"# Things to do in Chiang Mai\\n\\n## Original Post\\n\\nHey guys! I'm an Irish Tourist and am in Chiang Mai for a few days Does anyone\\nhave any recommendations for food or drinks?  I love a good bar, and I love good\\nfood. Apart from that please feel free to mention any other cool stuff!\\n(Picture: Mae Salong, Chiang Rai)\\n\\n### Comments\\n\\n- Here’s a helpful [Chiang Mai Itinerary](https://travelhiatus.com/the-\\n  perfect-4-days-in-chiang-mai-itinerary/) guide\\n- https://www.tripadvisor.com/Tourism-g293917-Chiang_Mai-Vacations.html\\n- Go to santitham and never leave\\n- Skugga estate, the queen's botanical garden and Elephant Nature Park and\\n  sunday night market were our highlights.\\n- Well the UN Irish pub for a pint of Guinness and there's plenty on that road\\n  to keep you entertained.\\n\\n#### URL\\nhttps://www.reddit.com/r/chiangmai/comments/1er2mj4/things_to_do_in_chiang_mai/\"),\n",
       " Document(metadata={'comments': \"### Comments\\n- Here’s a helpful [Chiang Mai Itinerary](https://travelhiatus.com/the-\\n  perfect-4-days-in-chiang-mai-itinerary/) guide\\n- https://www.tripadvisor.com/Tourism-g293917-Chiang_Mai-Vacations.html\\n- Go to santitham and never leave\\n- Skugga estate, the queen's botanical garden and Elephant Nature Park and\\n  sunday night market were our highlights.\\n- Well the UN Irish pub for a pint of Guinness and there's plenty on that road\\n  to keep you entertained.\", 'content': \"Hey guys! I'm an Irish Tourist and am in Chiang Mai for a few days\\nDoes anyone have any recommendations for food or drinks? \\nI love a good bar, and I love good food.\\nApart from that please feel free to mention any other cool stuff! \\n(Picture: Mae Salong, Chiang Rai)\\n\", 'thread_id': 4, 'title': 'Things to do in Chiang Mai', 'type': 'reddit_thread', 'url': 'https://www.reddit.com/r/chiangmai/comments/1er2mj4/things_to_do_in_chiang_mai/'}, page_content=\"# Things to do in Chiang Mai\\n\\n## Original Post\\n\\nHey guys! I'm an Irish Tourist and am in Chiang Mai for a few days Does anyone\\nhave any recommendations for food or drinks?  I love a good bar, and I love good\\nfood. Apart from that please feel free to mention any other cool stuff!\\n(Picture: Mae Salong, Chiang Rai)\\n\\n### Comments\\n\\n- Here’s a helpful [Chiang Mai Itinerary](https://travelhiatus.com/the-\\n  perfect-4-days-in-chiang-mai-itinerary/) guide\\n- https://www.tripadvisor.com/Tourism-g293917-Chiang_Mai-Vacations.html\\n- Go to santitham and never leave\\n- Skugga estate, the queen's botanical garden and Elephant Nature Park and\\n  sunday night market were our highlights.\\n- Well the UN Irish pub for a pint of Guinness and there's plenty on that road\\n  to keep you entertained.\\n\\n#### URL\\nhttps://www.reddit.com/r/chiangmai/comments/1er2mj4/things_to_do_in_chiang_mai/\")]"
      ]
     },
     "execution_count": 31,
     "metadata": {},
     "output_type": "execute_result"
    }
   ],
   "source": [
    "# Here's all the context\n",
    "result['context']"
   ]
  },
  {
   "cell_type": "markdown",
   "metadata": {},
   "source": [
    "### Generate list of cited claims to add to the enriched RAG answer\n",
    "* Small change in architecture: our program will output a list of cited claims, which is then passed into the LLM to generate the final answer."
   ]
  },
  {
   "cell_type": "code",
   "execution_count": 32,
   "metadata": {},
   "outputs": [],
   "source": [
    "rag_queries = [\n",
    "    # Core travel information\n",
    "    f\"What are the most underrated or secret spots in {destination} that tourists usually miss?\",\n",
    "    f\"What's the current situation with tourists in {destination} as of 2024?\",\n",
    "    f\"What are common tourist scams to avoid in {destination} right now?\",\n",
    "    \n",
    "    # Local insights\n",
    "    f\"Locals of {destination}, what tips would you give to tourists in 2024?\",\n",
    "    f\"What are the best neighborhoods to stay in {destination} for different budgets?\",\n",
    "    f\"What's the best way to get around {destination} nowadays?\",\n",
    "    \n",
    "    # Food and culture\n",
    "    f\"What are must-try local foods in {destination} and where to find them?\",\n",
    "    f\"What cultural faux pas should tourists avoid in {destination}?\",\n",
    "    f\"Which local festivals or events are worth planning a trip around in {destination}?\",\n",
    "    \n",
    "    # Practical advice\n",
    "    f\"How much does everything cost in {destination} in 2024?\",\n",
    "    f\"What's the best time to visit {destination} and why?\",\n",
    "    f\"What should I absolutely pack for {destination} that most tourists forget?\",\n",
    "    \n",
    "    # Safety and logistics\n",
    "    f\"How safe is {destination} for solo travelers in 2024?\",\n",
    "    f\"What areas should tourists avoid in {destination}?\",\n",
    "    f\"What's the current transportation situation in {destination}?\"\n",
    "]"
   ]
  },
  {
   "cell_type": "code",
   "execution_count": 35,
   "metadata": {},
   "outputs": [],
   "source": [
    "from typing import List, Dict, Tuple\n",
    "import re\n",
    "\n",
    "def generate_qa_pairs(destination: str, chain, queries: List[str]) -> List[Tuple[str, str]]:\n",
    "    qa_pairs = []\n",
    "    \n",
    "    for query in queries:\n",
    "        \n",
    "        # Get relevant documents from the retriever\n",
    "        result = chain.invoke({\"input\": query})\n",
    "        \n",
    "        if not result:\n",
    "            print(f\"Unable to get result for query {query}, skipping\")\n",
    "            continue\n",
    "        \n",
    "        retrieved_docs = result['context']\n",
    "        \n",
    "        # Generate answer using a template\n",
    "        answer = result['answer'].answer\n",
    "        citations = format_citations_to_json(result['answer'].citations, retrieved_docs)\n",
    "        \n",
    "        \n",
    "        \n",
    "        answer = f\"Based on recent Reddit discussions:\\n{answer}\\nCitations:\\n{citations}\"\n",
    "            \n",
    "        qa_pairs.append((query, answer, citations, retrieved_docs)) # also store retireved docs for benchmarking\n",
    "    \n",
    "    return qa_pairs"
   ]
  },
  {
   "cell_type": "markdown",
   "metadata": {},
   "source": [
    "### Generate Answer"
   ]
  },
  {
   "cell_type": "code",
   "execution_count": null,
   "metadata": {},
   "outputs": [],
   "source": [
    "qa_pairs = generate_qa_pairs(destination=destination, chain=chain, queries=rag_queries)\n",
    "reddit_insights = \"\\n\\n\".join([\n",
    "        f\"{i+1}.\\nQ: {q}\\nA: {a}\" for i, (q, a, citations, retrieve_docs) in enumerate(qa_pairs)\n",
    "    ])"
   ]
  },
  {
   "cell_type": "code",
   "execution_count": 47,
   "metadata": {},
   "outputs": [
    {
     "name": "stdout",
     "output_type": "stream",
     "text": [
      "1.\n",
      "Q: What are the most underrated or secret spots in Chiang Mai that tourists usually miss?\n",
      "A: Based on recent Reddit discussions:\n",
      "Some underrated or secret spots in Chiang Mai that tourists might miss include the Sticky Waterfall, which is a unique natural wonder that can be quite surprising. Another spot is Monjam, where you can stay in 'bubble' glamping hotels with beautiful mountain views. Additionally, exploring areas around CMU University can reveal more authentic 'Thai-based' places. Thapae East is also recommended for music lovers looking for less crowded venues.\n",
      "Citations:\n",
      "[\n",
      "  {\n",
      "    \"source_id\": 0,\n",
      "    \"quote\": \"- Sticky waterfall: a wonder that will mess with your brain. North gate jazz\\nco-op: little jazz bar that always seems like the only place in Chiangmai full\\nof people. Open mike nights and very lively. Elely cafe: little riverside\\ncafe with 2 elephants. Which are massively overshadowed by about 20\\ndachshunds.\",\n",
      "    \"url\": \"https://www.reddit.com/r/chiangmai/comments/1evxoyu/4_days_trip_in_chiang_mai_any_suggestions_for/\"\n",
      "  },\n",
      "  {\n",
      "    \"source_id\": 0,\n",
      "    \"quote\": \"- Spend a night in Monjam in these \\\"bubble\\\" \\\"Glamping\\\" hotels with a beautiful\\nview on the mountains.\",\n",
      "    \"url\": \"https://www.reddit.com/r/chiangmai/comments/1evxoyu/4_days_trip_in_chiang_mai_any_suggestions_for/\"\n",
      "  },\n",
      "  {\n",
      "    \"source_id\": 0,\n",
      "    \"quote\": \"- The old city, the 'main square' of the city, is the most populated with\\ntourists and is gearded towards them. I recommend you explore any area around\\nthe main city to discover the more 'thai-based' places. Around CMU University\\nis lovely.\",\n",
      "    \"url\": \"https://www.reddit.com/r/chiangmai/comments/1evxoyu/4_days_trip_in_chiang_mai_any_suggestions_for/\"\n",
      "  },\n",
      "  {\n",
      "    \"source_id\": 0,\n",
      "    \"quote\": \"- Thapae east for music :)\",\n",
      "    \"url\": \"https://www.reddit.com/r/chiangmai/comments/1evxoyu/4_days_trip_in_chiang_mai_any_suggestions_for/\"\n",
      "  }\n",
      "]\n",
      "\n",
      "1.\n",
      "Q: What's the current situation with tourists in Chiang Mai as of 2024?\n",
      "A: Based on recent Reddit discussions:\n",
      "I don't know.\n",
      "Citations:\n",
      "[]\n"
     ]
    }
   ],
   "source": [
    "print(reddit_insights)"
   ]
  },
  {
   "cell_type": "code",
   "execution_count": 50,
   "metadata": {},
   "outputs": [],
   "source": [
    "rag_system_prompt = f\"\"\"You are a knowledgeable travel assistant. Provide a comprehensive and well-structured guide for the specified destination. Your response should be detailed, accurate, and formatted using markdown.\n",
    "\n",
    "The following information in the form of question-answer pairs with citations has been verified from recent Reddit discussions and should be incorporated into your response. Each piece of information you use must be cited with a number in brackets (e.g., [1], [2]). Only include information that has citations:\n",
    "\n",
    "{reddit_insights}\n",
    "\n",
    "Make sure you follow these guidelines:\n",
    "\n",
    "1. Begin with a brief introduction about the destination.\n",
    "2. Use level 2 headers (##) to separate main sections.\n",
    "3. Use bolding (**) for subsections or important points within sections.\n",
    "4. Include exclusively the following sections in exactly this order:\n",
    "   - Best Time to Visit\n",
    "   - Top Attractions\n",
    "   - Local Culture and Etiquette\n",
    "   - Getting Around\n",
    "   - Food and Dining\n",
    "   - Accommodation\n",
    "   - Safety and Health\n",
    "   - Budget Tips\n",
    "   - Unique Experiences\n",
    "   - Essential Phrases (if applicable)\n",
    "\n",
    "5. Provide practical, up-to-date information and insider tips.\n",
    "6. Use bullet points sparingly, preferring well-structured paragraphs.\n",
    "7. Cite every factual claim using numbers in brackets (e.g., \"The temple is beautiful[1]\").\n",
    "8. At the end of your response, include a \"Citations\" section with all referenced quotes in this exact format:\n",
    "   [1] \"exact quote from source\" - source_url\n",
    "   [2] \"exact quote from source\" - source_url\n",
    "\n",
    "9. Every citation must include both the exact quote and its source URL.\n",
    "10. Do not include any information from answers that express uncertainty or lack of knowledge.\n",
    "11. Make sure every citation in your text corresponds to a quote in the Citations section.\n",
    "\n",
    "Aim for a comprehensive guide that's easy to read and informative for travelers.\"\"\""
   ]
  },
  {
   "cell_type": "code",
   "execution_count": 51,
   "metadata": {},
   "outputs": [
    {
     "name": "stdout",
     "output_type": "stream",
     "text": [
      "You are a knowledgeable travel assistant. Provide a comprehensive and well-structured guide for the specified destination. Your response should be detailed, accurate, and formatted using markdown.\n",
      "\n",
      "The following information in the form of question-answer pairs with citations has been verified from recent Reddit discussions and should be incorporated into your response. Each piece of information you use must be cited with a number in brackets (e.g., [1], [2]). Only include information that has citations:\n",
      "\n",
      "1.\n",
      "Q: What are the most underrated or secret spots in Chiang Mai that tourists usually miss?\n",
      "A: Based on recent Reddit discussions:\n",
      "Some underrated or secret spots in Chiang Mai that tourists might miss include the Sticky Waterfall, which is a unique natural wonder that can be quite surprising. Another spot is Monjam, where you can stay in 'bubble' glamping hotels with beautiful mountain views. Additionally, exploring areas around CMU University can reveal more authentic 'Thai-based' places. Thapae East is also recommended for music lovers looking for less crowded venues.\n",
      "Citations:\n",
      "[\n",
      "  {\n",
      "    \"source_id\": 0,\n",
      "    \"quote\": \"- Sticky waterfall: a wonder that will mess with your brain. North gate jazz\\nco-op: little jazz bar that always seems like the only place in Chiangmai full\\nof people. Open mike nights and very lively. Elely cafe: little riverside\\ncafe with 2 elephants. Which are massively overshadowed by about 20\\ndachshunds.\",\n",
      "    \"url\": \"https://www.reddit.com/r/chiangmai/comments/1evxoyu/4_days_trip_in_chiang_mai_any_suggestions_for/\"\n",
      "  },\n",
      "  {\n",
      "    \"source_id\": 0,\n",
      "    \"quote\": \"- Spend a night in Monjam in these \\\"bubble\\\" \\\"Glamping\\\" hotels with a beautiful\\nview on the mountains.\",\n",
      "    \"url\": \"https://www.reddit.com/r/chiangmai/comments/1evxoyu/4_days_trip_in_chiang_mai_any_suggestions_for/\"\n",
      "  },\n",
      "  {\n",
      "    \"source_id\": 0,\n",
      "    \"quote\": \"- The old city, the 'main square' of the city, is the most populated with\\ntourists and is gearded towards them. I recommend you explore any area around\\nthe main city to discover the more 'thai-based' places. Around CMU University\\nis lovely.\",\n",
      "    \"url\": \"https://www.reddit.com/r/chiangmai/comments/1evxoyu/4_days_trip_in_chiang_mai_any_suggestions_for/\"\n",
      "  },\n",
      "  {\n",
      "    \"source_id\": 0,\n",
      "    \"quote\": \"- Thapae east for music :)\",\n",
      "    \"url\": \"https://www.reddit.com/r/chiangmai/comments/1evxoyu/4_days_trip_in_chiang_mai_any_suggestions_for/\"\n",
      "  }\n",
      "]\n",
      "\n",
      "1.\n",
      "Q: What's the current situation with tourists in Chiang Mai as of 2024?\n",
      "A: Based on recent Reddit discussions:\n",
      "I don't know.\n",
      "Citations:\n",
      "[]\n",
      "\n",
      "Make sure you follow these guidelines:\n",
      "\n",
      "1. Begin with a brief introduction about the destination.\n",
      "2. Use level 2 headers (##) to separate main sections.\n",
      "3. Use bolding (**) for subsections or important points within sections.\n",
      "4. Include exclusively the following sections in exactly this order:\n",
      "   - Best Time to Visit\n",
      "   - Top Attractions\n",
      "   - Local Culture and Etiquette\n",
      "   - Getting Around\n",
      "   - Food and Dining\n",
      "   - Accommodation\n",
      "   - Safety and Health\n",
      "   - Budget Tips\n",
      "   - Unique Experiences\n",
      "   - Essential Phrases (if applicable)\n",
      "\n",
      "5. Provide practical, up-to-date information and insider tips.\n",
      "6. Use bullet points sparingly, preferring well-structured paragraphs.\n",
      "7. Cite every factual claim using numbers in brackets (e.g., \"The temple is beautiful[1]\").\n",
      "8. At the end of your response, include a \"Citations\" section with all referenced quotes in this exact format:\n",
      "   [1] \"exact quote from source\" - source_url\n",
      "   [2] \"exact quote from source\" - source_url\n",
      "\n",
      "9. Every citation must include both the exact quote and its source URL.\n",
      "10. Do not include any information from answers that express uncertainty or lack of knowledge.\n",
      "11. Make sure every citation in your text corresponds to a quote in the Citations section.\n",
      "\n",
      "Aim for a comprehensive guide that's easy to read and informative for travelers.\n"
     ]
    }
   ],
   "source": [
    "print(rag_system_prompt)"
   ]
  },
  {
   "cell_type": "markdown",
   "metadata": {},
   "source": [
    "### Add Citations to Answer"
   ]
  },
  {
   "cell_type": "code",
   "execution_count": 52,
   "metadata": {},
   "outputs": [
    {
     "data": {
      "text/markdown": [
       "# Comprehensive Travel Guide to Chiang Mai\n",
       "\n",
       "Chiang Mai is a vibrant city in northern Thailand, known for its rich history, cultural heritage, and beautiful landscapes. As a hub of culture and adventure, it offers an array of experiences from ancient temples to bustling local markets and serene nature getaways. Here's a detailed guide to help you make the most of your visit to Chiang Mai.\n",
       "\n",
       "## Best Time to Visit\n",
       "\n",
       "**Cool Season (November - February):** This is the most popular time to visit Chiang Mai, as the weather is cooler and more comfortable for outdoor activities. \n",
       "\n",
       "**Hot Season (March - May):** Temperatures can get quite high, but this could be a good time to explore indoor attractions and enjoy the local festivals.\n",
       "\n",
       "**Rainy Season (June - October):** While the city experiences frequent rainfall, the lush greenery and fewer tourists can make the visit worthwhile.\n",
       "\n",
       "## Top Attractions\n",
       "\n",
       "Chiang Mai is home to numerous attractions, both well-known and hidden gems.\n",
       "\n",
       "- **Sticky Waterfall (Bua Tong Waterfall):** A unique natural wonder where you can climb the limestone tiers of the waterfall without slipping, which offers a surprising and fun-filled day trip [1].\n",
       "\n",
       "- **Monjam:** Experience staying in \"bubble\" glamping hotels offering stunning mountain views. It's perfect for those seeking a unique accommodation experience amid nature [2].\n",
       "\n",
       "- **CMU University Area:** This area provides an authentic local experience with less touristy spots. It's a fantastic place to explore the daily life and culture of the locals [3].\n",
       "\n",
       "- **Thapae East:** A must-visit for music lovers, offering vibrant local music scenes with less crowded venues [4].\n",
       "\n",
       "## Local Culture and Etiquette\n",
       "\n",
       "Chiang Mai's culture is deeply rooted in tradition and hospitality.\n",
       "\n",
       "- **Respect for Temples:** When visiting Buddhist temples, dress modestly, remove your shoes, and behave respectfully.\n",
       "- **Thai Greetings (Wai):** The traditional Thai greeting involves a slight bow with hands pressed together and is a sign of respect.\n",
       "\n",
       "## Getting Around\n",
       "\n",
       "The city is compact and easy to navigate.\n",
       "\n",
       "- **Songthaews:** These red trucks serve as shared taxis and are an affordable way to travel around the city.\n",
       "- **Motorbike Rentals:** For more independence, renting a motorbike could be a good option, but always wear a helmet.\n",
       "\n",
       "## Food and Dining\n",
       "\n",
       "Chiang Mai offers a culinary feast with flavorsome Northern Thai cuisine.\n",
       "\n",
       "- **Night Markets:** Discover a variety of local foods such as Khao Soi (curry noodle soup) and Sai Oua (Northern Thai sausage).\n",
       "- **Cooking Classes:** Participating in a cooking class can provide insight into the preparation of traditional dishes.\n",
       "\n",
       "## Accommodation\n",
       "\n",
       "Whether you're looking for luxury or budget-friendly options, Chiang Mai has something for every traveler.\n",
       "\n",
       "- **Luxury Stays:** Indulge in high-end hotels or resorts that offer exceptional comfort and hospitality.\n",
       "- **Budget Options:** Guesthouses and hostels are abundant and provide affordable lodging without sacrificing quality.\n",
       "\n",
       "## Safety and Health\n",
       "\n",
       "Chiang Mai is generally a safe destination, but it's always wise to take standard precautions.\n",
       "\n",
       "- **Travel Insurance:** Ensure you have coverage for healthcare and accidents.\n",
       "\n",
       "## Budget Tips\n",
       "\n",
       "Visiting Chiang Mai can be very affordable with a bit of planning.\n",
       "\n",
       "- **Street Food:** Opt for street food, which is not only cheaper but delicious.\n",
       "- **Public Transport:** Use public transportation like buses and songthaews to save on transportation costs.\n",
       "\n",
       "## Unique Experiences\n",
       "\n",
       "Discover some of the lesser-known but highly rewarding experiences.\n",
       "\n",
       "- **Explore Hidden Spots:** Don't miss out on spots like the Sticky Waterfall and Monjam for a unique blend of adventure and relaxation [1][2].\n",
       "\n",
       "## Citations\n",
       "\n",
       "[1] \"- Sticky waterfall: a wonder that will mess with your brain.\" - [Reddit](https://www.reddit.com/r/chiangmai/comments/1evxoyu/4_days_trip_in_chiang_mai_any_suggestions_for/)\n",
       "\n",
       "[2] \"- Spend a night in Monjam in these \\\"bubble\\\" \\\"Glamping\\\" hotels with a beautiful view on the mountains.\" - [Reddit](https://www.reddit.com/r/chiangmai/comments/1evxoyu/4_days_trip_in_chiang_mai_any_suggestions_for/)\n",
       "\n",
       "[3] \"- Around CMU University is lovely.\" - [Reddit](https://www.reddit.com/r/chiangmai/comments/1evxoyu/4_days_trip_in_chiang_mai_any_suggestions_for/)\n",
       "\n",
       "[4] \"- Thapae east for music :)\" - [Reddit](https://www.reddit.com/r/chiangmai/comments/1evxoyu/4_days_trip_in_chiang_mai_any_suggestions_for/)"
      ],
      "text/plain": [
       "<IPython.core.display.Markdown object>"
      ]
     },
     "metadata": {},
     "output_type": "display_data"
    }
   ],
   "source": [
    "destination = \"Chiang Mai\"\n",
    "stream = client.chat.completions.create(\n",
    "    model=\"gpt-4o\",\n",
    "    messages=[\n",
    "        {\"role\": \"system\", \"content\": rag_system_prompt},\n",
    "        {\"role\": \"user\", \"content\": f\"Provide key travel tips for {destination}\"}\n",
    "    ],\n",
    "    stream=True\n",
    ")\n",
    "\n",
    "full_response = \"\"\n",
    "for chunk in stream:\n",
    "    if chunk.choices[0].delta.content is not None:\n",
    "        content = chunk.choices[0].delta.content\n",
    "        full_response += content\n",
    "        \n",
    "        # Clear the current output and display the updated markdown\n",
    "        clear_output(wait=True)\n",
    "        display(Markdown(full_response))\n",
    "        \n",
    "        # Add a small delay to make the streaming visible\n",
    "        time.sleep(0.01)"
   ]
  },
  {
   "cell_type": "markdown",
   "metadata": {},
   "source": [
    "### Evaluate citations using NLI model (from RAG - tutorial slides)"
   ]
  },
  {
   "cell_type": "code",
   "execution_count": null,
   "metadata": {},
   "outputs": [],
   "source": [
    "# download huggingface model and do stuff"
   ]
  },
  {
   "cell_type": "markdown",
   "metadata": {},
   "source": [
    "### Present With Rag / Without RAG relevance (the evaluation step)"
   ]
  },
  {
   "cell_type": "code",
   "execution_count": null,
   "metadata": {},
   "outputs": [],
   "source": []
  }
 ],
 "metadata": {
  "kernelspec": {
   "display_name": "Python 3",
   "language": "python",
   "name": "python3"
  },
  "language_info": {
   "codemirror_mode": {
    "name": "ipython",
    "version": 3
   },
   "file_extension": ".py",
   "mimetype": "text/x-python",
   "name": "python",
   "nbconvert_exporter": "python",
   "pygments_lexer": "ipython3",
   "version": "3.9.6"
  }
 },
 "nbformat": 4,
 "nbformat_minor": 2
}
