{
 "cells": [
  {
   "cell_type": "markdown",
   "metadata": {},
   "source": [
    "# abc Trip Planner (MVP)\n",
    "\n",
    "Members\n",
    "* Daniel Jiang (1009509)\n",
    "* John Mo (1009513)\n",
    "* Timothy Zheng (1009502)\n",
    "\n",
    "## Notes\n",
    "\n",
    "To run this program, you will need to create and populate a `.env` file with your OpenAI API key\n",
    "\n",
    "`.env`\n",
    "\n",
    "```bash\n",
    "OPENAI_API_KEY = \"your_key_here\"\n",
    "```\n",
    "\n",
    "### TODO\n",
    "* Set up OpenAI key\n",
    "* Implement LLM\n",
    "* RAG system\n",
    "* (eval) compare to \"ground truth\"\n",
    "\n",
    "### Innovative \"ideas\"\n",
    "* Take note of the places LLM suggests, then make LLM system search online for the prices of places. Then output estimated cost of trip.\n",
    "* Approach the topic as a \"narrative journey\": Add the history of places, culture, etc and make attractions \"references\" to the narrative, instead of the primary focus. Make the narrative the primary focus.\n",
    "* Attach a packing list\n",
    "* Implement weather forecast into trip plan"
   ]
  },
  {
   "cell_type": "code",
   "execution_count": 40,
   "metadata": {},
   "outputs": [
    {
     "name": "stdout",
     "output_type": "stream",
     "text": [
      "Found existing installation: pandas 2.2.3\n",
      "Uninstalling pandas-2.2.3:\n",
      "  Successfully uninstalled pandas-2.2.3\n",
      "Note: you may need to restart the kernel to use updated packages.\n",
      "Found existing installation: numpy 1.26.4\n",
      "Uninstalling numpy-1.26.4:\n",
      "  Successfully uninstalled numpy-1.26.4\n",
      "Note: you may need to restart the kernel to use updated packages.\n",
      "Found existing installation: pytz 2024.2\n",
      "Uninstalling pytz-2024.2:\n",
      "  Successfully uninstalled pytz-2024.2\n",
      "Note: you may need to restart the kernel to use updated packages.\n",
      "Found existing installation: python-dateutil 2.9.0.post0\n",
      "Uninstalling python-dateutil-2.9.0.post0:\n",
      "  Successfully uninstalled python-dateutil-2.9.0.post0\n",
      "Note: you may need to restart the kernel to use updated packages.\n"
     ]
    }
   ],
   "source": [
    "%pip uninstall pandas -y\n",
    "%pip uninstall numpy -y\n",
    "%pip uninstall pytz -y\n",
    "%pip uninstall python-dateutil -y"
   ]
  },
  {
   "cell_type": "code",
   "execution_count": 41,
   "metadata": {},
   "outputs": [
    {
     "name": "stdout",
     "output_type": "stream",
     "text": [
      "Note: you may need to restart the kernel to use updated packages.\n",
      "Note: you may need to restart the kernel to use updated packages.\n",
      "Note: you may need to restart the kernel to use updated packages.\n",
      "Note: you may need to restart the kernel to use updated packages.\n",
      "Note: you may need to restart the kernel to use updated packages.\n",
      "Note: you may need to restart the kernel to use updated packages.\n",
      "Note: you may need to restart the kernel to use updated packages.\n",
      "Note: you may need to restart the kernel to use updated packages.\n"
     ]
    }
   ],
   "source": [
    "%pip install --upgrade pip --quiet\n",
    "%pip install openai --quiet\n",
    "%pip install python-dotenv --quiet\n",
    "%pip install praw --quiet\n",
    "%pip install pydantic --quiet\n",
    "%pip install langchain-community --quiet\n",
    "%pip install bs4 --quiet\n",
    "%pip install pandas --quiet"
   ]
  },
  {
   "cell_type": "code",
   "execution_count": 42,
   "metadata": {},
   "outputs": [
    {
     "data": {
      "text/plain": [
       "True"
      ]
     },
     "execution_count": 42,
     "metadata": {},
     "output_type": "execute_result"
    }
   ],
   "source": [
    "from openai import OpenAI\n",
    "from dotenv import load_dotenv\n",
    "from IPython.display import display, Markdown, clear_output\n",
    "import time\n",
    "\n",
    "load_dotenv() # Requires .env file"
   ]
  },
  {
   "cell_type": "code",
   "execution_count": 43,
   "metadata": {},
   "outputs": [],
   "source": [
    "client = OpenAI()\n",
    "\n",
    "system_prompt = \"\"\"You are a knowledgeable travel assistant. Provide a comprehensive and well-structured guide for the specified destination. Your response should be detailed, accurate, and formatted using markdown. Follow these guidelines:\n",
    "\n",
    "1. Begin with a brief introduction about the destination.\n",
    "2. Use level 2 headers (##) to separate main sections.\n",
    "3. Use bolding (**) for subsections or important points within sections.\n",
    "4. Include exclusively the following sections in exactly this order.\n",
    "   - Best Time to Visit\n",
    "   - Top Attractions\n",
    "   - Local Culture and Etiquette\n",
    "   - Getting Around\n",
    "   - Food and Dining\n",
    "   - Accommodation\n",
    "   - Safety and Health\n",
    "   - Budget Tips\n",
    "   - Unique Experiences\n",
    "   - Essential Phrases (if applicable)\n",
    "\n",
    "5. Provide practical, up-to-date information and insider tips, highlighting any date-specific events if possible.\n",
    "6. Use bullet points sparingly, preferring well-structured paragraphs.\n",
    "7. Include any recent developments or changes affecting travel to the destination.\n",
    "8. Conclude with a brief summary or final travel tip.\n",
    "\n",
    "Aim for a comprehensive guide that's easy to read and informative for travelers.\"\"\""
   ]
  },
  {
   "cell_type": "code",
   "execution_count": 44,
   "metadata": {},
   "outputs": [
    {
     "data": {
      "text/markdown": [
       "# Travel Guide to Chiang Mai\n",
       "\n",
       "Chiang Mai, located in the mountainous region of northern Thailand, is renowned for its rich history, vibrant culture, and stunning natural landscapes. Once the capital of the ancient Lanna Kingdom, Chiang Mai today blends traditional Thai customs with a cosmopolitan atmosphere, making it a must-visit destination for travelers seeking both cultural diversity and modern comforts.\n",
       "\n",
       "## Best Time to Visit\n",
       "\n",
       "The ideal time to visit Chiang Mai is during the **cool season** from November to February. During this period, the weather is comfortable, with temperatures ranging between 15°C to 28°C (59°F to 82°F), making it perfect for outdoor activities and sightseeing. November also marks the **Loy Krathong Festival**, a magical event where locals float decorated baskets on water bodies. The **hot season** from March to June can be quite warm, with temperatures soaring above 35°C (95°F). The **rainy season** from July to October sees heavy showers but vibrant green landscapes.\n",
       "\n",
       "## Top Attractions\n",
       "\n",
       "Chiang Mai is dotted with ancient temples, vibrant markets, and scenic spots:\n",
       "\n",
       "- **Wat Phra That Doi Suthep**: This iconic temple sits atop Doi Suthep mountain, offering panoramic views of the city. Don’t miss the striking gold stupa and intricate murals.\n",
       "- **Old City Temples**: Within the ancient walls of Chiang Mai’s Old City, explore historic temples such as Wat Chedi Luang and Wat Phra Singh, each showcasing unique architectural styles.\n",
       "- **Chiang Mai Night Bazaar**: A lively spot for shopping and dining, the Night Bazaar is where you can buy handicrafts, art, and souvenirs.\n",
       "- **Doi Inthanon National Park**: Known as the \"Roof of Thailand,\" it features hiking trails, waterfalls, and the country’s highest peak.\n",
       "- **Elephant Nature Park**: A sanctuary dedicated to the rescue and rehabilitation of elephants, offering an ethical way to see these majestic animals.\n",
       "\n",
       "## Local Culture and Etiquette\n",
       "\n",
       "Chiang Mai is deeply rooted in Thai Buddhist culture, and visitors should be mindful of local customs:\n",
       "\n",
       "- **Respect for Monks**: Monks are highly revered. Women should not touch monks or hand items directly to them.\n",
       "- **Dress Modestly**: When visiting temples, cover your shoulders and knees. Remove shoes before entering temple buildings.\n",
       "- **Respectful Greetings**: The traditional greeting is the “wai,” done by placing your hands together in a prayer-like gesture and slightly bowing.\n",
       "- **Royal Respect**: Show respect for the Thai monarchy, which is an integral part of the Thai identity.\n",
       "\n",
       "## Getting Around\n",
       "\n",
       "Navigating Chiang Mai is relatively easy and offers various modes of transportation:\n",
       "\n",
       "- **Songthaews**: These red trucks are a common means of shared transportation and can be flagged down or hired for private trips.\n",
       "- **Tuk-tuks**: A quick and fun way to travel short distances. Agree on a fare before starting your ride.\n",
       "- **Bicycles/Scooters**: Renting bicycles or scooters is popular for exploring at your own pace. Be cautious of traffic.\n",
       "- **Public Buses**: Although limited, there are local buses for affordable travel between main districts.\n",
       "\n",
       "## Food and Dining\n",
       "\n",
       "Chiang Mai is a culinary haven, offering authentic Thai flavors:\n",
       "\n",
       "- **Khao Soi**: A famous northern Thai dish, this coconut curry noodle soup is a must-try.\n",
       "- **Street Food Markets**: Explore street markets like the Chiang Mai Gate Market for an array of local snacks and dishes.\n",
       "- **Vegetarian-Friendly**: Chiang Mai has numerous vegetarian and vegan-friendly eateries, reflecting the city’s popularity with health-conscious travelers.\n",
       "- **Cookery Classes**: Participate in a local cooking class to learn how to prepare traditional Thai meals.\n",
       "\n",
       "## Accommodation\n",
       "\n",
       "Chiang Mai offers diverse accommodation options to suit different budgets and tastes:\n",
       "\n",
       "- **Guesthouses/Home Stays**: Perfect for budget travelers looking to experience local hospitality.\n",
       "- **Boutique Hotels**: These hotels often combine Lanna architecture with modern amenities.\n",
       "- **Luxury Resorts**: For those seeking indulgence, luxury resorts around the city provide top-tier service and facilities.\n",
       "\n",
       "## Safety and Health\n",
       "\n",
       "Chiang Mai is generally safe, but it’s wise to stay vigilant:\n",
       "\n",
       "- **Insect Protection**: Use insect repellent to guard against mosquitoes, especially in the evening and during monsoon months.\n",
       "- **Air Quality**: In February to April, the air quality can drop due to agricultural burning. Wearing a mask may be advisable.\n",
       "- **Travel Insurance**: Ensure you have comprehensive travel insurance covering health emergencies.\n",
       "\n",
       "## Budget Tips\n",
       "\n",
       "Traveling in Chiang Mai can be affordable with these tips:\n",
       "\n",
       "- **Local Eateries**: Eating at local street stalls and markets is both economical and delicious.\n",
       "- **Bargaining**: It’s customary to bargain at markets. Approach it with a friendly smile.\n",
       "- **Attractions**: Many temples and outdoor attractions have low or no entrance fees.\n",
       "\n",
       "## Unique Experiences\n",
       "\n",
       "For a truly unique experience in Chiang Mai:\n",
       "\n",
       "- **Loy Krathong and Yi Peng Lantern Festivals**: Held in November, experience the enchanting sight of thousands of lanterns illuminating the night sky.\n",
       "- **Lanna Heritage and Crafts**: Visit local workshops to learn traditional crafts like weaving and wood carving.\n",
       "- **Yoga Retreats**: Chiang Mai's tranquil setting is ideal for rejuvenating yoga retreats.\n",
       "\n",
       "## Essential Phrases\n",
       "\n",
       "While English is widely understood, using a few Thai phrases enhances interactions:\n",
       "\n",
       "- **Sawasdee (kha/krub)**: Hello/Goodbye\n",
       "- **Khop Khun (kha/krub)**: Thank you\n",
       "- **Mai Pen Rai**: It’s okay/No problem\n",
       "- **Chan (female)/Pom (male) Mai Kao Jai**: I don’t understand\n",
       "\n",
       "In conclusion, Chiang Mai offers a richly rewarding experience filled with history, culture, and natural beauty. Be sure to time your visit to coincide with one of the city's many festivals for an unforgettable experience. Safe travels!"
      ],
      "text/plain": [
       "<IPython.core.display.Markdown object>"
      ]
     },
     "metadata": {},
     "output_type": "display_data"
    }
   ],
   "source": [
    "destination = \"Chiang Mai\"\n",
    "stream = client.chat.completions.create(\n",
    "    model=\"gpt-4o\",\n",
    "    messages=[\n",
    "        {\"role\": \"system\", \"content\": system_prompt},\n",
    "        {\"role\": \"user\", \"content\": f\"Provide key travel tips for {destination}\"}\n",
    "    ],\n",
    "    stream=True\n",
    ")\n",
    "\n",
    "full_response = \"\"\n",
    "for chunk in stream:\n",
    "    if chunk.choices[0].delta.content is not None:\n",
    "        content = chunk.choices[0].delta.content\n",
    "        full_response += content\n",
    "        \n",
    "        # Clear the current output and display the updated markdown\n",
    "        clear_output(wait=True)\n",
    "        display(Markdown(full_response))\n",
    "        \n",
    "        # Add a small delay to make the streaming visible\n",
    "        time.sleep(0.01)"
   ]
  },
  {
   "cell_type": "markdown",
   "metadata": {},
   "source": [
    "***\n",
    "\n",
    "## RAG Implementation"
   ]
  },
  {
   "cell_type": "markdown",
   "metadata": {},
   "source": [
    "## TODO: Need to create system that dynamically finds reddit threads (maybe tripadvisor if time permits) given a location (refer to the diagram in slides to implement)\n",
    "* Searches google API for places based on \"things to do in <location> site:reddit.com\" etc."
   ]
  },
  {
   "cell_type": "code",
   "execution_count": 1,
   "metadata": {},
   "outputs": [],
   "source": [
    "# code here"
   ]
  },
  {
   "cell_type": "markdown",
   "metadata": {},
   "source": [
    "### Testing\n",
    "* Below is a test list of sources for Chiang Mai (still need to implement the system for fetching docs from Google)"
   ]
  },
  {
   "cell_type": "code",
   "execution_count": 36,
   "metadata": {},
   "outputs": [],
   "source": [
    "sources = [\n",
    "    'https://www.reddit.com/r/chiangmai/comments/1cb3fx4/yi_pengloi_krathong_2024/',\n",
    "    'https://www.reddit.com/r/ThailandTourism/comments/1cpccho/yi_peng_festival_on_a_budget/',\n",
    "    'https://www.reddit.com/r/ThailandTourism/comments/13b0gld/help_me_with_chiang_mai_itinerary/',\n",
    "    'https://www.reddit.com/r/chiangmai/comments/1evxoyu/4_days_trip_in_chiang_mai_any_suggestions_for/',\n",
    "    'https://www.reddit.com/r/chiangmai/comments/1er2mj4/things_to_do_in_chiang_mai/',\n",
    "    'https://www.reddit.com/r/chiangmai/comments/1bmosut/chiang_mai_trip_report_places_to_eat_activities/',\n",
    "    'https://www.reddit.com/r/chiangmai/comments/185wni7/what_to_do_in_chiang_mai/',\n",
    "    \n",
    "    # buggy tripadvisor\n",
    "    'https://www.tripadvisor.com/ShowUserReviews-g293917-d8820428-r621075297-Yi_Peng_and_Loy_Krathong_Lantern_Festival-Chiang_Mai.html'\n",
    "]"
   ]
  },
  {
   "cell_type": "code",
   "execution_count": 16,
   "metadata": {},
   "outputs": [],
   "source": [
    "import praw\n",
    "import requests\n",
    "from bs4 import BeautifulSoup, SoupStrainer\n",
    "from urllib.parse import urlparse\n",
    "import pandas as pd\n",
    "import time\n",
    "from typing import List, Dict\n",
    "import os\n"
   ]
  },
  {
   "cell_type": "code",
   "execution_count": 11,
   "metadata": {},
   "outputs": [],
   "source": [
    "# Scrape reddit using praw\n",
    "\n",
    "# using praw to better seperate reddit data\n",
    "reddit = praw.Reddit(\n",
    "    client_id=os.environ.get(\"REDDIT_CLIENT_ID\"),\n",
    "    client_secret=os.environ.get(\"REDDIT_CLIENT_SECRET\"),\n",
    "    user_agent=\"python:ir-project:v1.0 (by /u/fanhogger)\"\n",
    ")\n",
    "\n",
    "def scrape_reddit_post(url: str) -> Dict:\n",
    "    \"\"\"Scrape content from a Reddit post.\"\"\"\n",
    "    try:\n",
    "        # Extract post ID from URL\n",
    "        submission_id = url.split('comments/')[1].split('/')[0]\n",
    "        submission = reddit.submission(id=submission_id)\n",
    "        \n",
    "        # Get post content\n",
    "        post_data = {\n",
    "            'title': submission.title,\n",
    "            'text': submission.selftext,\n",
    "            'comments': [],\n",
    "            'url': url,\n",
    "            'source': 'reddit'\n",
    "        }\n",
    "        \n",
    "        # Get comments (limit to top-level comments)\n",
    "        submission.comments.replace_more(limit=0)\n",
    "        for comment in submission.comments:\n",
    "            if not comment.stickied:  # Skip stickied comments\n",
    "                post_data['comments'].append(comment.body)\n",
    "        \n",
    "        return post_data\n",
    "    \n",
    "    except Exception as e:\n",
    "        print(f\"Error scraping Reddit post {url}: {str(e)}\")\n",
    "        return None\n"
   ]
  },
  {
   "cell_type": "code",
   "execution_count": 34,
   "metadata": {},
   "outputs": [],
   "source": [
    "from langchain_community.document_loaders import WebBaseLoader\n",
    "\n",
    "# TODO scraping tripadvisor is too buggy\n",
    "def scrape_tripadvisor(url: str):\n",
    "    loader = WebBaseLoader(\n",
    "    web_paths=(url,),\n",
    "    bs_kwargs=dict(\n",
    "        parse_only=SoupStrainer(\n",
    "            class_=(\"post-content\", \"post-title\", \"post-header\")\n",
    "            )\n",
    "        ),\n",
    "    )\n",
    "    return loader.load()[0]"
   ]
  },
  {
   "cell_type": "code",
   "execution_count": null,
   "metadata": {},
   "outputs": [],
   "source": [
    "# Combined function\n",
    "def scrape_urls(urls: List[str]) -> pd.DataFrame:\n",
    "    \"\"\"Scrape content from a list of URLs.\"\"\"\n",
    "    scraped_data = []\n",
    "    \n",
    "    for url in urls:\n",
    "        print(f\"Scraping {url}\")\n",
    "        domain = urlparse(url).netloc\n",
    "        \n",
    "        # Add delay between requests\n",
    "        time.sleep(2)\n",
    "        \n",
    "        if 'reddit.com' in domain:\n",
    "            data = scrape_reddit_post(url)\n",
    "        else:\n",
    "            data = scrape_tripadvisor(url)\n",
    "            \n",
    "        if not data.empty:\n",
    "            scraped_data.append(data)\n",
    "    \n",
    "    # Convert to DataFrame\n",
    "    df = pd.DataFrame(scraped_data)\n",
    "    return df\n",
    "\n",
    "display(scrape_urls(['https://www.tripadvisor.com/ShowUserReviews-g293917-d8820428-r621075297-Yi_Peng_and_Loy_Krathong_Lantern_Festival-Chiang_Mai.html']))"
   ]
  },
  {
   "cell_type": "code",
   "execution_count": 19,
   "metadata": {},
   "outputs": [
    {
     "name": "stdout",
     "output_type": "stream",
     "text": [
      "Scraping https://www.reddit.com/r/chiangmai/comments/1cb3fx4/yi_pengloi_krathong_2024/\n",
      "Scraping https://www.reddit.com/r/ThailandTourism/comments/1cpccho/yi_peng_festival_on_a_budget/\n",
      "Scraping https://www.reddit.com/r/ThailandTourism/comments/13b0gld/help_me_with_chiang_mai_itinerary/\n",
      "Scraping https://www.reddit.com/r/chiangmai/comments/1evxoyu/4_days_trip_in_chiang_mai_any_suggestions_for/\n",
      "Scraping https://www.reddit.com/r/chiangmai/comments/1er2mj4/things_to_do_in_chiang_mai/\n",
      "Scraping https://www.reddit.com/r/chiangmai/comments/1bmosut/chiang_mai_trip_report_places_to_eat_activities/\n",
      "Scraping https://www.reddit.com/r/chiangmai/comments/185wni7/what_to_do_in_chiang_mai/\n"
     ]
    },
    {
     "data": {
      "text/html": [
       "<div>\n",
       "<style scoped>\n",
       "    .dataframe tbody tr th:only-of-type {\n",
       "        vertical-align: middle;\n",
       "    }\n",
       "\n",
       "    .dataframe tbody tr th {\n",
       "        vertical-align: top;\n",
       "    }\n",
       "\n",
       "    .dataframe thead th {\n",
       "        text-align: right;\n",
       "    }\n",
       "</style>\n",
       "<table border=\"1\" class=\"dataframe\">\n",
       "  <thead>\n",
       "    <tr style=\"text-align: right;\">\n",
       "      <th></th>\n",
       "      <th>title</th>\n",
       "      <th>text</th>\n",
       "      <th>comments</th>\n",
       "      <th>url</th>\n",
       "      <th>source</th>\n",
       "    </tr>\n",
       "  </thead>\n",
       "  <tbody>\n",
       "    <tr>\n",
       "      <th>0</th>\n",
       "      <td>Yi Peng/Loi Krathong 2024</td>\n",
       "      <td>Hey everyone!\\n\\nMy Girl and me want to visit ...</td>\n",
       "      <td>[There is events you can pay to go, but I woul...</td>\n",
       "      <td>https://www.reddit.com/r/chiangmai/comments/1c...</td>\n",
       "      <td>reddit</td>\n",
       "    </tr>\n",
       "    <tr>\n",
       "      <th>1</th>\n",
       "      <td>Yi Peng Festival - on a Budget</td>\n",
       "      <td>Hi, so I'm from the Philippines! \\n\\nMy friend...</td>\n",
       "      <td>[No matter where you stay in the Old City area...</td>\n",
       "      <td>https://www.reddit.com/r/ThailandTourism/comme...</td>\n",
       "      <td>reddit</td>\n",
       "    </tr>\n",
       "    <tr>\n",
       "      <th>2</th>\n",
       "      <td>Help me with Chiang Mai itinerary</td>\n",
       "      <td>This September me and my friends will be in Ch...</td>\n",
       "      <td>[You'll be completely fucked after a night bus...</td>\n",
       "      <td>https://www.reddit.com/r/ThailandTourism/comme...</td>\n",
       "      <td>reddit</td>\n",
       "    </tr>\n",
       "    <tr>\n",
       "      <th>3</th>\n",
       "      <td>4 days trip in Chiang Mai - Any suggestions fo...</td>\n",
       "      <td>Hello all! I'm planning on a solo trip to Chia...</td>\n",
       "      <td>[Sticky waterfall: a wonder that will mess wit...</td>\n",
       "      <td>https://www.reddit.com/r/chiangmai/comments/1e...</td>\n",
       "      <td>reddit</td>\n",
       "    </tr>\n",
       "    <tr>\n",
       "      <th>4</th>\n",
       "      <td>Things to do in Chiang Mai</td>\n",
       "      <td>Hey guys! I'm an Irish Tourist and am in Chian...</td>\n",
       "      <td>[Here’s a helpful [Chiang Mai Itinerary](https...</td>\n",
       "      <td>https://www.reddit.com/r/chiangmai/comments/1e...</td>\n",
       "      <td>reddit</td>\n",
       "    </tr>\n",
       "  </tbody>\n",
       "</table>\n",
       "</div>"
      ],
      "text/plain": [
       "                                               title  \\\n",
       "0                          Yi Peng/Loi Krathong 2024   \n",
       "1                     Yi Peng Festival - on a Budget   \n",
       "2                  Help me with Chiang Mai itinerary   \n",
       "3  4 days trip in Chiang Mai - Any suggestions fo...   \n",
       "4                         Things to do in Chiang Mai   \n",
       "\n",
       "                                                text  \\\n",
       "0  Hey everyone!\\n\\nMy Girl and me want to visit ...   \n",
       "1  Hi, so I'm from the Philippines! \\n\\nMy friend...   \n",
       "2  This September me and my friends will be in Ch...   \n",
       "3  Hello all! I'm planning on a solo trip to Chia...   \n",
       "4  Hey guys! I'm an Irish Tourist and am in Chian...   \n",
       "\n",
       "                                            comments  \\\n",
       "0  [There is events you can pay to go, but I woul...   \n",
       "1  [No matter where you stay in the Old City area...   \n",
       "2  [You'll be completely fucked after a night bus...   \n",
       "3  [Sticky waterfall: a wonder that will mess wit...   \n",
       "4  [Here’s a helpful [Chiang Mai Itinerary](https...   \n",
       "\n",
       "                                                 url  source  \n",
       "0  https://www.reddit.com/r/chiangmai/comments/1c...  reddit  \n",
       "1  https://www.reddit.com/r/ThailandTourism/comme...  reddit  \n",
       "2  https://www.reddit.com/r/ThailandTourism/comme...  reddit  \n",
       "3  https://www.reddit.com/r/chiangmai/comments/1e...  reddit  \n",
       "4  https://www.reddit.com/r/chiangmai/comments/1e...  reddit  "
      ]
     },
     "metadata": {},
     "output_type": "display_data"
    }
   ],
   "source": [
    "# Scrape reddit only\n",
    "df = scrape_urls([s for s in sources if 'reddit' in s])\n",
    "\n",
    "# Display first few rows\n",
    "display(df.head())"
   ]
  },
  {
   "cell_type": "markdown",
   "metadata": {},
   "source": [
    "### Vectorstore retrieval based on relevance"
   ]
  },
  {
   "cell_type": "code",
   "execution_count": 2,
   "metadata": {},
   "outputs": [],
   "source": [
    "# code here."
   ]
  },
  {
   "cell_type": "markdown",
   "metadata": {},
   "source": [
    "### Generate Answer"
   ]
  },
  {
   "cell_type": "code",
   "execution_count": 3,
   "metadata": {},
   "outputs": [],
   "source": [
    "# code here"
   ]
  },
  {
   "cell_type": "markdown",
   "metadata": {},
   "source": [
    "### Add Citations to Answer"
   ]
  },
  {
   "cell_type": "code",
   "execution_count": null,
   "metadata": {},
   "outputs": [],
   "source": [
    "## TODO: Create citation"
   ]
  },
  {
   "cell_type": "markdown",
   "metadata": {},
   "source": [
    "### Evaluate citations using NLI model (from RAG - tutorial slides)"
   ]
  },
  {
   "cell_type": "code",
   "execution_count": 4,
   "metadata": {},
   "outputs": [],
   "source": [
    "# download huggingface model and do stuff"
   ]
  },
  {
   "cell_type": "markdown",
   "metadata": {},
   "source": [
    "### Present With Rag / Without RAG relevance (the evaluation step)"
   ]
  },
  {
   "cell_type": "code",
   "execution_count": null,
   "metadata": {},
   "outputs": [],
   "source": []
  }
 ],
 "metadata": {
  "kernelspec": {
   "display_name": "Python 3",
   "language": "python",
   "name": "python3"
  },
  "language_info": {
   "codemirror_mode": {
    "name": "ipython",
    "version": 3
   },
   "file_extension": ".py",
   "mimetype": "text/x-python",
   "name": "python",
   "nbconvert_exporter": "python",
   "pygments_lexer": "ipython3",
   "version": "3.9.6"
  }
 },
 "nbformat": 4,
 "nbformat_minor": 2
}
