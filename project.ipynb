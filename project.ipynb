{
 "cells": [
  {
   "cell_type": "markdown",
   "metadata": {},
   "source": [
    "# abc Trip Planner (MVP)\n",
    "\n",
    "Members\n",
    "* Daniel Jiang (1009509)\n",
    "* John Mo (1009513)\n",
    "* Timothy Zheng (1009502)\n",
    "\n",
    "## Notes\n",
    "\n",
    "To run this program, you will need to create and populate a `.env` file with your OpenAI API key\n",
    "\n",
    "`.env`\n",
    "\n",
    "```bash\n",
    "OPENAI_API_KEY = \"your_key_here\"\n",
    "```\n",
    "\n",
    "### TODO\n",
    "* Set up OpenAI key\n",
    "* Implement LLM\n",
    "* RAG system\n",
    "* (eval) compare to \"ground truth\"\n",
    "\n",
    "### Innovative \"ideas\"\n",
    "* Take note of the places LLM suggests, then make LLM system search online for the prices of places. Then output estimated cost of trip.\n",
    "* Approach the topic as a \"narrative journey\": Add the history of places, culture, etc and make attractions \"references\" to the narrative, instead of the primary focus. Make the narrative the primary focus.\n",
    "* Attach a packing list\n",
    "* Implement weather forecast into trip plan"
   ]
  },
  {
   "cell_type": "code",
   "execution_count": 6,
   "metadata": {},
   "outputs": [
    {
     "name": "stdout",
     "output_type": "stream",
     "text": [
      "Found existing installation: pandas 2.2.3\n",
      "Uninstalling pandas-2.2.3:\n",
      "  Successfully uninstalled pandas-2.2.3\n",
      "Note: you may need to restart the kernel to use updated packages.\n",
      "Found existing installation: numpy 1.26.4\n",
      "Uninstalling numpy-1.26.4:\n",
      "  Successfully uninstalled numpy-1.26.4\n",
      "Note: you may need to restart the kernel to use updated packages.\n",
      "Found existing installation: pytz 2024.2\n",
      "Uninstalling pytz-2024.2:\n",
      "  Successfully uninstalled pytz-2024.2\n",
      "Note: you may need to restart the kernel to use updated packages.\n",
      "Found existing installation: python-dateutil 2.9.0.post0\n",
      "Uninstalling python-dateutil-2.9.0.post0:\n",
      "  Successfully uninstalled python-dateutil-2.9.0.post0\n",
      "Note: you may need to restart the kernel to use updated packages.\n"
     ]
    }
   ],
   "source": [
    "%pip uninstall pandas -y\n",
    "%pip uninstall numpy -y\n",
    "%pip uninstall pytz -y\n",
    "%pip uninstall python-dateutil -y"
   ]
  },
  {
   "cell_type": "code",
   "execution_count": 7,
   "metadata": {},
   "outputs": [
    {
     "name": "stdout",
     "output_type": "stream",
     "text": [
      "Note: you may need to restart the kernel to use updated packages.\n",
      "Note: you may need to restart the kernel to use updated packages.\n",
      "Note: you may need to restart the kernel to use updated packages.\n",
      "Note: you may need to restart the kernel to use updated packages.\n",
      "Note: you may need to restart the kernel to use updated packages.\n",
      "Note: you may need to restart the kernel to use updated packages.\n",
      "Note: you may need to restart the kernel to use updated packages.\n",
      "Note: you may need to restart the kernel to use updated packages.\n"
     ]
    }
   ],
   "source": [
    "%pip install --upgrade pip --quiet\n",
    "%pip install openai --quiet\n",
    "%pip install python-dotenv --quiet\n",
    "%pip install praw --quiet\n",
    "%pip install pydantic --quiet\n",
    "%pip install langchain-community --quiet\n",
    "%pip install bs4 --quiet\n",
    "%pip install pandas --quiet"
   ]
  },
  {
   "cell_type": "code",
   "execution_count": 8,
   "metadata": {},
   "outputs": [
    {
     "data": {
      "text/plain": [
       "True"
      ]
     },
     "execution_count": 8,
     "metadata": {},
     "output_type": "execute_result"
    }
   ],
   "source": [
    "from openai import OpenAI\n",
    "from dotenv import load_dotenv\n",
    "from IPython.display import display, Markdown, clear_output\n",
    "import time\n",
    "\n",
    "load_dotenv() # Requires .env file"
   ]
  },
  {
   "cell_type": "code",
   "execution_count": 9,
   "metadata": {},
   "outputs": [],
   "source": [
    "client = OpenAI()\n",
    "\n",
    "system_prompt = \"\"\"You are a knowledgeable travel assistant. Provide a comprehensive and well-structured guide for the specified destination. Your response should be detailed, accurate, and formatted using markdown. Follow these guidelines:\n",
    "\n",
    "1. Begin with a brief introduction about the destination.\n",
    "2. Use level 2 headers (##) to separate main sections.\n",
    "3. Use bolding (**) for subsections or important points within sections.\n",
    "4. Include exclusively the following sections in exactly this order.\n",
    "   - Best Time to Visit\n",
    "   - Top Attractions\n",
    "   - Local Culture and Etiquette\n",
    "   - Getting Around\n",
    "   - Food and Dining\n",
    "   - Accommodation\n",
    "   - Safety and Health\n",
    "   - Budget Tips\n",
    "   - Unique Experiences\n",
    "   - Essential Phrases (if applicable)\n",
    "\n",
    "5. Provide practical, up-to-date information and insider tips, highlighting any date-specific events if possible.\n",
    "6. Use bullet points sparingly, preferring well-structured paragraphs.\n",
    "7. Include any recent developments or changes affecting travel to the destination.\n",
    "8. Conclude with a brief summary or final travel tip.\n",
    "\n",
    "Aim for a comprehensive guide that's easy to read and informative for travelers.\"\"\""
   ]
  },
  {
   "cell_type": "code",
   "execution_count": null,
   "metadata": {},
   "outputs": [
    {
     "data": {
      "text/markdown": [
       "# Travel Guide to Chiang Mai, Thailand\n",
       "\n",
       "Chiang Mai, often referred to as the \"Rose of the North,\" is a cultural and historical gem located in the mountainous region of northern Thailand. Known for its misty mountains, ancient temples, vibrant festivals, and rich handicrafts, it offers a unique blend of past and present that draws travelers from around the world. Whether you're exploring centuries-old temples or enjoying the bustling night markets, Chiang Mai offers a charming blend of tradition and modernity.\n",
       "\n",
       "## Best Time to Visit\n",
       "\n",
       "**November to February** marks the best time to visit Chiang Mai. During these months, the weather is cooler and drier, making it ideal for sightseeing and outdoor activities. December and January can be particularly crowded due to holiday seasons, so plan accordingly.\n",
       "\n",
       "- **Loi Krathong and Yi Peng Festival**: Typically held in November, this festival features thousands of lanterns being released into the sky, creating a captivating spectacle that attracts numerous visitors.\n",
       "\n",
       "## Top Attractions\n",
       "\n",
       "Chiang Mai is brimming with attractions that capture its rich history and vibrant culture.\n",
       "\n",
       "**Doi Suthep-Pui National Park**: Home to the famous Wat Phra That Doi Suthep, this temple offers panoramic views of the city. The journey up the mountain is just as rewarding as the temple itself.\n",
       "\n",
       "**Old City Temples**: Explore Wat Chedi Luang and Wat Phra Singh, two of the most significant temples located within the ancient city walls.\n",
       "\n",
       "**Chiang Mai Night Bazaar**: A vibrant market that comes alive at night, offering a wide array of local crafts, souvenirs, and delicious street food.\n",
       "\n",
       "**Elephant Nature Park**: A sanctuary for rescued elephants, offering a humane way to learn about and engage with these majestic creatures.\n",
       "\n",
       "## Local Culture and Etiquette\n",
       "\n",
       "Chiang Mai is steeped in traditional Lanna culture and Buddhism, which influences many local customs and social norms.\n",
       "\n",
       "- **Respect Religious Sites**: Dress modestly when visiting temples and be sure to remove your shoes before entering.\n",
       "- **Smiling and Wai**: Thais are known for their warmth and friendliness. A smile and a wai (the traditional Thai greeting) go a long way.\n",
       "- **Monks and Monasteries**: When interacting with monks, be respectful and avoid close physical contact, especially if you are female.\n",
       "\n",
       "## Getting Around\n",
       "\n",
       "Chiang Mai's transportation options make it easy to explore the city.\n",
       "\n",
       "- **Songthaews**: These shared red trucks operate on various routes and are an affordable and local way to get around.\n",
       "- **Tuk-tuks**: While more expensive than songthaews, they provide a convenient mode of transport for short distances.\n",
       "- **Scooter Rentals**: A popular option for those who want to explore at their own pace, but be sure to wear a helmet and have an international driving permit.\n",
       "- **Walking**: The Old City is compact enough to explore on foot, allowing you to soak in the sights at a leisurely pace.\n",
       "\n",
       "## Food and Dining\n",
       "\n",
       "Chiang Mai’s culinary scene is a treat for food enthusiasts, offering a mix of traditional northern Thai cuisine and modern flavors.\n",
       "\n",
       "- **Khao Soi**: A must-try northern Thai dish, featuring curry noodles topped with crispy fried noodles, usually accompanied by chicken or beef.\n",
       "- **Street Food**: Don’t miss the opportunity to try local dishes at the night markets, from pad thai to mango sticky rice.\n",
       "- **Dining Venues**: For a more upscale dining experience, head to riverside restaurants or the trendy Nimmanhaemin area.\n",
       "\n",
       "## Accommodation\n",
       "\n",
       "From luxury resorts to budget hostels, Chiang Mai provides a variety of stays to suit all preferences and budgets.\n",
       "\n",
       "- **Old City**: Ideal for first-time visitors wanting to be close to main attractions, offering a range of guesthouses and boutique hotels.\n",
       "- **Nimmanhaemin**: Known for its modern vibe, it's great for trendy cafes and nightlife.\n",
       "- **Riverside**: Perfect for a tranquil escape, often featuring higher-end hotels with stunning views.\n",
       "\n",
       "## Safety and Health\n",
       "\n",
       "Chiang Mai is generally a safe destination, but precautions should still be taken to ensure a smooth trip.\n",
       "\n",
       "- **Health Precautions**: Stay updated on necessary vaccinations and carry mosquito repellent to guard against dengue fever.\n",
       "- **Personal Safety**: Remain cautious of petty theft in crowded areas and keep your belongings secure.\n",
       "- **Traffic Awareness**: Be vigilant when crossing streets, as traffic can be hectic.\n",
       "\n",
       "## Budget Tips\n",
       "\n",
       "Chiang Mai is budget-friendly, with cost-effective ways to enjoy the city's offerings.\n",
       "\n",
       "- **Free Attractions**: Many temples don’t charge an entry fee, allowing you to explore them without spending much.\n",
       "- **Public Transport**: Using songthaews and public buses is a cost-efficient way to travel.\n",
       "- **Local Eats**: Street food is both delicious and easy on the wallet.\n",
       "\n",
       "## Unique Experiences\n",
       "\n",
       "Chiang Mai offers unique experiences that connect you to its rich cultural heritage and natural beauty.\n",
       "\n",
       "- **Thai Cooking Class**: Engage with local chefs and learn the art of Thai cuisine using fresh, local ingredients.\n",
       "- **Hill Tribe Villages**: Explore the diverse cultures of northern Thailand through visits to nearby hill tribe communities.\n",
       "- **Hot Springs**: Relax in the natural hot springs near Chiang Mai, such as San Kamphaeng or Pai Hot Springs.\n",
       "\n",
       "## Essential Phrases\n",
       "\n",
       "Learning a few basic Thai phrases can enhance your interactions and show respect for the local culture.\n",
       "\n",
       "- **Sawasdee (krub/kah)**: Hello/Goodbye\n",
       "- **Kop Khun (krub/kah)**: Thank you\n",
       "- **Mai Pen Rai**: No problem/It’s okay\n",
       "\n",
       "Chiang Mai blends tradition and natural beauty, offering travelers a diversified experience rich in history and culture. Remember to plan ahead, respect local customs, and immerse yourself in the vibrant atmosphere of this enchanting city. Enjoy your journey to the heart of northern Thailand!"
      ],
      "text/plain": [
       "<IPython.core.display.Markdown object>"
      ]
     },
     "metadata": {},
     "output_type": "display_data"
    }
   ],
   "source": [
    "destination = \"Chiang Mai\"\n",
    "stream = client.chat.completions.create(\n",
    "    model=\"gpt-3.5-turbo-0125\",\n",
    "    messages=[\n",
    "        {\"role\": \"system\", \"content\": system_prompt},\n",
    "        {\"role\": \"user\", \"content\": f\"Provide key travel tips for {destination}\"}\n",
    "    ],\n",
    "    stream=True\n",
    ")\n",
    "\n",
    "full_response = \"\"\n",
    "for chunk in stream:\n",
    "    if chunk.choices[0].delta.content is not None:\n",
    "        content = chunk.choices[0].delta.content\n",
    "        full_response += content\n",
    "        \n",
    "        # Clear the current output and display the updated markdown\n",
    "        clear_output(wait=True)\n",
    "        display(Markdown(full_response))\n",
    "        \n",
    "        # Add a small delay to make the streaming visible\n",
    "        time.sleep(0.01)"
   ]
  },
  {
   "cell_type": "markdown",
   "metadata": {},
   "source": [
    "***\n",
    "\n",
    "## RAG Implementation"
   ]
  },
  {
   "cell_type": "markdown",
   "metadata": {},
   "source": [
    "## TODO: Need to create system that dynamically finds reddit threads (maybe tripadvisor if time permits) given a location (refer to the diagram in slides to implement)\n",
    "* Searches google API for places based on \"things to do in <location> site:reddit.com\" etc."
   ]
  },
  {
   "cell_type": "code",
   "execution_count": 11,
   "metadata": {},
   "outputs": [],
   "source": [
    "# code here"
   ]
  },
  {
   "cell_type": "markdown",
   "metadata": {},
   "source": [
    "### Testing\n",
    "* Below is a test list of sources for Chiang Mai (still need to implement the system for fetching docs from Google)"
   ]
  },
  {
   "cell_type": "code",
   "execution_count": 12,
   "metadata": {},
   "outputs": [],
   "source": [
    "sources = [\n",
    "    'https://www.reddit.com/r/chiangmai/comments/1cb3fx4/yi_pengloi_krathong_2024/',\n",
    "    'https://www.reddit.com/r/ThailandTourism/comments/1cpccho/yi_peng_festival_on_a_budget/',\n",
    "    'https://www.reddit.com/r/ThailandTourism/comments/13b0gld/help_me_with_chiang_mai_itinerary/',\n",
    "    'https://www.reddit.com/r/chiangmai/comments/1evxoyu/4_days_trip_in_chiang_mai_any_suggestions_for/',\n",
    "    'https://www.reddit.com/r/chiangmai/comments/1er2mj4/things_to_do_in_chiang_mai/',\n",
    "    'https://www.reddit.com/r/chiangmai/comments/1bmosut/chiang_mai_trip_report_places_to_eat_activities/',\n",
    "    'https://www.reddit.com/r/chiangmai/comments/185wni7/what_to_do_in_chiang_mai/',\n",
    "    \n",
    "    # buggy tripadvisor\n",
    "    'https://www.tripadvisor.com/ShowUserReviews-g293917-d8820428-r621075297-Yi_Peng_and_Loy_Krathong_Lantern_Festival-Chiang_Mai.html'\n",
    "]"
   ]
  },
  {
   "cell_type": "code",
   "execution_count": 13,
   "metadata": {},
   "outputs": [
    {
     "name": "stderr",
     "output_type": "stream",
     "text": [
      "/Users/timothyz/Library/Python/3.9/lib/python/site-packages/urllib3/__init__.py:35: NotOpenSSLWarning: urllib3 v2 only supports OpenSSL 1.1.1+, currently the 'ssl' module is compiled with 'LibreSSL 2.8.3'. See: https://github.com/urllib3/urllib3/issues/3020\n",
      "  warnings.warn(\n"
     ]
    }
   ],
   "source": [
    "import praw\n",
    "import requests\n",
    "from bs4 import BeautifulSoup, SoupStrainer\n",
    "from urllib.parse import urlparse\n",
    "import pandas as pd\n",
    "import time\n",
    "from typing import List, Dict\n",
    "import os\n"
   ]
  },
  {
   "cell_type": "markdown",
   "metadata": {},
   "source": [
    "### Reddit API Key\n",
    "Create a Reddit API key by following the instructions [here](https://www.reddit.com/prefs/apps) (create a script)\n",
    "\n",
    "add the following to your `.env` file\n",
    "```bash\n",
    "REDDIT_CLIENT_ID = \"<your-reddit-client-id>\"\n",
    "REDDIT_CLIENT_SECRET = \"<your-reddit-client-secret>\" \n",
    "REDDIT_USER_AGENT = \"python:<app-name>:v1.0 (by /u/<your-reddit-username>)\"\n",
    "```"
   ]
  },
  {
   "cell_type": "code",
   "execution_count": 22,
   "metadata": {},
   "outputs": [],
   "source": [
    "# Scrape reddit using praw\n",
    "\n",
    "# using praw to better seperate reddit data\n",
    "reddit = praw.Reddit(\n",
    "    client_id=os.environ.get(\"REDDIT_CLIENT_ID\"),\n",
    "    client_secret=os.environ.get(\"REDDIT_CLIENT_SECRET\"),\n",
    "    user_agent=os.environ.get(\"REDDIT_USER_AGENT\"),\n",
    ")\n",
    "\n",
    "def scrape_reddit_post(url: str) -> Dict:\n",
    "    \"\"\"Scrape content from a Reddit post.\"\"\"\n",
    "    try:\n",
    "        # Extract post ID from URL\n",
    "        submission_id = url.split('comments/')[1].split('/')[0]\n",
    "        submission = reddit.submission(id=submission_id)\n",
    "        \n",
    "        # Get post content\n",
    "        post_data = {\n",
    "            'title': submission.title,\n",
    "            'text': submission.selftext,\n",
    "            'comments': [],\n",
    "            'url': url,\n",
    "            'source': 'reddit'\n",
    "        }\n",
    "        \n",
    "        # Get comments (limit to top-level comments)\n",
    "        submission.comments.replace_more(limit=0)\n",
    "        for comment in submission.comments:\n",
    "            if not comment.stickied:  # Skip stickied comments\n",
    "                post_data['comments'].append(comment.body)\n",
    "        \n",
    "        return post_data\n",
    "    \n",
    "    except Exception as e:\n",
    "        print(f\"Error scraping Reddit post {url}: {str(e)}\")\n",
    "        return None\n"
   ]
  },
  {
   "cell_type": "code",
   "execution_count": null,
   "metadata": {},
   "outputs": [],
   "source": [
    "from langchain_community.document_loaders import WebBaseLoader\n",
    "\n",
    "# TODO scraping tripadvisor is too buggy keeps getting rate limited\n",
    "def scrape_tripadvisor(url: str):\n",
    "    loader = WebBaseLoader(\n",
    "    web_paths=(url,),\n",
    "    bs_kwargs=dict(\n",
    "        parse_only=SoupStrainer(\n",
    "            class_=(\"post-content\", \"post-title\", \"post-header\")\n",
    "            )\n",
    "        ),\n",
    "    )\n",
    "    return loader.load()[0]"
   ]
  },
  {
   "cell_type": "code",
   "execution_count": 27,
   "metadata": {},
   "outputs": [],
   "source": [
    "# Combined function\n",
    "def scrape_urls(urls: List[str]) -> pd.DataFrame:\n",
    "    \"\"\"Scrape content from a list of URLs.\"\"\"\n",
    "    scraped_data = []\n",
    "    \n",
    "    for url in urls:\n",
    "        print(f\"Scraping {url}\")\n",
    "        domain = urlparse(url).netloc\n",
    "        \n",
    "        # Add delay between requests\n",
    "        time.sleep(1)\n",
    "        \n",
    "        if 'reddit.com' in domain:\n",
    "            data = scrape_reddit_post(url)\n",
    "        else:\n",
    "            data = scrape_tripadvisor(url)\n",
    "            \n",
    "        if data:\n",
    "            scraped_data.append(data)\n",
    "    \n",
    "    # Convert to DataFrame\n",
    "    df = pd.DataFrame(scraped_data)\n",
    "    return df\n",
    "\n",
    "# non-reddit links keep getting rate limited\n",
    "# display(scrape_urls(['https://www.tripadvisor.com/ShowUserReviews-g293917-d8820428-r621075297-Yi_Peng_and_Loy_Krathong_Lantern_Festival-Chiang_Mai.html']))"
   ]
  },
  {
   "cell_type": "code",
   "execution_count": 28,
   "metadata": {},
   "outputs": [
    {
     "name": "stdout",
     "output_type": "stream",
     "text": [
      "Scraping https://www.reddit.com/r/chiangmai/comments/1cb3fx4/yi_pengloi_krathong_2024/\n",
      "Scraping https://www.reddit.com/r/ThailandTourism/comments/1cpccho/yi_peng_festival_on_a_budget/\n",
      "Scraping https://www.reddit.com/r/ThailandTourism/comments/13b0gld/help_me_with_chiang_mai_itinerary/\n",
      "Scraping https://www.reddit.com/r/chiangmai/comments/1evxoyu/4_days_trip_in_chiang_mai_any_suggestions_for/\n",
      "Scraping https://www.reddit.com/r/chiangmai/comments/1er2mj4/things_to_do_in_chiang_mai/\n",
      "Scraping https://www.reddit.com/r/chiangmai/comments/1bmosut/chiang_mai_trip_report_places_to_eat_activities/\n",
      "Scraping https://www.reddit.com/r/chiangmai/comments/185wni7/what_to_do_in_chiang_mai/\n"
     ]
    },
    {
     "data": {
      "text/html": [
       "<div>\n",
       "<style scoped>\n",
       "    .dataframe tbody tr th:only-of-type {\n",
       "        vertical-align: middle;\n",
       "    }\n",
       "\n",
       "    .dataframe tbody tr th {\n",
       "        vertical-align: top;\n",
       "    }\n",
       "\n",
       "    .dataframe thead th {\n",
       "        text-align: right;\n",
       "    }\n",
       "</style>\n",
       "<table border=\"1\" class=\"dataframe\">\n",
       "  <thead>\n",
       "    <tr style=\"text-align: right;\">\n",
       "      <th></th>\n",
       "      <th>title</th>\n",
       "      <th>text</th>\n",
       "      <th>comments</th>\n",
       "      <th>url</th>\n",
       "      <th>source</th>\n",
       "    </tr>\n",
       "  </thead>\n",
       "  <tbody>\n",
       "    <tr>\n",
       "      <th>0</th>\n",
       "      <td>Yi Peng/Loi Krathong 2024</td>\n",
       "      <td>Hey everyone!\\n\\nMy Girl and me want to visit ...</td>\n",
       "      <td>[There is events you can pay to go, but I woul...</td>\n",
       "      <td>https://www.reddit.com/r/chiangmai/comments/1c...</td>\n",
       "      <td>reddit</td>\n",
       "    </tr>\n",
       "    <tr>\n",
       "      <th>1</th>\n",
       "      <td>Yi Peng Festival - on a Budget</td>\n",
       "      <td>Hi, so I'm from the Philippines! \\n\\nMy friend...</td>\n",
       "      <td>[No matter where you stay in the Old City area...</td>\n",
       "      <td>https://www.reddit.com/r/ThailandTourism/comme...</td>\n",
       "      <td>reddit</td>\n",
       "    </tr>\n",
       "    <tr>\n",
       "      <th>2</th>\n",
       "      <td>Help me with Chiang Mai itinerary</td>\n",
       "      <td>This September me and my friends will be in Ch...</td>\n",
       "      <td>[You'll be completely fucked after a night bus...</td>\n",
       "      <td>https://www.reddit.com/r/ThailandTourism/comme...</td>\n",
       "      <td>reddit</td>\n",
       "    </tr>\n",
       "    <tr>\n",
       "      <th>3</th>\n",
       "      <td>4 days trip in Chiang Mai - Any suggestions fo...</td>\n",
       "      <td>Hello all! I'm planning on a solo trip to Chia...</td>\n",
       "      <td>[Sticky waterfall: a wonder that will mess wit...</td>\n",
       "      <td>https://www.reddit.com/r/chiangmai/comments/1e...</td>\n",
       "      <td>reddit</td>\n",
       "    </tr>\n",
       "    <tr>\n",
       "      <th>4</th>\n",
       "      <td>Things to do in Chiang Mai</td>\n",
       "      <td>Hey guys! I'm an Irish Tourist and am in Chian...</td>\n",
       "      <td>[Here’s a helpful [Chiang Mai Itinerary](https...</td>\n",
       "      <td>https://www.reddit.com/r/chiangmai/comments/1e...</td>\n",
       "      <td>reddit</td>\n",
       "    </tr>\n",
       "  </tbody>\n",
       "</table>\n",
       "</div>"
      ],
      "text/plain": [
       "                                               title  \\\n",
       "0                          Yi Peng/Loi Krathong 2024   \n",
       "1                     Yi Peng Festival - on a Budget   \n",
       "2                  Help me with Chiang Mai itinerary   \n",
       "3  4 days trip in Chiang Mai - Any suggestions fo...   \n",
       "4                         Things to do in Chiang Mai   \n",
       "\n",
       "                                                text  \\\n",
       "0  Hey everyone!\\n\\nMy Girl and me want to visit ...   \n",
       "1  Hi, so I'm from the Philippines! \\n\\nMy friend...   \n",
       "2  This September me and my friends will be in Ch...   \n",
       "3  Hello all! I'm planning on a solo trip to Chia...   \n",
       "4  Hey guys! I'm an Irish Tourist and am in Chian...   \n",
       "\n",
       "                                            comments  \\\n",
       "0  [There is events you can pay to go, but I woul...   \n",
       "1  [No matter where you stay in the Old City area...   \n",
       "2  [You'll be completely fucked after a night bus...   \n",
       "3  [Sticky waterfall: a wonder that will mess wit...   \n",
       "4  [Here’s a helpful [Chiang Mai Itinerary](https...   \n",
       "\n",
       "                                                 url  source  \n",
       "0  https://www.reddit.com/r/chiangmai/comments/1c...  reddit  \n",
       "1  https://www.reddit.com/r/ThailandTourism/comme...  reddit  \n",
       "2  https://www.reddit.com/r/ThailandTourism/comme...  reddit  \n",
       "3  https://www.reddit.com/r/chiangmai/comments/1e...  reddit  \n",
       "4  https://www.reddit.com/r/chiangmai/comments/1e...  reddit  "
      ]
     },
     "metadata": {},
     "output_type": "display_data"
    }
   ],
   "source": [
    "# Scrape reddit only\n",
    "df = scrape_urls([s for s in sources if 'reddit' in s])\n",
    "\n",
    "# Display first few rows\n",
    "display(df.head())"
   ]
  },
  {
   "cell_type": "markdown",
   "metadata": {},
   "source": [
    "### Vectorstore retrieval based on relevance"
   ]
  },
  {
   "cell_type": "code",
   "execution_count": null,
   "metadata": {},
   "outputs": [],
   "source": [
    "# code here."
   ]
  },
  {
   "cell_type": "markdown",
   "metadata": {},
   "source": [
    "### Generate Answer"
   ]
  },
  {
   "cell_type": "code",
   "execution_count": null,
   "metadata": {},
   "outputs": [],
   "source": [
    "# code here"
   ]
  },
  {
   "cell_type": "markdown",
   "metadata": {},
   "source": [
    "### Add Citations to Answer"
   ]
  },
  {
   "cell_type": "code",
   "execution_count": null,
   "metadata": {},
   "outputs": [],
   "source": [
    "## TODO: Create citation"
   ]
  },
  {
   "cell_type": "markdown",
   "metadata": {},
   "source": [
    "### Evaluate citations using NLI model (from RAG - tutorial slides)"
   ]
  },
  {
   "cell_type": "code",
   "execution_count": null,
   "metadata": {},
   "outputs": [],
   "source": [
    "# download huggingface model and do stuff"
   ]
  },
  {
   "cell_type": "markdown",
   "metadata": {},
   "source": [
    "### Present With Rag / Without RAG relevance (the evaluation step)"
   ]
  },
  {
   "cell_type": "code",
   "execution_count": null,
   "metadata": {},
   "outputs": [],
   "source": []
  }
 ],
 "metadata": {
  "kernelspec": {
   "display_name": "Python 3",
   "language": "python",
   "name": "python3"
  },
  "language_info": {
   "codemirror_mode": {
    "name": "ipython",
    "version": 3
   },
   "file_extension": ".py",
   "mimetype": "text/x-python",
   "name": "python",
   "nbconvert_exporter": "python",
   "pygments_lexer": "ipython3",
   "version": "3.9.6"
  }
 },
 "nbformat": 4,
 "nbformat_minor": 2
}
