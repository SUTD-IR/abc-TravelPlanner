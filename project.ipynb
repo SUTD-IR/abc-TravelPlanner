{
 "cells": [
  {
   "cell_type": "markdown",
   "metadata": {},
   "source": [
    "# abc Trip Planner (MVP)\n",
    "\n",
    "Members\n",
    "* Daniel Jiang (1009509)\n",
    "* John Mo (1009513)\n",
    "* Timothy Zheng (1009502)\n",
    "\n",
    "## Notes\n",
    "\n",
    "To run this program, you will need to create and populate a `.env` file with your OpenAI API key\n",
    "\n",
    "`.env`\n",
    "\n",
    "```bash\n",
    "OPENAI_API_KEY = \"your_key_here\"\n",
    "```\n",
    "\n",
    "### TODO\n",
    "* Set up OpenAI key\n",
    "* Implement LLM\n",
    "* RAG system\n",
    "* (eval) compare to \"ground truth\"\n",
    "\n",
    "### Innovative \"ideas\"\n",
    "* Take note of the places LLM suggests, then make LLM system search online for the prices of places. Then output estimated cost of trip.\n",
    "* Approach the topic as a \"narrative journey\": Add the history of places, culture, etc and make attractions \"references\" to the narrative, instead of the primary focus. Make the narrative the primary focus.\n",
    "* Attach a packing list\n",
    "* Implement weather forecast into trip plan"
   ]
  },
  {
   "cell_type": "code",
   "execution_count": 1,
   "metadata": {},
   "outputs": [
    {
     "name": "stdout",
     "output_type": "stream",
     "text": [
      "Found existing installation: pandas 2.2.3\n",
      "Uninstalling pandas-2.2.3:\n",
      "  Successfully uninstalled pandas-2.2.3\n",
      "Note: you may need to restart the kernel to use updated packages.\n",
      "Found existing installation: numpy 1.26.4\n",
      "Uninstalling numpy-1.26.4:\n",
      "  Successfully uninstalled numpy-1.26.4\n",
      "Note: you may need to restart the kernel to use updated packages.\n",
      "Found existing installation: pytz 2024.2\n",
      "Uninstalling pytz-2024.2:\n",
      "  Successfully uninstalled pytz-2024.2\n",
      "Note: you may need to restart the kernel to use updated packages.\n",
      "Found existing installation: python-dateutil 2.9.0.post0\n",
      "Uninstalling python-dateutil-2.9.0.post0:\n",
      "  Successfully uninstalled python-dateutil-2.9.0.post0\n",
      "Note: you may need to restart the kernel to use updated packages.\n"
     ]
    }
   ],
   "source": [
    "%pip uninstall pandas -y\n",
    "%pip uninstall numpy -y\n",
    "%pip uninstall pytz -y\n",
    "%pip uninstall python-dateutil -y"
   ]
  },
  {
   "cell_type": "code",
   "execution_count": 2,
   "metadata": {},
   "outputs": [
    {
     "name": "stdout",
     "output_type": "stream",
     "text": [
      "Note: you may need to restart the kernel to use updated packages.\n",
      "Note: you may need to restart the kernel to use updated packages.\n",
      "Note: you may need to restart the kernel to use updated packages.\n",
      "Note: you may need to restart the kernel to use updated packages.\n",
      "Note: you may need to restart the kernel to use updated packages.\n",
      "Note: you may need to restart the kernel to use updated packages.\n",
      "Note: you may need to restart the kernel to use updated packages.\n",
      "Note: you may need to restart the kernel to use updated packages.\n"
     ]
    }
   ],
   "source": [
    "%pip install --upgrade pip --quiet\n",
    "%pip install openai --quiet\n",
    "%pip install python-dotenv --quiet\n",
    "%pip install praw --quiet\n",
    "%pip install pydantic --quiet\n",
    "%pip install langchain-community --quiet\n",
    "%pip install bs4 --quiet\n",
    "%pip install pandas --quiet"
   ]
  },
  {
   "cell_type": "code",
   "execution_count": 3,
   "metadata": {},
   "outputs": [
    {
     "data": {
      "text/plain": [
       "True"
      ]
     },
     "execution_count": 3,
     "metadata": {},
     "output_type": "execute_result"
    }
   ],
   "source": [
    "from openai import OpenAI\n",
    "from dotenv import load_dotenv\n",
    "from IPython.display import display, Markdown, clear_output\n",
    "import time\n",
    "\n",
    "load_dotenv() # Requires .env file"
   ]
  },
  {
   "cell_type": "code",
   "execution_count": 4,
   "metadata": {},
   "outputs": [],
   "source": [
    "client = OpenAI()\n",
    "\n",
    "system_prompt = \"\"\"You are a knowledgeable travel assistant. Provide a comprehensive and well-structured guide for the specified destination. Your response should be detailed, accurate, and formatted using markdown. Follow these guidelines:\n",
    "\n",
    "1. Begin with a brief introduction about the destination.\n",
    "2. Use level 2 headers (##) to separate main sections.\n",
    "3. Use bolding (**) for subsections or important points within sections.\n",
    "4. Include exclusively the following sections in exactly this order.\n",
    "   - Best Time to Visit\n",
    "   - Top Attractions\n",
    "   - Local Culture and Etiquette\n",
    "   - Getting Around\n",
    "   - Food and Dining\n",
    "   - Accommodation\n",
    "   - Safety and Health\n",
    "   - Budget Tips\n",
    "   - Unique Experiences\n",
    "   - Essential Phrases (if applicable)\n",
    "\n",
    "5. Provide practical, up-to-date information and insider tips, highlighting any date-specific events if possible.\n",
    "6. Use bullet points sparingly, preferring well-structured paragraphs.\n",
    "7. Include any recent developments or changes affecting travel to the destination.\n",
    "8. Conclude with a brief summary or final travel tip.\n",
    "\n",
    "Aim for a comprehensive guide that's easy to read and informative for travelers.\"\"\""
   ]
  },
  {
   "cell_type": "code",
   "execution_count": 5,
   "metadata": {},
   "outputs": [
    {
     "data": {
      "text/markdown": [
       "## Introduction\n",
       "Chiang Mai, a charming city in northern Thailand, is known for its rich cultural heritage, stunning temples, vibrant markets, and lush landscapes. Travelers flock to this city to experience its unique blend of history, nature, and modern amenities.\n",
       "\n",
       "## Best Time to Visit\n",
       "**The best time to visit Chiang Mai is during the cool season, from November to February, when the weather is pleasant and ideal for outdoor activities.**\n",
       "\n",
       "## Top Attractions\n",
       "- **Wat Phra That Doi Suthep:** A sacred temple located on a mountain with panoramic views of the city.\n",
       "- **Old City:** Explore the ancient walls and moats, visit temples, and experience the local way of life.\n",
       "- **Night Bazaar:** Shop for local handicrafts, souvenirs, and enjoy street food.\n",
       "- **Elephant Nature Park:** Interact with rescued elephants ethically and learn about conservation efforts.\n",
       "- **Doi Inthanon National Park:** Discover Thailand's highest peak, waterfalls, and hill tribe villages.\n",
       "\n",
       "## Local Culture and Etiquette\n",
       "- **Respect for the King and the Royal Family is paramount, and it's important to dress modestly when visiting temples.**\n",
       "- **Remove shoes before entering homes or temples.**\n",
       "- **Greet locals with a slight bow (wai) and a smile.**\n",
       "- **Avoid public displays of affection.**\n",
       "\n",
       "## Getting Around\n",
       "- **Tuk-tuks and songthaews are popular modes of transportation within the city.**\n",
       "- **Renting a scooter is a convenient way to explore Chiang Mai and its surrounding areas.**\n",
       "- **Grab (ride-hailing app) and traditional taxis are also available for longer distances.**\n",
       "\n",
       "## Food and Dining\n",
       "- **Don't miss trying khao soi, a popular Northern Thai coconut curry noodle soup.**\n",
       "- **Visit local markets like Warorot Market and Muang Mai Market for authentic Thai street food.**\n",
       "- **Experience a traditional Khantoke dinner with cultural performances.**\n",
       "\n",
       "## Accommodation\n",
       "- **Chiang Mai offers a range of accommodation options from budget hostels to luxury resorts.**\n",
       "- **Stay in the Old City for easy access to temples and markets, or Nimmanhaemin Road for a trendy vibe.**\n",
       "\n",
       "## Safety and Health\n",
       "- **Chiang Mai is relatively safe, but be cautious of pickpocketing in crowded areas.**\n",
       "- **Drink bottled water and use mosquito repellent to prevent mosquito-borne illnesses.**\n",
       "- **Check travel advisories for any health concerns or updates on safety issues.**\n",
       "\n",
       "## Budget Tips\n",
       "- **Street food and local markets offer affordable dining options.**\n",
       "- **Take advantage of free temple visits and explore nature parks for budget-friendly activities.**\n",
       "- **Consider staying in guesthouses or hostels for budget accommodation.**\n",
       "\n",
       "## Unique Experiences\n",
       "- **Attend the Yi Peng Lantern Festival in November for a magical sight of sky lanterns floating into the night sky.**\n",
       "- **Learn Thai cooking with a local cooking class and visit organic farms.**\n",
       "- **Explore the countryside by trekking through the hills and staying in remote villages.**\n",
       "\n",
       "## Essential Phrases\n",
       "- **Sawadee ka/kap (Hello)**\n",
       "- **Kob khun ka/kap (Thank you)**\n",
       "- **Nitt mo nah? (How much is this?)**\n",
       "\n",
       "## Summary\n",
       "Chiang Mai offers a perfect blend of cultural experiences, natural beauty, and modern amenities for travelers. By respecting local customs, trying regional cuisine, and exploring the city's unique attractions, visitors can immerse themselves in the charm of this northern Thai gem."
      ],
      "text/plain": [
       "<IPython.core.display.Markdown object>"
      ]
     },
     "metadata": {},
     "output_type": "display_data"
    }
   ],
   "source": [
    "destination = \"Chiang Mai\"\n",
    "stream = client.chat.completions.create(\n",
    "    model=\"gpt-3.5-turbo-0125\",\n",
    "    messages=[\n",
    "        {\"role\": \"system\", \"content\": system_prompt},\n",
    "        {\"role\": \"user\", \"content\": f\"Provide key travel tips for {destination}\"}\n",
    "    ],\n",
    "    stream=True\n",
    ")\n",
    "\n",
    "full_response = \"\"\n",
    "for chunk in stream:\n",
    "    if chunk.choices[0].delta.content is not None:\n",
    "        content = chunk.choices[0].delta.content\n",
    "        full_response += content\n",
    "        \n",
    "        # Clear the current output and display the updated markdown\n",
    "        clear_output(wait=True)\n",
    "        display(Markdown(full_response))\n",
    "        \n",
    "        # Add a small delay to make the streaming visible\n",
    "        time.sleep(0.01)"
   ]
  },
  {
   "cell_type": "markdown",
   "metadata": {},
   "source": [
    "***\n",
    "\n",
    "## RAG Implementation"
   ]
  },
  {
   "cell_type": "markdown",
   "metadata": {},
   "source": [
    "## TODO: Need to create system that dynamically finds reddit threads (maybe tripadvisor if time permits) given a location (refer to the diagram in slides to implement)\n",
    "* Searches google API for places based on \"things to do in <location> site:reddit.com\" etc."
   ]
  },
  {
   "cell_type": "code",
   "execution_count": 6,
   "metadata": {},
   "outputs": [],
   "source": [
    "# code here"
   ]
  },
  {
   "cell_type": "markdown",
   "metadata": {},
   "source": [
    "### Testing\n",
    "* Below is a test list of sources for Chiang Mai (still need to implement the system for fetching docs from Google)"
   ]
  },
  {
   "cell_type": "code",
   "execution_count": 7,
   "metadata": {},
   "outputs": [],
   "source": [
    "sources = [\n",
    "    'https://www.reddit.com/r/chiangmai/comments/1cb3fx4/yi_pengloi_krathong_2024/',\n",
    "    'https://www.reddit.com/r/ThailandTourism/comments/1cpccho/yi_peng_festival_on_a_budget/',\n",
    "    'https://www.reddit.com/r/ThailandTourism/comments/13b0gld/help_me_with_chiang_mai_itinerary/',\n",
    "    'https://www.reddit.com/r/chiangmai/comments/1evxoyu/4_days_trip_in_chiang_mai_any_suggestions_for/',\n",
    "    'https://www.reddit.com/r/chiangmai/comments/1er2mj4/things_to_do_in_chiang_mai/',\n",
    "    'https://www.reddit.com/r/chiangmai/comments/1bmosut/chiang_mai_trip_report_places_to_eat_activities/',\n",
    "    'https://www.reddit.com/r/chiangmai/comments/185wni7/what_to_do_in_chiang_mai/',\n",
    "    \n",
    "    # buggy tripadvisor\n",
    "    'https://www.tripadvisor.com/ShowUserReviews-g293917-d8820428-r621075297-Yi_Peng_and_Loy_Krathong_Lantern_Festival-Chiang_Mai.html'\n",
    "]"
   ]
  },
  {
   "cell_type": "code",
   "execution_count": 8,
   "metadata": {},
   "outputs": [
    {
     "name": "stderr",
     "output_type": "stream",
     "text": [
      "/Users/timothyz/Library/Python/3.9/lib/python/site-packages/urllib3/__init__.py:35: NotOpenSSLWarning: urllib3 v2 only supports OpenSSL 1.1.1+, currently the 'ssl' module is compiled with 'LibreSSL 2.8.3'. See: https://github.com/urllib3/urllib3/issues/3020\n",
      "  warnings.warn(\n"
     ]
    }
   ],
   "source": [
    "import praw\n",
    "import requests\n",
    "from bs4 import BeautifulSoup, SoupStrainer\n",
    "from urllib.parse import urlparse\n",
    "import pandas as pd\n",
    "import time\n",
    "from typing import List, Dict\n",
    "import os\n"
   ]
  },
  {
   "cell_type": "markdown",
   "metadata": {},
   "source": [
    "### Reddit API Key\n",
    "Create a Reddit API key by following the instructions [here](https://www.reddit.com/prefs/apps) (create a script)\n",
    "\n",
    "add the following to your `.env` file\n",
    "```bash\n",
    "REDDIT_CLIENT_ID = \"<your-reddit-client-id>\"\n",
    "REDDIT_CLIENT_SECRET = \"<your-reddit-client-secret>\" \n",
    "REDDIT_USER_AGENT = \"python:<app-name>:v1.0 (by /u/<your-reddit-username>)\"\n",
    "```"
   ]
  },
  {
   "cell_type": "code",
   "execution_count": 9,
   "metadata": {},
   "outputs": [],
   "source": [
    "# Scrape reddit using praw\n",
    "\n",
    "# using praw to better seperate reddit data\n",
    "reddit = praw.Reddit(\n",
    "    client_id=os.environ.get(\"REDDIT_CLIENT_ID\"),\n",
    "    client_secret=os.environ.get(\"REDDIT_CLIENT_SECRET\"),\n",
    "    user_agent=os.environ.get(\"REDDIT_USER_AGENT\"),\n",
    ")\n",
    "\n",
    "def scrape_reddit_post(url: str) -> Dict:\n",
    "    \"\"\"Scrape content from a Reddit post.\"\"\"\n",
    "    try:\n",
    "        # Extract post ID from URL\n",
    "        submission_id = url.split('comments/')[1].split('/')[0]\n",
    "        submission = reddit.submission(id=submission_id)\n",
    "        \n",
    "        # Get post content\n",
    "        post_data = {\n",
    "            'title': submission.title,\n",
    "            'text': submission.selftext,\n",
    "            'comments': [],\n",
    "            'url': url,\n",
    "            'source': 'reddit'\n",
    "        }\n",
    "        \n",
    "        # Get comments (limit to top-level comments)\n",
    "        submission.comments.replace_more(limit=0)\n",
    "        for comment in submission.comments:\n",
    "            if not comment.stickied:  # Skip stickied comments\n",
    "                post_data['comments'].append(comment.body)\n",
    "        \n",
    "        return post_data\n",
    "    \n",
    "    except Exception as e:\n",
    "        print(f\"Error scraping Reddit post {url}: {str(e)}\")\n",
    "        return None\n"
   ]
  },
  {
   "cell_type": "code",
   "execution_count": 10,
   "metadata": {},
   "outputs": [
    {
     "name": "stderr",
     "output_type": "stream",
     "text": [
      "USER_AGENT environment variable not set, consider setting it to identify your requests.\n"
     ]
    }
   ],
   "source": [
    "from langchain_community.document_loaders import WebBaseLoader\n",
    "\n",
    "# TODO scraping tripadvisor is too buggy keeps getting rate limited\n",
    "def scrape_tripadvisor(url: str):\n",
    "    loader = WebBaseLoader(\n",
    "    web_paths=(url,),\n",
    "    bs_kwargs=dict(\n",
    "        parse_only=SoupStrainer(\n",
    "            class_=(\"post-content\", \"post-title\", \"post-header\")\n",
    "            )\n",
    "        ),\n",
    "    )\n",
    "    return loader.load()[0]"
   ]
  },
  {
   "cell_type": "code",
   "execution_count": 11,
   "metadata": {},
   "outputs": [],
   "source": [
    "# Combined function\n",
    "def scrape_urls(urls: List[str]) -> pd.DataFrame:\n",
    "    \"\"\"Scrape content from a list of URLs.\"\"\"\n",
    "    scraped_data = []\n",
    "    \n",
    "    for url in urls:\n",
    "        print(f\"Scraping {url}\")\n",
    "        domain = urlparse(url).netloc\n",
    "        \n",
    "        # Add delay between requests\n",
    "        time.sleep(1)\n",
    "        \n",
    "        if 'reddit.com' in domain:\n",
    "            data = scrape_reddit_post(url)\n",
    "        else:\n",
    "            data = scrape_tripadvisor(url)\n",
    "            \n",
    "        if data:\n",
    "            scraped_data.append(data)\n",
    "    \n",
    "    # Convert to DataFrame\n",
    "    df = pd.DataFrame(scraped_data)\n",
    "    return df\n",
    "\n",
    "# non-reddit links keep getting rate limited\n",
    "# display(scrape_urls(['https://www.tripadvisor.com/ShowUserReviews-g293917-d8820428-r621075297-Yi_Peng_and_Loy_Krathong_Lantern_Festival-Chiang_Mai.html']))"
   ]
  },
  {
   "cell_type": "code",
   "execution_count": 12,
   "metadata": {},
   "outputs": [
    {
     "name": "stdout",
     "output_type": "stream",
     "text": [
      "Scraping https://www.reddit.com/r/chiangmai/comments/1cb3fx4/yi_pengloi_krathong_2024/\n",
      "Scraping https://www.reddit.com/r/ThailandTourism/comments/1cpccho/yi_peng_festival_on_a_budget/\n",
      "Scraping https://www.reddit.com/r/ThailandTourism/comments/13b0gld/help_me_with_chiang_mai_itinerary/\n",
      "Scraping https://www.reddit.com/r/chiangmai/comments/1evxoyu/4_days_trip_in_chiang_mai_any_suggestions_for/\n",
      "Scraping https://www.reddit.com/r/chiangmai/comments/1er2mj4/things_to_do_in_chiang_mai/\n",
      "Scraping https://www.reddit.com/r/chiangmai/comments/1bmosut/chiang_mai_trip_report_places_to_eat_activities/\n",
      "Scraping https://www.reddit.com/r/chiangmai/comments/185wni7/what_to_do_in_chiang_mai/\n"
     ]
    },
    {
     "data": {
      "text/html": [
       "<div>\n",
       "<style scoped>\n",
       "    .dataframe tbody tr th:only-of-type {\n",
       "        vertical-align: middle;\n",
       "    }\n",
       "\n",
       "    .dataframe tbody tr th {\n",
       "        vertical-align: top;\n",
       "    }\n",
       "\n",
       "    .dataframe thead th {\n",
       "        text-align: right;\n",
       "    }\n",
       "</style>\n",
       "<table border=\"1\" class=\"dataframe\">\n",
       "  <thead>\n",
       "    <tr style=\"text-align: right;\">\n",
       "      <th></th>\n",
       "      <th>title</th>\n",
       "      <th>text</th>\n",
       "      <th>comments</th>\n",
       "      <th>url</th>\n",
       "      <th>source</th>\n",
       "    </tr>\n",
       "  </thead>\n",
       "  <tbody>\n",
       "    <tr>\n",
       "      <th>0</th>\n",
       "      <td>Yi Peng/Loi Krathong 2024</td>\n",
       "      <td>Hey everyone!\\n\\nMy Girl and me want to visit ...</td>\n",
       "      <td>[There is events you can pay to go, but I woul...</td>\n",
       "      <td>https://www.reddit.com/r/chiangmai/comments/1c...</td>\n",
       "      <td>reddit</td>\n",
       "    </tr>\n",
       "    <tr>\n",
       "      <th>1</th>\n",
       "      <td>Yi Peng Festival - on a Budget</td>\n",
       "      <td>Hi, so I'm from the Philippines! \\n\\nMy friend...</td>\n",
       "      <td>[No matter where you stay in the Old City area...</td>\n",
       "      <td>https://www.reddit.com/r/ThailandTourism/comme...</td>\n",
       "      <td>reddit</td>\n",
       "    </tr>\n",
       "    <tr>\n",
       "      <th>2</th>\n",
       "      <td>Help me with Chiang Mai itinerary</td>\n",
       "      <td>This September me and my friends will be in Ch...</td>\n",
       "      <td>[You'll be completely fucked after a night bus...</td>\n",
       "      <td>https://www.reddit.com/r/ThailandTourism/comme...</td>\n",
       "      <td>reddit</td>\n",
       "    </tr>\n",
       "    <tr>\n",
       "      <th>3</th>\n",
       "      <td>4 days trip in Chiang Mai - Any suggestions fo...</td>\n",
       "      <td>Hello all! I'm planning on a solo trip to Chia...</td>\n",
       "      <td>[Sticky waterfall: a wonder that will mess wit...</td>\n",
       "      <td>https://www.reddit.com/r/chiangmai/comments/1e...</td>\n",
       "      <td>reddit</td>\n",
       "    </tr>\n",
       "    <tr>\n",
       "      <th>4</th>\n",
       "      <td>Things to do in Chiang Mai</td>\n",
       "      <td>Hey guys! I'm an Irish Tourist and am in Chian...</td>\n",
       "      <td>[Here’s a helpful [Chiang Mai Itinerary](https...</td>\n",
       "      <td>https://www.reddit.com/r/chiangmai/comments/1e...</td>\n",
       "      <td>reddit</td>\n",
       "    </tr>\n",
       "  </tbody>\n",
       "</table>\n",
       "</div>"
      ],
      "text/plain": [
       "                                               title  \\\n",
       "0                          Yi Peng/Loi Krathong 2024   \n",
       "1                     Yi Peng Festival - on a Budget   \n",
       "2                  Help me with Chiang Mai itinerary   \n",
       "3  4 days trip in Chiang Mai - Any suggestions fo...   \n",
       "4                         Things to do in Chiang Mai   \n",
       "\n",
       "                                                text  \\\n",
       "0  Hey everyone!\\n\\nMy Girl and me want to visit ...   \n",
       "1  Hi, so I'm from the Philippines! \\n\\nMy friend...   \n",
       "2  This September me and my friends will be in Ch...   \n",
       "3  Hello all! I'm planning on a solo trip to Chia...   \n",
       "4  Hey guys! I'm an Irish Tourist and am in Chian...   \n",
       "\n",
       "                                            comments  \\\n",
       "0  [There is events you can pay to go, but I woul...   \n",
       "1  [No matter where you stay in the Old City area...   \n",
       "2  [You'll be completely fucked after a night bus...   \n",
       "3  [Sticky waterfall: a wonder that will mess wit...   \n",
       "4  [Here’s a helpful [Chiang Mai Itinerary](https...   \n",
       "\n",
       "                                                 url  source  \n",
       "0  https://www.reddit.com/r/chiangmai/comments/1c...  reddit  \n",
       "1  https://www.reddit.com/r/ThailandTourism/comme...  reddit  \n",
       "2  https://www.reddit.com/r/ThailandTourism/comme...  reddit  \n",
       "3  https://www.reddit.com/r/chiangmai/comments/1e...  reddit  \n",
       "4  https://www.reddit.com/r/chiangmai/comments/1e...  reddit  "
      ]
     },
     "metadata": {},
     "output_type": "display_data"
    }
   ],
   "source": [
    "# Scrape reddit only\n",
    "reddit_results = scrape_urls([s for s in sources if 'reddit' in s])\n",
    "\n",
    "# Display first few rows\n",
    "display(reddit_results.head())"
   ]
  },
  {
   "cell_type": "markdown",
   "metadata": {},
   "source": [
    "### Encode Reddit data in single string for embedding\n",
    "\n",
    "Target structure (Markdown):\n",
    "\n",
    "* Markdown performance in GPT-4 is cheaper and more token-efficient\n",
    "- https://arxiv.org/html/2411.10541v1\n",
    "   - GPT-3.5-turbo prefers JSON, whereas GPT-4 favors Markdown\n",
    "   - Encode in markdown since we are using GPT-4\n",
    "- https://community.openai.com/t/markdown-is-15-more-token-efficient-than-json/841742"
   ]
  },
  {
   "cell_type": "code",
   "execution_count": 13,
   "metadata": {},
   "outputs": [
    {
     "data": {
      "text/plain": [
       "title                               Yi Peng/Loi Krathong 2024\n",
       "text        Hey everyone!\\n\\nMy Girl and me want to visit ...\n",
       "comments    [There is events you can pay to go, but I woul...\n",
       "url         https://www.reddit.com/r/chiangmai/comments/1c...\n",
       "source                                                 reddit\n",
       "Name: 0, dtype: object"
      ]
     },
     "execution_count": 13,
     "metadata": {},
     "output_type": "execute_result"
    }
   ],
   "source": [
    "first_post = reddit_results.iloc[0]\n",
    "first_post"
   ]
  },
  {
   "cell_type": "code",
   "execution_count": 14,
   "metadata": {},
   "outputs": [],
   "source": [
    "from dataclasses import dataclass\n",
    "from typing import List\n",
    "import textwrap\n",
    "\n",
    "@dataclass\n",
    "class RedditThread:\n",
    "    title: str\n",
    "    text: str\n",
    "    comments: List[str]\n",
    "    url: str\n",
    "    source: str\n",
    "    \n",
    "    def __str__(self) -> str:\n",
    "        # Format the main post\n",
    "        output = [\n",
    "            f\"# {self.title}\",\n",
    "            \"\",\n",
    "            f\"## Original Post\",\n",
    "            \"\",\n",
    "            textwrap.fill(self.text, width=80),\n",
    "            \"\",\n",
    "            \"### Comments\",\n",
    "            \"\"\n",
    "        ]\n",
    "        \n",
    "        # Format comments with indentation to show thread structure\n",
    "        for comment in self.comments:\n",
    "            # Calculate comment depth based on leading spaces\n",
    "            depth = len(comment) - len(comment.lstrip())\n",
    "            # Remove leading spaces and wrap text\n",
    "            clean_comment = comment.lstrip()\n",
    "            # Add markdown list marker with proper indentation\n",
    "            indent = \"  \" * (depth // 2)  # Adjust indentation based on depth\n",
    "            wrapped_comment = textwrap.fill(\n",
    "                clean_comment,\n",
    "                width=80,\n",
    "                initial_indent=f\"{indent}- \",\n",
    "                subsequent_indent=f\"{indent}  \"\n",
    "            )\n",
    "            output.append(wrapped_comment)\n",
    "        \n",
    "        output += [\n",
    "            \"\",\n",
    "            \"#### URL\",\n",
    "            self.url\n",
    "        ]\n",
    "        \n",
    "        return \"\\n\".join(output)\n",
    "    \n",
    "    def get_comments_as_str(self):\n",
    "        output = [\"### Comments\"]\n",
    "        # Format comments with indentation to show thread structure\n",
    "        for comment in self.comments:\n",
    "            # Calculate comment depth based on leading spaces\n",
    "            depth = len(comment) - len(comment.lstrip())\n",
    "            # Remove leading spaces and wrap text\n",
    "            clean_comment = comment.lstrip()\n",
    "            # Add markdown list marker with proper indentation\n",
    "            indent = \"  \" * (depth // 2)  # Adjust indentation based on depth\n",
    "            wrapped_comment = textwrap.fill(\n",
    "                clean_comment,\n",
    "                width=80,\n",
    "                initial_indent=f\"{indent}- \",\n",
    "                subsequent_indent=f\"{indent}  \"\n",
    "            )\n",
    "            output.append(wrapped_comment)\n",
    "        return \"\\n\".join(output)"
   ]
  },
  {
   "cell_type": "code",
   "execution_count": 15,
   "metadata": {},
   "outputs": [],
   "source": [
    "reddit_threads = [RedditThread(\n",
    "    title=row['title'],\n",
    "    text=row['text'],\n",
    "    comments=row['comments'],\n",
    "    url=row['url'],\n",
    "    source=row['source']\n",
    ") for index, row in reddit_results.iterrows()]"
   ]
  },
  {
   "cell_type": "code",
   "execution_count": 16,
   "metadata": {},
   "outputs": [
    {
     "data": {
      "text/plain": [
       "\"# Yi Peng/Loi Krathong 2024\\n\\n## Original Post\\n\\nHey everyone!  My Girl and me want to visit Thailand in November. We saw that\\naround the 15./16. of November there will be the Yi Peng and Loi Krathong\\nfestivities in Chiang Mai. It is not easy to get an overview of what to expect\\nthere. So I am grateful for any information!   So here are a few questions:  -\\nDo we need to attend the paid festival by CAD? Or is this just a touristic cash\\ngrab? - Where to get a lantern? - Are we allowed to let a lantern start from\\nwithin the city?  - What is a “must see” at that time in Chiang mai? e.g. any\\nspecial ceremonies? Parades? - Is there like a timetable what is happening when\\nin the city?   Thank & Cheers!\\n\\n### Comments\\n\\n- There is events you can pay to go, but I would advise against it. It's very\\n  simple festival, go to any bridge on the ping river, there is lanterns\\n  everywhere to buy from street vendors, you can buy flowers to set on the water\\n  etc. You dont have to stress to much about time, when the sun goes down around\\n  7 is when you can expect the lanterns to raise to the air. Go have a nice\\n  dinner near ping river (Riverside or The Dukes, and when dinner is done go to\\n  the river and enjoy the sights and buy some lanterns and some flower\\n  decorations to give to the water spirits ( which is from my understanding what\\n  the whole festival Loi Krathong is about)   I hired a photographer for 2 hours\\n  in 2017 and got some amazing shots with me and my family.\\n- Hey, I was in CM for Yi Peng/Loi Krathong last November, it was very good. No\\n  need to go to the paid festival, the city centre (particularly around the\\n  river area) is absolutely buzzing with people/festivities and decorated\\n  beautifully.  In terms of launching lanterns from the city - people seemed to\\n  be launching them mostly from Nawarat Bridge (literally hundreds, maybe\\n  thousands). I can't endorse this though as it's banned due to fire risk. It\\n  also can't be great for the environment / wildlife. Unfortunately there was a\\n  big fire last year that took hours to put out\\n  (https://www.nationthailand.com/thailand/general/40033278). I witnessed it\\n  from my balcony and it was a very sad sight. Apparently this has happed in\\n  previous years too. Fortunately I think nobody was hurt, but people probably\\n  lost homes, or at very least businesses.  Other than that, it was a really\\n  great festival. CM (and Thailand in general) has some of the strongest\\n  festival game I've ever seen. Each one truly magical and memorable. And yes,\\n  there was parade around the perimeter of the Old City on one of the last days,\\n  that was good too.  One thing I'd say is to try and book accommodation and\\n  flights (if that's how you'll be travelling) well in advance as a lot of\\n  people visit CM for this festival. I was there for the the whole of November\\n  and the influx was very noticeable. Afterwards, as my departure from CM\\n  happened to coincide with the end of Yi Peng/Loi Krathong, I ended up having\\n  to get a 10hr bus to BKK to just get a reasonably priced last(ish) minute\\n  flight to HCM as this was \\\\~$300 from CM (usually $50-70 for this route). I\\n  imagine it would've been cheaper from CM if I'd booked more in advance.  Have\\n  a great time! I love CM so much, one of my favourite places in the world. If\\n  you have time, drive \\\\~20mins from the centre (or get a Grab taxi for \\\\~300\\n  bhat) to Royal Park Rajapruek. Afterwards, you can also drive/taxi 5-10min up\\n  to Wat Phra That Doi Kham, the temple overlooking the park + has a great view\\n  over CM (if you go up by Grab taxi you may have to get a songthaew back down\\n  though as I'm not sure if Grab collect from up there, or perhaps you could try\\n  and tipping the Grab driver that took you up to wait for you). This area is\\n  truly special and relatively unknown / unvisited by tourists as it's a bit out\\n  of town.\\n- The paid event is worth it if you dgaf about the cost and want something less\\n  crowded and organized including transportation to/from and everything planned\\n  out.  There’s a free event at doi saket lakes which is fun but insanely\\n  overcrowded. It’s absolutely crazy how many people are here for it. We’re\\n  already sold out of beds for this year.\\n\\n#### URL\\nhttps://www.reddit.com/r/chiangmai/comments/1cb3fx4/yi_pengloi_krathong_2024/\""
      ]
     },
     "execution_count": 16,
     "metadata": {},
     "output_type": "execute_result"
    }
   ],
   "source": [
    "str(reddit_threads[0])"
   ]
  },
  {
   "cell_type": "code",
   "execution_count": 17,
   "metadata": {},
   "outputs": [
    {
     "data": {
      "text/markdown": [
       "# Yi Peng/Loi Krathong 2024\n",
       "\n",
       "## Original Post\n",
       "\n",
       "Hey everyone!  My Girl and me want to visit Thailand in November. We saw that\n",
       "around the 15./16. of November there will be the Yi Peng and Loi Krathong\n",
       "festivities in Chiang Mai. It is not easy to get an overview of what to expect\n",
       "there. So I am grateful for any information!   So here are a few questions:  -\n",
       "Do we need to attend the paid festival by CAD? Or is this just a touristic cash\n",
       "grab? - Where to get a lantern? - Are we allowed to let a lantern start from\n",
       "within the city?  - What is a “must see” at that time in Chiang mai? e.g. any\n",
       "special ceremonies? Parades? - Is there like a timetable what is happening when\n",
       "in the city?   Thank & Cheers!\n",
       "\n",
       "### Comments\n",
       "\n",
       "- There is events you can pay to go, but I would advise against it. It's very\n",
       "  simple festival, go to any bridge on the ping river, there is lanterns\n",
       "  everywhere to buy from street vendors, you can buy flowers to set on the water\n",
       "  etc. You dont have to stress to much about time, when the sun goes down around\n",
       "  7 is when you can expect the lanterns to raise to the air. Go have a nice\n",
       "  dinner near ping river (Riverside or The Dukes, and when dinner is done go to\n",
       "  the river and enjoy the sights and buy some lanterns and some flower\n",
       "  decorations to give to the water spirits ( which is from my understanding what\n",
       "  the whole festival Loi Krathong is about)   I hired a photographer for 2 hours\n",
       "  in 2017 and got some amazing shots with me and my family.\n",
       "- Hey, I was in CM for Yi Peng/Loi Krathong last November, it was very good. No\n",
       "  need to go to the paid festival, the city centre (particularly around the\n",
       "  river area) is absolutely buzzing with people/festivities and decorated\n",
       "  beautifully.  In terms of launching lanterns from the city - people seemed to\n",
       "  be launching them mostly from Nawarat Bridge (literally hundreds, maybe\n",
       "  thousands). I can't endorse this though as it's banned due to fire risk. It\n",
       "  also can't be great for the environment / wildlife. Unfortunately there was a\n",
       "  big fire last year that took hours to put out\n",
       "  (https://www.nationthailand.com/thailand/general/40033278). I witnessed it\n",
       "  from my balcony and it was a very sad sight. Apparently this has happed in\n",
       "  previous years too. Fortunately I think nobody was hurt, but people probably\n",
       "  lost homes, or at very least businesses.  Other than that, it was a really\n",
       "  great festival. CM (and Thailand in general) has some of the strongest\n",
       "  festival game I've ever seen. Each one truly magical and memorable. And yes,\n",
       "  there was parade around the perimeter of the Old City on one of the last days,\n",
       "  that was good too.  One thing I'd say is to try and book accommodation and\n",
       "  flights (if that's how you'll be travelling) well in advance as a lot of\n",
       "  people visit CM for this festival. I was there for the the whole of November\n",
       "  and the influx was very noticeable. Afterwards, as my departure from CM\n",
       "  happened to coincide with the end of Yi Peng/Loi Krathong, I ended up having\n",
       "  to get a 10hr bus to BKK to just get a reasonably priced last(ish) minute\n",
       "  flight to HCM as this was \\~$300 from CM (usually $50-70 for this route). I\n",
       "  imagine it would've been cheaper from CM if I'd booked more in advance.  Have\n",
       "  a great time! I love CM so much, one of my favourite places in the world. If\n",
       "  you have time, drive \\~20mins from the centre (or get a Grab taxi for \\~300\n",
       "  bhat) to Royal Park Rajapruek. Afterwards, you can also drive/taxi 5-10min up\n",
       "  to Wat Phra That Doi Kham, the temple overlooking the park + has a great view\n",
       "  over CM (if you go up by Grab taxi you may have to get a songthaew back down\n",
       "  though as I'm not sure if Grab collect from up there, or perhaps you could try\n",
       "  and tipping the Grab driver that took you up to wait for you). This area is\n",
       "  truly special and relatively unknown / unvisited by tourists as it's a bit out\n",
       "  of town.\n",
       "- The paid event is worth it if you dgaf about the cost and want something less\n",
       "  crowded and organized including transportation to/from and everything planned\n",
       "  out.  There’s a free event at doi saket lakes which is fun but insanely\n",
       "  overcrowded. It’s absolutely crazy how many people are here for it. We’re\n",
       "  already sold out of beds for this year.\n",
       "\n",
       "#### URL\n",
       "https://www.reddit.com/r/chiangmai/comments/1cb3fx4/yi_pengloi_krathong_2024/"
      ],
      "text/plain": [
       "<IPython.core.display.Markdown object>"
      ]
     },
     "metadata": {},
     "output_type": "display_data"
    }
   ],
   "source": [
    "display(Markdown(str(reddit_threads[0])))"
   ]
  },
  {
   "cell_type": "markdown",
   "metadata": {},
   "source": [
    "### Add reddit data into vector store"
   ]
  },
  {
   "cell_type": "code",
   "execution_count": 18,
   "metadata": {},
   "outputs": [
    {
     "name": "stdout",
     "output_type": "stream",
     "text": [
      "Note: you may need to restart the kernel to use updated packages.\n",
      "Note: you may need to restart the kernel to use updated packages.\n",
      "Note: you may need to restart the kernel to use updated packages.\n"
     ]
    }
   ],
   "source": [
    "%pip install --quiet sentence-transformers\n",
    "%pip install --quiet langchain\n",
    "%pip install --quiet langchain_openai"
   ]
  },
  {
   "cell_type": "code",
   "execution_count": 19,
   "metadata": {},
   "outputs": [],
   "source": [
    "from langchain_openai import ChatOpenAI\n",
    "\n",
    "llm = ChatOpenAI(\n",
    "    model=\"gpt-4o\"\n",
    ")"
   ]
  },
  {
   "cell_type": "code",
   "execution_count": 20,
   "metadata": {},
   "outputs": [],
   "source": [
    "reddit_thread_strings = [str(t) for t in reddit_threads] # not being used anymore"
   ]
  },
  {
   "cell_type": "code",
   "execution_count": 21,
   "metadata": {},
   "outputs": [
    {
     "name": "stderr",
     "output_type": "stream",
     "text": [
      "/var/folders/4p/cxyrtqhj6g16s0hdsll_bgfm0000gn/T/ipykernel_75949/1002293555.py:13: LangChainDeprecationWarning: The class `HuggingFaceEmbeddings` was deprecated in LangChain 0.2.2 and will be removed in 1.0. An updated version of the class exists in the :class:`~langchain-huggingface package and should be used instead. To use it run `pip install -U :class:`~langchain-huggingface` and import as `from :class:`~langchain_huggingface import HuggingFaceEmbeddings``.\n",
      "  embeddings = HuggingFaceEmbeddings(\n",
      "/Users/timothyz/Library/Python/3.9/lib/python/site-packages/tqdm/auto.py:21: TqdmWarning: IProgress not found. Please update jupyter and ipywidgets. See https://ipywidgets.readthedocs.io/en/stable/user_install.html\n",
      "  from .autonotebook import tqdm as notebook_tqdm\n",
      "/var/folders/4p/cxyrtqhj6g16s0hdsll_bgfm0000gn/T/ipykernel_75949/1002293555.py:42: LangChainDeprecationWarning: Since Chroma 0.4.x the manual persistence method is no longer supported as docs are automatically persisted.\n",
      "  vectorstore.persist()\n"
     ]
    }
   ],
   "source": [
    "from langchain.embeddings import HuggingFaceEmbeddings\n",
    "from langchain.vectorstores import Chroma\n",
    "from langchain.schema import Document\n",
    "import numpy as np\n",
    "from typing import List, Optional\n",
    "import re\n",
    "\n",
    "def create_reddit_vectorstore(\n",
    "    reddit_threads: List[RedditThread], \n",
    "    persist_directory: str = \"./chroma_db\",\n",
    ") -> Chroma:\n",
    "# Initialize embeddings model\n",
    "    embeddings = HuggingFaceEmbeddings(\n",
    "        model_name=\"sentence-transformers/all-MiniLM-L12-v2\", # allows embedding the entire reddit thread, which is probably more useful\n",
    "        model_kwargs={'device': 'mps'}\n",
    "    )\n",
    "    \n",
    "    # Convert threads to Documents with metadata\n",
    "    documents = []\n",
    "    for i, thread in enumerate(reddit_threads):\n",
    "        metadata = {\n",
    "            \"thread_id\": i,\n",
    "            \"title\": thread.title,\n",
    "            \"content\": thread.text,\n",
    "            \"comments\": thread.get_comments_as_str(),\n",
    "            \"url\": thread.url,\n",
    "            \"type\": \"reddit_thread\",\n",
    "        }\n",
    "        \n",
    "        doc = Document(\n",
    "            page_content=str(thread),\n",
    "            metadata=metadata\n",
    "        )\n",
    "        documents.append(doc)\n",
    "    \n",
    "    vectorstore = Chroma.from_documents(\n",
    "        documents=documents,\n",
    "        embedding=embeddings,\n",
    "        persist_directory=persist_directory\n",
    "    )\n",
    "    \n",
    "    vectorstore.persist()\n",
    "    return vectorstore\n",
    "\n",
    "# Create vectorstore\n",
    "vectorstore = create_reddit_vectorstore(reddit_threads)\n",
    "\n",
    "retriever = vectorstore.as_retriever(\n",
    "    search_type=\"similarity\",\n",
    "    search_kwargs={\n",
    "        \"k\": 3,\n",
    "        \"filter\": None,\n",
    "    }\n",
    ")"
   ]
  },
  {
   "cell_type": "code",
   "execution_count": 22,
   "metadata": {},
   "outputs": [],
   "source": [
    "from langchain_core.prompts import ChatPromptTemplate\n",
    "\n",
    "rag_system_prompt = (\n",
    "    \"You're a helpful AI assistant. Given a user question \"\n",
    "    \"and some Reddit reddit threads formatted in markdown format composing of user questions and comments, answer the user \"\n",
    "    \"question using the replies in the comments based on the topic of the thread. If none of the threads answer the question, \"\n",
    "    \"just say you don't know.\"\n",
    "    \"\\n\\nHere are the Reddit Threads in full: \"\n",
    "    \"{context}\"\n",
    ")\n",
    "\n",
    "rag_prompt = ChatPromptTemplate.from_messages(\n",
    "    [\n",
    "        (\"system\", rag_system_prompt),\n",
    "        (\"human\", \"{input}\"),\n",
    "    ]\n",
    ")"
   ]
  },
  {
   "cell_type": "code",
   "execution_count": 23,
   "metadata": {},
   "outputs": [],
   "source": [
    "def format_reddit_threads(threads):\n",
    "    enumerated_reddit_threads = [\n",
    "        f\"Source ID: {i}\\nReddit Thread: {thread}\"\n",
    "        for i, thread in enumerate(threads)\n",
    "    ]\n",
    "\n",
    "    return \"\\n\\n\" + \"\\n\\n\".join(enumerated_reddit_threads)\n"
   ]
  },
  {
   "cell_type": "code",
   "execution_count": 24,
   "metadata": {},
   "outputs": [],
   "source": [
    "from pydantic import BaseModel, Field\n",
    "from langchain_core.runnables import RunnablePassthrough\n",
    "\n",
    "\n",
    "class Citation(BaseModel):\n",
    "    source_id: int = Field(\n",
    "        ...,\n",
    "        description=\"The integer ID of a SPECIFIC source which justifies the answer.\",\n",
    "    )\n",
    "    quote: str = Field(\n",
    "        ...,\n",
    "        description=\"The VERBATIM quote from the specified source that justifies the answer.\",\n",
    "    )\n",
    "\n",
    "\n",
    "class QuotedAnswer(BaseModel):\n",
    "    \"\"\"Answer the user question based only on the given sources, and cite the sources used.\"\"\"\n",
    "\n",
    "    answer: str = Field(\n",
    "        ...,\n",
    "        description=\"The answer to the user question, which is based only on the given sources.\",\n",
    "    )\n",
    "    citations: List[Citation] = Field(\n",
    "        ..., description=\"Citations from the given sources that justify the answer.\"\n",
    "    )\n",
    "\n",
    "rag_chain_from_docs = (\n",
    "    RunnablePassthrough.assign(context=(lambda x: format_reddit_threads(x[\"context\"])))\n",
    "    | rag_prompt\n",
    "    | llm.with_structured_output(QuotedAnswer)\n",
    ")\n",
    "\n",
    "\n",
    "retrieve_docs = (lambda x: x[\"input\"]) | retriever\n",
    "\n",
    "chain = RunnablePassthrough.assign(context=retrieve_docs).assign(\n",
    "    answer=rag_chain_from_docs\n",
    ")"
   ]
  },
  {
   "cell_type": "code",
   "execution_count": 25,
   "metadata": {},
   "outputs": [],
   "source": [
    "result = chain.invoke({\"input\": f\"What is a must-eat food in {destination}?\"})"
   ]
  },
  {
   "cell_type": "code",
   "execution_count": 26,
   "metadata": {},
   "outputs": [
    {
     "data": {
      "text/plain": [
       "QuotedAnswer(answer='In Chiang Mai, a must-eat food is Khao Soi, a northern Thai dish. Additionally, you should try Hung Lay curry and explore Lanna (northern) Thai food, which includes dishes such as nam prik ong, guang hung lay, and sai ua.', citations=[Citation(source_id=2, quote='Hung Lay curry.'), Citation(source_id=2, quote=\"do make sure you explore Lanna (northern) Thai food of which khao soi is only one dish and there's some great dishes to try, including nam prik ong, guang hung lay, sai ua and more.\")])"
      ]
     },
     "execution_count": 26,
     "metadata": {},
     "output_type": "execute_result"
    }
   ],
   "source": [
    "result[\"answer\"]"
   ]
  },
  {
   "cell_type": "code",
   "execution_count": 27,
   "metadata": {},
   "outputs": [
    {
     "data": {
      "text/plain": [
       "'In Chiang Mai, a must-eat food is Khao Soi, a northern Thai dish. Additionally, you should try Hung Lay curry and explore Lanna (northern) Thai food, which includes dishes such as nam prik ong, guang hung lay, and sai ua.'"
      ]
     },
     "execution_count": 27,
     "metadata": {},
     "output_type": "execute_result"
    }
   ],
   "source": [
    "result[\"answer\"].answer"
   ]
  },
  {
   "cell_type": "code",
   "execution_count": 30,
   "metadata": {},
   "outputs": [],
   "source": [
    "import json\n",
    "def format_citations_to_json(citations: List[Citation]) -> str:\n",
    "    # Convert citations to list of dictionaries\n",
    "    citations_dict = [citation.model_dump() for citation in citations]\n",
    "    \n",
    "    # Convert to JSON with proper formatting\n",
    "    json_output = json.dumps(citations_dict, indent=2)\n",
    "    return json_output"
   ]
  },
  {
   "cell_type": "code",
   "execution_count": 32,
   "metadata": {},
   "outputs": [
    {
     "name": "stdout",
     "output_type": "stream",
     "text": [
      "[\n",
      "  {\n",
      "    \"source_id\": 2,\n",
      "    \"quote\": \"Hung Lay curry.\"\n",
      "  },\n",
      "  {\n",
      "    \"source_id\": 2,\n",
      "    \"quote\": \"do make sure you explore Lanna (northern) Thai food of which khao soi is only one dish and there's some great dishes to try, including nam prik ong, guang hung lay, sai ua and more.\"\n",
      "  }\n",
      "]\n"
     ]
    }
   ],
   "source": [
    "print(format_citations_to_json(result[\"answer\"].citations))"
   ]
  },
  {
   "cell_type": "code",
   "execution_count": 33,
   "metadata": {},
   "outputs": [
    {
     "name": "stdout",
     "output_type": "stream",
     "text": [
      "# Things to do in Chiang Mai\n",
      "\n",
      "## Original Post\n",
      "\n",
      "Hey guys! I'm an Irish Tourist and am in Chiang Mai for a few days Does anyone\n",
      "have any recommendations for food or drinks?  I love a good bar, and I love good\n",
      "food. Apart from that please feel free to mention any other cool stuff!\n",
      "(Picture: Mae Salong, Chiang Rai)\n",
      "\n",
      "### Comments\n",
      "\n",
      "- Here’s a helpful [Chiang Mai Itinerary](https://travelhiatus.com/the-\n",
      "  perfect-4-days-in-chiang-mai-itinerary/) guide\n",
      "- https://www.tripadvisor.com/Tourism-g293917-Chiang_Mai-Vacations.html\n",
      "- Go to santitham and never leave\n",
      "- Skugga estate, the queen's botanical garden and Elephant Nature Park and\n",
      "  sunday night market were our highlights.\n",
      "- Well the UN Irish pub for a pint of Guinness and there's plenty on that road\n",
      "  to keep you entertained.\n",
      "\n",
      "#### URL\n",
      "https://www.reddit.com/r/chiangmai/comments/1er2mj4/things_to_do_in_chiang_mai/\n",
      "Metadata\n",
      "{\n",
      "    \"comments\": \"### Comments\\n- Here\\u2019s a helpful [Chiang Mai Itinerary](https://travelhiatus.com/the-\\n  perfect-4-days-in-chiang-mai-itinerary/) guide\\n- https://www.tripadvisor.com/Tourism-g293917-Chiang_Mai-Vacations.html\\n- Go to santitham and never leave\\n- Skugga estate, the queen's botanical garden and Elephant Nature Park and\\n  sunday night market were our highlights.\\n- Well the UN Irish pub for a pint of Guinness and there's plenty on that road\\n  to keep you entertained.\",\n",
      "    \"content\": \"Hey guys! I'm an Irish Tourist and am in Chiang Mai for a few days\\nDoes anyone have any recommendations for food or drinks? \\nI love a good bar, and I love good food.\\nApart from that please feel free to mention any other cool stuff! \\n(Picture: Mae Salong, Chiang Rai)\\n\",\n",
      "    \"thread_id\": 4,\n",
      "    \"title\": \"Things to do in Chiang Mai\",\n",
      "    \"type\": \"reddit_thread\",\n",
      "    \"url\": \"https://www.reddit.com/r/chiangmai/comments/1er2mj4/things_to_do_in_chiang_mai/\"\n",
      "}\n"
     ]
    }
   ],
   "source": [
    "first_result = result['context'][0]\n",
    "print(first_result.page_content)\n",
    "\n",
    "print(\"Metadata\")\n",
    "\n",
    "import json\n",
    "\n",
    "print(json.dumps(\n",
    "    first_result.metadata,\n",
    "    sort_keys=False,\n",
    "    indent=4,\n",
    "    separators=(',', ': ')\n",
    "))"
   ]
  },
  {
   "cell_type": "code",
   "execution_count": 34,
   "metadata": {},
   "outputs": [
    {
     "data": {
      "text/plain": [
       "[Document(metadata={'comments': \"### Comments\\n- Here’s a helpful [Chiang Mai Itinerary](https://travelhiatus.com/the-\\n  perfect-4-days-in-chiang-mai-itinerary/) guide\\n- https://www.tripadvisor.com/Tourism-g293917-Chiang_Mai-Vacations.html\\n- Go to santitham and never leave\\n- Skugga estate, the queen's botanical garden and Elephant Nature Park and\\n  sunday night market were our highlights.\\n- Well the UN Irish pub for a pint of Guinness and there's plenty on that road\\n  to keep you entertained.\", 'content': \"Hey guys! I'm an Irish Tourist and am in Chiang Mai for a few days\\nDoes anyone have any recommendations for food or drinks? \\nI love a good bar, and I love good food.\\nApart from that please feel free to mention any other cool stuff! \\n(Picture: Mae Salong, Chiang Rai)\\n\", 'thread_id': 4, 'title': 'Things to do in Chiang Mai', 'type': 'reddit_thread', 'url': 'https://www.reddit.com/r/chiangmai/comments/1er2mj4/things_to_do_in_chiang_mai/'}, page_content=\"# Things to do in Chiang Mai\\n\\n## Original Post\\n\\nHey guys! I'm an Irish Tourist and am in Chiang Mai for a few days Does anyone\\nhave any recommendations for food or drinks?  I love a good bar, and I love good\\nfood. Apart from that please feel free to mention any other cool stuff!\\n(Picture: Mae Salong, Chiang Rai)\\n\\n### Comments\\n\\n- Here’s a helpful [Chiang Mai Itinerary](https://travelhiatus.com/the-\\n  perfect-4-days-in-chiang-mai-itinerary/) guide\\n- https://www.tripadvisor.com/Tourism-g293917-Chiang_Mai-Vacations.html\\n- Go to santitham and never leave\\n- Skugga estate, the queen's botanical garden and Elephant Nature Park and\\n  sunday night market were our highlights.\\n- Well the UN Irish pub for a pint of Guinness and there's plenty on that road\\n  to keep you entertained.\\n\\n#### URL\\nhttps://www.reddit.com/r/chiangmai/comments/1er2mj4/things_to_do_in_chiang_mai/\"),\n",
       " Document(metadata={'comments': \"### Comments\\n- Here’s a helpful [Chiang Mai Itinerary](https://travelhiatus.com/the-\\n  perfect-4-days-in-chiang-mai-itinerary/) guide\\n- https://www.tripadvisor.com/Tourism-g293917-Chiang_Mai-Vacations.html\\n- Go to santitham and never leave\\n- Skugga estate, the queen's botanical garden and Elephant Nature Park and\\n  sunday night market were our highlights.\\n- Well the UN Irish pub for a pint of Guinness and there's plenty on that road\\n  to keep you entertained.\", 'content': \"Hey guys! I'm an Irish Tourist and am in Chiang Mai for a few days\\nDoes anyone have any recommendations for food or drinks? \\nI love a good bar, and I love good food.\\nApart from that please feel free to mention any other cool stuff! \\n(Picture: Mae Salong, Chiang Rai)\\n\", 'thread_id': 4, 'title': 'Things to do in Chiang Mai', 'type': 'reddit_thread', 'url': 'https://www.reddit.com/r/chiangmai/comments/1er2mj4/things_to_do_in_chiang_mai/'}, page_content=\"# Things to do in Chiang Mai\\n\\n## Original Post\\n\\nHey guys! I'm an Irish Tourist and am in Chiang Mai for a few days Does anyone\\nhave any recommendations for food or drinks?  I love a good bar, and I love good\\nfood. Apart from that please feel free to mention any other cool stuff!\\n(Picture: Mae Salong, Chiang Rai)\\n\\n### Comments\\n\\n- Here’s a helpful [Chiang Mai Itinerary](https://travelhiatus.com/the-\\n  perfect-4-days-in-chiang-mai-itinerary/) guide\\n- https://www.tripadvisor.com/Tourism-g293917-Chiang_Mai-Vacations.html\\n- Go to santitham and never leave\\n- Skugga estate, the queen's botanical garden and Elephant Nature Park and\\n  sunday night market were our highlights.\\n- Well the UN Irish pub for a pint of Guinness and there's plenty on that road\\n  to keep you entertained.\\n\\n#### URL\\nhttps://www.reddit.com/r/chiangmai/comments/1er2mj4/things_to_do_in_chiang_mai/\"),\n",
       " Document(metadata={'comments': '### Comments\\n- Sticky waterfall: a wonder that will mess with your brain.   North gate jazz\\n  co-op: little jazz bar that always seems like the only place in Chiangmai full\\n  of people. Open mike nights and very lively.   Elely cafe: little riverside\\n  cafe with 2 elephants. Which are massively overshadowed by about 20\\n  dachshunds.\\n- I spent a month in CM and put this [Chiang Mai\\n  guide](https://travelhiatus.com/the-perfect-4-days-in-chiang-mai-itinerary/)\\n  together, hope it helps :)\\n- Stay near the moat. Walk everywhere. Avoid nothing (except elephant camps and\\n  those crazy “hill tribe camps”). Try whatever catches your eye. Try any food.\\n  Why do you want to do what others have already done? It’s your trip. Make it\\n  your trip. Night markets will have souvenir-y things. Why sit in a bar? If you\\n  will, sit in a bar with live music. You’ll hear/finds lots around the moat and\\n  in the old city. You only have 4 days. Don’t rent scooters. Walk. Everywhere.\\n  Have fun.\\n- 1: Avoid - Afternoon storms. This is the time to sit at a bar/cafe and watch\\n  the world splash by. (with mosquito coils under the table).  2: Food - Try\\n  everything but bugs   3: Visit - If the heat gets to you, try Doi Inthanon, it\\n  can be actually quite cool up there. I would stay overnight at one of the\\n  bungalows on the rice paddy\\'s on a small farm. There are several waterfalls in\\n  the area and great ma & pa coffee stalls. Weekdays are quite peaceful.  4:\\n  Elephant camps - Havnt been, not for me but if you haven\\'t been then you can\\'t\\n  really express a public opinion so find the most humane one and go.  5:\\n  Trinkets- CM is the market capital of the north so many options. Even though\\n  the Sunday market is so busy and touristy, some locals make their own stuff\\n  and sell here. The village of Baan Tawai has lots of hand made items, mainly\\n  wood, so customs declaration required going home.  6: Chill bars- There are\\n  just so many in the old city, Nimman, and surrounds, all safe. There are a\\n  range of rooftop bars from hi-so to lay layback venues, googs has a list. As\\n  mentioned, North Gate Jazz is popular but gets busy with patrons flowing out\\n  to the street. Lost Hut was cute and Zoe for the backpacker crew who like doof\\n  doof dancing. Lots of upmarket wine bars/beer labs in Nimman. Some nice venues\\n  across the river like Riverside, with live music and ramshackle wooden shack\\n  atmosphere, with the popular Thai venue, Good View, just up the road. Go early\\n  and sit at the bar and watch the band get going, probably 90% locals.  7:\\n  Advice - Grab a rain poncho at the 7/11 and go with the flow\\n- 4. Elephant Nature Park. That\\'s the one. That\\'s the only one you should visit.\\n  Virtually all the rest of them are privately owned, for-profit places with a\\n  long history of abuse. Please don\\'t support the other places.\\n- visited elephant sanctuary a month ago. got to feed, scratch and bathe with\\n  elephants. that was pretty neat.  no riding or other circus activities\\n- Hung Lay curry.\\n- 1) Don\\'t use Tuktuks for transportation, use Grab, Bold, Indriver or Maxim. If\\n  you want to just try a Tuktuk for fun go for it, but it\\'s mostly a tourist\\n  thing and prices are much higher that other transport.   2) Pad Thai is mostly\\n  a tourist dish and most Thai people don\\'t really eat it. Try if of course but\\n  there\\'s much better dishes. Most popular dish in Thailand with locals is Pad\\n  krapow (stir fried port with basil). But just try lots of different things.\\n  3) Not sure about underrated but Doi Suthep temple is nice, various\\n  waterfalls, night market.  4) Elephant Nature Park is the most famous one and\\n  is nice if you want to spend the day walking around with elephants, bathing\\n  them etc. If you want something more relaxed then Chai Lai Orchid is nice.\\n  They have a cafe so you can just go and eat or have a drink and they have\\n  elephants wallking around. In the afternoon they feed the elephants in front\\n  of the cafe. You can also do a photo session where you walk around with an\\n  elephant and a handler and can take photos in different locations on the\\n  property. Plus they have accommodation if you want to stay overnight (need to\\n  book it\\'s very popular).  5) Warorot market you can get most of the stuff they\\n  sell at the night market but much cheaper.    6) The White Rabbit is the best\\n  cocktail bar in Chiang Mai, it\\'s a small speakeasy bar. Some nice rooftop bars\\n  for sunset are Hotel Yayee, Rise Bar, Barglory, Mai Sky Bar, Hong\\'s Sky Bar.\\n  Nort Gate Jazz for live music (but gets very busy).  7) Do not rent a scooter\\n  unless you have a lot of experience riding motorbike and a full motorbike\\n  license. Thailand is a dangerous place to ride for beginners.\\n- Thapae east for music :)\\n- Spend a night in Monjam in these \"bubble\" \"Glamping\" hotels with a beautiful\\n  view on the mountains.\\n- The old city, the \\'main square\\' of the city, is the most populated with\\n  tourists and is gearded towards them. I recommend you explore any area around\\n  the main city to discover the more \\'thai-based\\' places. Around CMU University\\n  is lovely.\\n- Elephant Jungle Sanctuary. We did the overnight stay option. Our guide Tomas\\n  was awesome and hilarious. No riding the elephants. We fed them, walked\\n  through the jungle with them, and bathed them. Since we did the overnight\\n  option we got to go visit their other sanctuaries too.\\n- Chai Lai orchard.  Book early.\\n- Go to a cooking class Go to a Muay Thai fight\\n- [deleted]\\n- If you’re in CM on a weekend we love Jing Jai Market.\\n- Idk when you\\'re going but Elephant Nature Park Highlands had a baby elephant\\n  when I visited last month. 8 months old and was super cute. Definitely\\n  recommend going to the Highlands.  If your adventurous and know how to ride a\\n  bike, I did an enduro tour. I\\'ve never ridden a proper dirt bike but they had\\n  the perfect spot to take me to where I only fell a couple times. With the gear\\n  it was no problem.  If you\\'re into hiking, Monk\\'s Trail was pretty cool too.\\n  Second half is tough as hell. Luckily the top of Doi Suthep has the red trucks\\n  to take you back to town for 100 baht or less. No chance I was going back down\\n  in the rain.  Doi Inthanon was ok but if you\\'re short on time I don\\'t think\\n  it\\'s worth putting it as high priority\\n- A bit further on up the road from the Elephant Sanctuary is a little resort\\n  called Proud Phu Fah resort. The restaurant there is small and wonderful.\\n- >Besides Khao Soi & Pad Thai, are there any local delicacy that is a must try\\n  ?  Pad Thai is not a local delicacy, but that aside, do make sure you explore\\n  Lanna (northern) Thai food of which khao soi is only one dish and there\\'s some\\n  great dishes to try, including nam prik ong, guang hung lay, sai ua and more.\\n  >Any nice chill bars that are safe to relax for the night ?  Chiang Mai\\n  regularly ranks as the safest city in Southeast Asia ahead of Singapore - as\\n  long as you avoid karaoke bars, you will be fine. For great music, Boy Blues\\n  Bar in the Night Bazaar.\\n- I really recommend a trip to Doi Inthanon\\n- Sticky waterfalls, it\\'s the most unique one of a kind waterfall in Thailand.\\n  Your welcome\\n- You have to try all you can eat bbq pork it\\'s < 300 thb/person local and\\n  university students love them (I also XP)\\n- 2. Pad Thai... I really like the pad Thai in food court of Central Airport\\n  (4th floor) near the cinema. She only sells pad thai. Each is made to order. I\\n  like the ancient/traditional version. I’ve been eating it for about ten years.\\n  Best bargain.\\n- go to the sunday market! I loved it\\n- I recommend Khao soi At KHAO-SO-I  The food is really good 🙌\\n- My husband, son, and I went to the Elephant Rescue park.  Absolutely\\n  fantastic!!!  We got to make herbal medicine for the elephants, feed them,\\n  give them baths, go with them into the jungle and help cut down banana trees\\n  for them to eat.  We were provided with a delicious vegan lunch.  We spent the\\n  whole day there.\\n- Sanctuaries with the most ethical standards -Elephant Nature Park, Asian\\n  Elephant Projects, Chang Chill, Kindred Spirits and Burm and Emily\\'s.  New\\n  Elephant Home is transitioning to ethical practices as well.  Avoid bathing,\\n  elephants do not want to be the water with dozens of strangers multiple times\\n  a day on a schedule.  They want to roll around and interact with their\\n  elephant buddies (which is prohibited for tourist safety).', 'content': \"Hello all! I'm planning on a solo trip to Chiang Mai soon for the first time & would greatly appreciate any travelling tips & recommendations. Also would be helpful if could advise on the below as that would assist with my travel plan for the week. Thank you!\\n\\n1. Any tourist traps/spots to avoid while in Chiang Mai ?\\n2. Besides **Khao Soi** & **Pad Thai,** are there any local delicacy that is a must try ?\\n3. Any underrated Must Visit places/cafes or Things/activities to do in Chiang Mai that is highly recommended?\\n4. As for elephant sanctuary, which one would be the ethical one that **Do NOT** require the elephants to be ride on,etc. Preferably just for feeding and elephant care donation purposes. \\n5. Recommended place to buy cultural stuff/souvenirs from Chiang Mai?\\n6. Any nice chill bars that are safe to relax for the night ?\\n7. Overall general travel advice while touring around the town ?\\n\\nThank you in advance for willing to read my post, I do apologize in advance if this post is inadequate. First time travelling to Chiang Rai from overseas, would appreciate any form of guidance. Thank you.\", 'thread_id': 3, 'title': '4 days trip in Chiang Mai - Any suggestions for first-time travelers ?', 'type': 'reddit_thread', 'url': 'https://www.reddit.com/r/chiangmai/comments/1evxoyu/4_days_trip_in_chiang_mai_any_suggestions_for/'}, page_content='# 4 days trip in Chiang Mai - Any suggestions for first-time travelers ?\\n\\n## Original Post\\n\\nHello all! I\\'m planning on a solo trip to Chiang Mai soon for the first time &\\nwould greatly appreciate any travelling tips & recommendations. Also would be\\nhelpful if could advise on the below as that would assist with my travel plan\\nfor the week. Thank you!  1. Any tourist traps/spots to avoid while in Chiang\\nMai ? 2. Besides **Khao Soi** & **Pad Thai,** are there any local delicacy that\\nis a must try ? 3. Any underrated Must Visit places/cafes or Things/activities\\nto do in Chiang Mai that is highly recommended? 4. As for elephant sanctuary,\\nwhich one would be the ethical one that **Do NOT** require the elephants to be\\nride on,etc. Preferably just for feeding and elephant care donation purposes.\\n5. Recommended place to buy cultural stuff/souvenirs from Chiang Mai? 6. Any\\nnice chill bars that are safe to relax for the night ? 7. Overall general travel\\nadvice while touring around the town ?  Thank you in advance for willing to read\\nmy post, I do apologize in advance if this post is inadequate. First time\\ntravelling to Chiang Rai from overseas, would appreciate any form of guidance.\\nThank you.\\n\\n### Comments\\n\\n- Sticky waterfall: a wonder that will mess with your brain.   North gate jazz\\n  co-op: little jazz bar that always seems like the only place in Chiangmai full\\n  of people. Open mike nights and very lively.   Elely cafe: little riverside\\n  cafe with 2 elephants. Which are massively overshadowed by about 20\\n  dachshunds.\\n- I spent a month in CM and put this [Chiang Mai\\n  guide](https://travelhiatus.com/the-perfect-4-days-in-chiang-mai-itinerary/)\\n  together, hope it helps :)\\n- Stay near the moat. Walk everywhere. Avoid nothing (except elephant camps and\\n  those crazy “hill tribe camps”). Try whatever catches your eye. Try any food.\\n  Why do you want to do what others have already done? It’s your trip. Make it\\n  your trip. Night markets will have souvenir-y things. Why sit in a bar? If you\\n  will, sit in a bar with live music. You’ll hear/finds lots around the moat and\\n  in the old city. You only have 4 days. Don’t rent scooters. Walk. Everywhere.\\n  Have fun.\\n- 1: Avoid - Afternoon storms. This is the time to sit at a bar/cafe and watch\\n  the world splash by. (with mosquito coils under the table).  2: Food - Try\\n  everything but bugs   3: Visit - If the heat gets to you, try Doi Inthanon, it\\n  can be actually quite cool up there. I would stay overnight at one of the\\n  bungalows on the rice paddy\\'s on a small farm. There are several waterfalls in\\n  the area and great ma & pa coffee stalls. Weekdays are quite peaceful.  4:\\n  Elephant camps - Havnt been, not for me but if you haven\\'t been then you can\\'t\\n  really express a public opinion so find the most humane one and go.  5:\\n  Trinkets- CM is the market capital of the north so many options. Even though\\n  the Sunday market is so busy and touristy, some locals make their own stuff\\n  and sell here. The village of Baan Tawai has lots of hand made items, mainly\\n  wood, so customs declaration required going home.  6: Chill bars- There are\\n  just so many in the old city, Nimman, and surrounds, all safe. There are a\\n  range of rooftop bars from hi-so to lay layback venues, googs has a list. As\\n  mentioned, North Gate Jazz is popular but gets busy with patrons flowing out\\n  to the street. Lost Hut was cute and Zoe for the backpacker crew who like doof\\n  doof dancing. Lots of upmarket wine bars/beer labs in Nimman. Some nice venues\\n  across the river like Riverside, with live music and ramshackle wooden shack\\n  atmosphere, with the popular Thai venue, Good View, just up the road. Go early\\n  and sit at the bar and watch the band get going, probably 90% locals.  7:\\n  Advice - Grab a rain poncho at the 7/11 and go with the flow\\n- 4. Elephant Nature Park. That\\'s the one. That\\'s the only one you should visit.\\n  Virtually all the rest of them are privately owned, for-profit places with a\\n  long history of abuse. Please don\\'t support the other places.\\n- visited elephant sanctuary a month ago. got to feed, scratch and bathe with\\n  elephants. that was pretty neat.  no riding or other circus activities\\n- Hung Lay curry.\\n- 1) Don\\'t use Tuktuks for transportation, use Grab, Bold, Indriver or Maxim. If\\n  you want to just try a Tuktuk for fun go for it, but it\\'s mostly a tourist\\n  thing and prices are much higher that other transport.   2) Pad Thai is mostly\\n  a tourist dish and most Thai people don\\'t really eat it. Try if of course but\\n  there\\'s much better dishes. Most popular dish in Thailand with locals is Pad\\n  krapow (stir fried port with basil). But just try lots of different things.\\n  3) Not sure about underrated but Doi Suthep temple is nice, various\\n  waterfalls, night market.  4) Elephant Nature Park is the most famous one and\\n  is nice if you want to spend the day walking around with elephants, bathing\\n  them etc. If you want something more relaxed then Chai Lai Orchid is nice.\\n  They have a cafe so you can just go and eat or have a drink and they have\\n  elephants wallking around. In the afternoon they feed the elephants in front\\n  of the cafe. You can also do a photo session where you walk around with an\\n  elephant and a handler and can take photos in different locations on the\\n  property. Plus they have accommodation if you want to stay overnight (need to\\n  book it\\'s very popular).  5) Warorot market you can get most of the stuff they\\n  sell at the night market but much cheaper.    6) The White Rabbit is the best\\n  cocktail bar in Chiang Mai, it\\'s a small speakeasy bar. Some nice rooftop bars\\n  for sunset are Hotel Yayee, Rise Bar, Barglory, Mai Sky Bar, Hong\\'s Sky Bar.\\n  Nort Gate Jazz for live music (but gets very busy).  7) Do not rent a scooter\\n  unless you have a lot of experience riding motorbike and a full motorbike\\n  license. Thailand is a dangerous place to ride for beginners.\\n- Thapae east for music :)\\n- Spend a night in Monjam in these \"bubble\" \"Glamping\" hotels with a beautiful\\n  view on the mountains.\\n- The old city, the \\'main square\\' of the city, is the most populated with\\n  tourists and is gearded towards them. I recommend you explore any area around\\n  the main city to discover the more \\'thai-based\\' places. Around CMU University\\n  is lovely.\\n- Elephant Jungle Sanctuary. We did the overnight stay option. Our guide Tomas\\n  was awesome and hilarious. No riding the elephants. We fed them, walked\\n  through the jungle with them, and bathed them. Since we did the overnight\\n  option we got to go visit their other sanctuaries too.\\n- Chai Lai orchard.  Book early.\\n- Go to a cooking class Go to a Muay Thai fight\\n- [deleted]\\n- If you’re in CM on a weekend we love Jing Jai Market.\\n- Idk when you\\'re going but Elephant Nature Park Highlands had a baby elephant\\n  when I visited last month. 8 months old and was super cute. Definitely\\n  recommend going to the Highlands.  If your adventurous and know how to ride a\\n  bike, I did an enduro tour. I\\'ve never ridden a proper dirt bike but they had\\n  the perfect spot to take me to where I only fell a couple times. With the gear\\n  it was no problem.  If you\\'re into hiking, Monk\\'s Trail was pretty cool too.\\n  Second half is tough as hell. Luckily the top of Doi Suthep has the red trucks\\n  to take you back to town for 100 baht or less. No chance I was going back down\\n  in the rain.  Doi Inthanon was ok but if you\\'re short on time I don\\'t think\\n  it\\'s worth putting it as high priority\\n- A bit further on up the road from the Elephant Sanctuary is a little resort\\n  called Proud Phu Fah resort. The restaurant there is small and wonderful.\\n- >Besides Khao Soi & Pad Thai, are there any local delicacy that is a must try\\n  ?  Pad Thai is not a local delicacy, but that aside, do make sure you explore\\n  Lanna (northern) Thai food of which khao soi is only one dish and there\\'s some\\n  great dishes to try, including nam prik ong, guang hung lay, sai ua and more.\\n  >Any nice chill bars that are safe to relax for the night ?  Chiang Mai\\n  regularly ranks as the safest city in Southeast Asia ahead of Singapore - as\\n  long as you avoid karaoke bars, you will be fine. For great music, Boy Blues\\n  Bar in the Night Bazaar.\\n- I really recommend a trip to Doi Inthanon\\n- Sticky waterfalls, it\\'s the most unique one of a kind waterfall in Thailand.\\n  Your welcome\\n- You have to try all you can eat bbq pork it\\'s < 300 thb/person local and\\n  university students love them (I also XP)\\n- 2. Pad Thai... I really like the pad Thai in food court of Central Airport\\n  (4th floor) near the cinema. She only sells pad thai. Each is made to order. I\\n  like the ancient/traditional version. I’ve been eating it for about ten years.\\n  Best bargain.\\n- go to the sunday market! I loved it\\n- I recommend Khao soi At KHAO-SO-I  The food is really good 🙌\\n- My husband, son, and I went to the Elephant Rescue park.  Absolutely\\n  fantastic!!!  We got to make herbal medicine for the elephants, feed them,\\n  give them baths, go with them into the jungle and help cut down banana trees\\n  for them to eat.  We were provided with a delicious vegan lunch.  We spent the\\n  whole day there.\\n- Sanctuaries with the most ethical standards -Elephant Nature Park, Asian\\n  Elephant Projects, Chang Chill, Kindred Spirits and Burm and Emily\\'s.  New\\n  Elephant Home is transitioning to ethical practices as well.  Avoid bathing,\\n  elephants do not want to be the water with dozens of strangers multiple times\\n  a day on a schedule.  They want to roll around and interact with their\\n  elephant buddies (which is prohibited for tourist safety).\\n\\n#### URL\\nhttps://www.reddit.com/r/chiangmai/comments/1evxoyu/4_days_trip_in_chiang_mai_any_suggestions_for/')]"
      ]
     },
     "execution_count": 34,
     "metadata": {},
     "output_type": "execute_result"
    }
   ],
   "source": [
    "# Here's all the context\n",
    "result['context']"
   ]
  },
  {
   "cell_type": "markdown",
   "metadata": {},
   "source": [
    "### Generate list of cited claims to add to the enriched RAG answer\n",
    "* Small change in architecture: our program will output a list of cited claims, which is then passed into the LLM to generate the final answer."
   ]
  },
  {
   "cell_type": "code",
   "execution_count": 36,
   "metadata": {},
   "outputs": [],
   "source": [
    "rag_queries = [\n",
    "    # Core travel information\n",
    "    f\"What are the most underrated or secret spots in {destination} that tourists usually miss?\",\n",
    "    f\"What's the current situation with tourists in {destination} as of 2024?\",\n",
    "    f\"What are common tourist scams to avoid in {destination} right now?\",\n",
    "    \n",
    "    # Local insights\n",
    "    f\"Locals of {destination}, what tips would you give to tourists in 2024?\",\n",
    "    f\"What are the best neighborhoods to stay in {destination} for different budgets?\",\n",
    "    f\"What's the best way to get around {destination} nowadays?\",\n",
    "    \n",
    "    # Food and culture\n",
    "    f\"What are must-try local foods in {destination} and where to find them?\",\n",
    "    f\"What cultural faux pas should tourists avoid in {destination}?\",\n",
    "    f\"Which local festivals or events are worth planning a trip around in {destination}?\",\n",
    "    \n",
    "    # Practical advice\n",
    "    f\"How much does everything cost in {destination} in 2024?\",\n",
    "    f\"What's the best time to visit {destination} and why?\",\n",
    "    f\"What should I absolutely pack for {destination} that most tourists forget?\",\n",
    "    \n",
    "    # Safety and logistics\n",
    "    f\"How safe is {destination} for solo travelers in 2024?\",\n",
    "    f\"What areas should tourists avoid in {destination}?\",\n",
    "    f\"What's the current transportation situation in {destination}?\"\n",
    "]"
   ]
  },
  {
   "cell_type": "code",
   "execution_count": 37,
   "metadata": {},
   "outputs": [],
   "source": [
    "from typing import List, Dict, Tuple\n",
    "import re\n",
    "\n",
    "def generate_qa_pairs(destination: str, chain, queries: List[str]) -> List[Tuple[str, str]]:\n",
    "    qa_pairs = []\n",
    "    \n",
    "    for query in queries:\n",
    "        \n",
    "        # Get relevant documents from the retriever\n",
    "        result = chain.invoke({\"input\": query})\n",
    "        \n",
    "        if not result:\n",
    "            print(f\"Unable to get result for query {query}, skipping\")\n",
    "            continue\n",
    "        \n",
    "        # Generate answer using a template\n",
    "        answer = result['answer'].answer\n",
    "        citations = format_citations_to_json(result['answer'].citations)\n",
    "        retrieved_docs = result['context']\n",
    "        \n",
    "        \n",
    "        answer = f\"Based on recent Reddit discussions:\\n{answer}\\nCitations:\\n{citations}\"\n",
    "            \n",
    "        qa_pairs.append((query, answer, citations, retrieved_docs)) # also store retireved docs for benchmarking\n",
    "    \n",
    "    return qa_pairs"
   ]
  },
  {
   "cell_type": "markdown",
   "metadata": {},
   "source": [
    "### Generate Answer"
   ]
  },
  {
   "cell_type": "code",
   "execution_count": 39,
   "metadata": {},
   "outputs": [],
   "source": [
    "qa_pairs = generate_qa_pairs(destination=destination, chain=chain, queries=rag_queries[:2])\n",
    "reddit_insights = \"\\n\\n\".join([\n",
    "        f\"Q: {q}\\nA: {a}\" for q, a, citations, retrieve_docs in qa_pairs\n",
    "    ])"
   ]
  },
  {
   "cell_type": "code",
   "execution_count": 41,
   "metadata": {},
   "outputs": [
    {
     "name": "stdout",
     "output_type": "stream",
     "text": [
      "Q: What are the most underrated or secret spots in Chiang Mai that tourists usually miss?\n",
      "A: Based on recent Reddit discussions:\n",
      "Some underrated or secret spots in Chiang Mai that tourists usually miss include:\n",
      "\n",
      "1. **Sticky Waterfalls**: A unique waterfall experience where the algae-free rocks allow you to climb up the falls.\n",
      "2. **Elely Cafe**: A little riverside cafe with elephants, overshadowed by about 20 dachshunds, offering a unique cafe experience.\n",
      "3. **Monjam**: Spend a night in \"bubble\" \"glamping\" hotels with a beautiful view of the mountains.\n",
      "4. **Wat Umong**: A favorite temple located south of the Suthep CMU campus, known for its tranquility.\n",
      "5. **Doi Inthanon**: While it's known as Thailand’s highest mountain, the cool climate and the temple at the top make it a worthwhile visit.\n",
      "6. **Mae Ngat Dam**: Offers beautiful places to stay and is less frequented by tourists.\n",
      "7. **Tham Muang On**: A cave temple sometimes visited by monkeys, located in Chiang Dao.\n",
      "Citations:\n",
      "[\n",
      "  {\n",
      "    \"source_id\": 0,\n",
      "    \"quote\": \"- Sticky waterfall: a wonder that will mess with your brain.\"\n",
      "  },\n",
      "  {\n",
      "    \"source_id\": 0,\n",
      "    \"quote\": \"- Elely cafe: little riverside cafe with 2 elephants. Which are massively overshadowed by about 20 dachshunds.\"\n",
      "  },\n",
      "  {\n",
      "    \"source_id\": 0,\n",
      "    \"quote\": \"- Spend a night in Monjam in these \\\"bubble\\\" \\\"Glamping\\\" hotels with a beautiful view on the mountains.\"\n",
      "  },\n",
      "  {\n",
      "    \"source_id\": 2,\n",
      "    \"quote\": \"- Plenty of temples dotted around- my favourite is Wat Umong south of the Suthep CMU campus.\"\n",
      "  },\n",
      "  {\n",
      "    \"source_id\": 1,\n",
      "    \"quote\": \"- I really recommend a trip to Doi Inthanon\"\n",
      "  },\n",
      "  {\n",
      "    \"source_id\": 2,\n",
      "    \"quote\": \"- I\\u2019d go check out Chiang Dao and Mae Ngat (large dam 45mins north of chiang mai). Some really beautiful places to stay\"\n",
      "  },\n",
      "  {\n",
      "    \"source_id\": 2,\n",
      "    \"quote\": \"- Bamboo river rafting, elefin Cafe, sticky water falls, thai silk factory, umbrella making factory, queen sikirit botanical gardens, insect zoo, monks trail hike on the mountain, wat ban den (big temple complex in the countryside), mae kuang reservoir, huay tueng Thao reservoir (great in the early morning or for lunch on the lake) mon jam village, Tham Muang on (cave temple, sometimes mo keys there), cave temple in chiang dao, etc. Lots to explore!\"\n",
      "  }\n",
      "]\n",
      "\n",
      "Q: What's the current situation with tourists in Chiang Mai as of 2024?\n",
      "A: Based on recent Reddit discussions:\n",
      "I don't have information on the current situation with tourists in Chiang Mai as of 2024.\n",
      "Citations:\n",
      "[]\n"
     ]
    }
   ],
   "source": [
    "print(reddit_insights)"
   ]
  },
  {
   "cell_type": "code",
   "execution_count": 42,
   "metadata": {},
   "outputs": [],
   "source": [
    "rag_system_prompt = \"\"\"You are a knowledgeable travel assistant. Provide a comprehensive and well-structured guide for the specified destination. Your response should be detailed, accurate, and formatted using markdown. Follow these guidelines:\n",
    "\n",
    "\n",
    "The following information has been verified from recent Reddit discussions and should be incorporated into your response. \n",
    "Each piece of information you use must be cited with a number in brackets (e.g., [1], [2]). Only include information that has citations:\n",
    "\n",
    "{reddit_insights}\n",
    "\n",
    "Make sure you follow these guidelines:\n",
    "\n",
    "1. Begin with a brief introduction about the destination.\n",
    "2. Use level 2 headers (##) to separate main sections.\n",
    "3. Use bolding (**) for subsections or important points within sections.\n",
    "4. Include exclusively the following sections in exactly this order.\n",
    "   - Best Time to Visit\n",
    "   - Top Attractions\n",
    "   - Local Culture and Etiquette\n",
    "   - Getting Around\n",
    "   - Food and Dining\n",
    "   - Accommodation\n",
    "   - Safety and Health\n",
    "   - Budget Tips\n",
    "   - Unique Experiences\n",
    "   - Essential Phrases (if applicable)\n",
    "\n",
    "5. Provide practical, up-to-date information and insider tips, highlighting any date-specific events if possible.\n",
    "6. Use bullet points sparingly, preferring well-structured paragraphs.\n",
    "7. Include any recent developments or changes affecting travel to the destination.\n",
    "8. Cite every factual claim using numbers in brackets (e.g., \"The Sticky Waterfalls are known for their unique climbing experience[1]\").\n",
    "9. At the end of your response, include a \"Citations\" section with all referenced quotes.\n",
    "10. Prioritize recent information and current trends.\n",
    "\n",
    "Citations must be formatted as:\n",
    "[1] \"exact quote from source\"\n",
    "[2] \"exact quote from source\"\n",
    "\n",
    "Aim for a comprehensive guide that's easy to read and informative for travelers.\"\"\""
   ]
  },
  {
   "cell_type": "markdown",
   "metadata": {},
   "source": [
    "### Add Citations to Answer"
   ]
  },
  {
   "cell_type": "code",
   "execution_count": 43,
   "metadata": {},
   "outputs": [
    {
     "data": {
      "text/markdown": [
       "# Chiang Mai Travel Guide\n",
       "\n",
       "Chiang Mai, located in Northern Thailand, is a city renowned for its beautiful mountainous scenery, rich culture, and historical significance. Often referred to as the \"Rose of the North,\" Chiang Mai offers a harmonious blend of historical heritage, vibrant festivals, and natural wonders, making it a must-visit destination for travelers.\n",
       "\n",
       "## Best Time to Visit\n",
       "\n",
       "**November to February** is generally considered the best time to visit Chiang Mai as the weather is cooler and more pleasant. This period falls right after the rainy season, bringing lush greenery to the region. The famous **Yi Peng Lantern Festival** also takes place in November, offering a spectacular sight as thousands of lanterns light up the night sky[1].\n",
       "\n",
       "## Top Attractions\n",
       "\n",
       "Chiang Mai is home to over 300 Buddhist temples, with some of the most iconic being:\n",
       "\n",
       "- **Wat Phra That Doi Suthep**: This sacred temple is perched on Doi Suthep mountain, providing panoramic views of Chiang Mai city[2].\n",
       "- **Wat Chedi Luang**: Known for its massive pagoda, this temple is a significant historical and spiritual site in the city[2].\n",
       "\n",
       "The **Sticky Waterfalls**, also known as Bua Thong Waterfalls, are a unique natural attraction famous for their climbable limestone surface, making it a popular spot for visitors[3].\n",
       "\n",
       "## Local Culture and Etiquette\n",
       "\n",
       "Chiang Mai locals are generally polite and friendly. Understanding a few cultural etiquettes can enhance your experience:\n",
       "\n",
       "- **Dress modestly** when visiting temples; shoulders and knees should be covered.\n",
       "- **Remove shoes** before entering homes and temples.\n",
       "- **Respect the monarchy**; speaking against the royal family is a serious offence in Thailand[4].\n",
       "\n",
       "## Getting Around\n",
       "\n",
       "Chiang Mai offers several modes of transportation:\n",
       "\n",
       "- **Songthaews (Red Trucks)**: These are shared taxis and a cost-effective way to travel around the city.\n",
       "- **Tuk-tuks**: Convenient for short distances but agree on a fare before starting the journey.\n",
       "- **Renting a scooter**: A popular option for exploring the surrounding countryside; ensure you have a valid international driving permit[5].\n",
       "\n",
       "## Food and Dining\n",
       "\n",
       "Chiang Mai's cuisine is a highlight of any visit. Must-try dishes include:\n",
       "\n",
       "- **Khao Soi**: A rich, coconut-based curry noodle soup that is emblematic of Northern Thai cuisine.\n",
       "- **Sai Oua**: A spicy Northern Thai sausage, often enjoyed as a snack.\n",
       "- For a memorable dining experience, visit the **Sunday Walking Street Market**, where local street food and crafts are abundant[6].\n",
       "\n",
       "## Accommodation\n",
       "\n",
       "Chiang Mai offers a wide range of accommodations:\n",
       "\n",
       "- **Old City**: Ideal for first-time visitors seeking cultural sights and easy access to temples.\n",
       "- **Nimmanhaemin (Nimman)**: Popular among young travelers and expats for its trendy cafes and nightlife.\n",
       "- Budget travelers can find numerous **hostels and guesthouses** throughout the city, particularly in the Old City area[7].\n",
       "\n",
       "## Safety and Health\n",
       "\n",
       "Chiang Mai is generally safe, but it's wise to take basic precautions:\n",
       "\n",
       "- Avoid poorly lit areas at night.\n",
       "- Be cautious of pickpockets in crowded places.\n",
       "- The air quality can deteriorate between February and April due to seasonal burning, so those with respiratory issues should take precautions[8].\n",
       "\n",
       "## Budget Tips\n",
       "\n",
       "- **Street food** is not only affordable but offers some of the best local flavors.\n",
       "- Use **public transport** such as songthaews and local buses to save on travel costs.\n",
       "- Many of Chiang Mai's temples are free; others request a small donation[9].\n",
       "\n",
       "## Unique Experiences\n",
       "\n",
       "- **Elephant Sanctuaries**: Opt to visit ethical sanctuaries that prioritize the well-being of the animals, such as the Elephant Nature Park[10].\n",
       "- **Cooking Classes**: Learn to cook classic Thai dishes with fresh ingredients from a local market[11].\n",
       "- **Hot Springs**: Visit the San Kamphaeng Hot Springs for a relaxing day in nature[12].\n",
       "\n",
       "## Essential Phrases\n",
       "\n",
       "While many locals speak English, learning a few Thai phrases can enrich your travel experience:\n",
       "\n",
       "- **Sawasdee (krub/kha)**: Hello\n",
       "- **Khob khun (krub/kha)**: Thank you\n",
       "- **Hong nam yu tee nai?**: Where is the bathroom?\n",
       "\n",
       "## Citations\n",
       "\n",
       "[1] \"November to February is generally considered the best time to visit Chiang Mai as the weather is cooler and more pleasant... Yi Peng Lantern Festival.\"  \n",
       "[2] \"Wat Phra That Doi Suthep... Wat Chedi Luang.\"  \n",
       "[3] \"The Sticky Waterfalls... unique natural attraction famous for their climbable limestone surface.\"  \n",
       "[4] \"Respect the monarchy; speaking against the royal family is a serious offence in Thailand.\"  \n",
       "[5] \"Popular option for exploring the surrounding countryside; ensure you have a valid international driving permit.\"  \n",
       "[6] \"Sunday Walking Street Market, where local street food and crafts are abundant.\"  \n",
       "[7]\"Budget travelers can find numerous hostels and guesthouses throughout the city, particularly in the Old City area.\"  \n",
       "[8] \"The air quality can deteriorate between February and April due to seasonal burning.\"  \n",
       "[9] \"Many of Chiang Mai's temples are free; others request a small donation.\"  \n",
       "[10] \"Opt to visit ethical sanctuaries that prioritize the well-being of the animals, such as the Elephant Nature Park.\"  \n",
       "[11] \"Cooking Classes; Learn to cook classic Thai dishes with fresh ingredients from a local market.\"  \n",
       "[12] \"Visit the San Kamphaeng Hot Springs for a relaxing day in nature.\"  "
      ],
      "text/plain": [
       "<IPython.core.display.Markdown object>"
      ]
     },
     "metadata": {},
     "output_type": "display_data"
    }
   ],
   "source": [
    "destination = \"Chiang Mai\"\n",
    "stream = client.chat.completions.create(\n",
    "    model=\"gpt-4o\",\n",
    "    messages=[\n",
    "        {\"role\": \"system\", \"content\": rag_system_prompt},\n",
    "        {\"role\": \"user\", \"content\": f\"Provide key travel tips for {destination}\"}\n",
    "    ],\n",
    "    stream=True\n",
    ")\n",
    "\n",
    "full_response = \"\"\n",
    "for chunk in stream:\n",
    "    if chunk.choices[0].delta.content is not None:\n",
    "        content = chunk.choices[0].delta.content\n",
    "        full_response += content\n",
    "        \n",
    "        # Clear the current output and display the updated markdown\n",
    "        clear_output(wait=True)\n",
    "        display(Markdown(full_response))\n",
    "        \n",
    "        # Add a small delay to make the streaming visible\n",
    "        time.sleep(0.01)"
   ]
  },
  {
   "cell_type": "markdown",
   "metadata": {},
   "source": [
    "### Evaluate citations using NLI model (from RAG - tutorial slides)"
   ]
  },
  {
   "cell_type": "code",
   "execution_count": null,
   "metadata": {},
   "outputs": [],
   "source": [
    "# download huggingface model and do stuff"
   ]
  },
  {
   "cell_type": "markdown",
   "metadata": {},
   "source": [
    "### Present With Rag / Without RAG relevance (the evaluation step)"
   ]
  },
  {
   "cell_type": "code",
   "execution_count": null,
   "metadata": {},
   "outputs": [],
   "source": []
  }
 ],
 "metadata": {
  "kernelspec": {
   "display_name": "Python 3",
   "language": "python",
   "name": "python3"
  },
  "language_info": {
   "codemirror_mode": {
    "name": "ipython",
    "version": 3
   },
   "file_extension": ".py",
   "mimetype": "text/x-python",
   "name": "python",
   "nbconvert_exporter": "python",
   "pygments_lexer": "ipython3",
   "version": "3.9.6"
  }
 },
 "nbformat": 4,
 "nbformat_minor": 2
}
