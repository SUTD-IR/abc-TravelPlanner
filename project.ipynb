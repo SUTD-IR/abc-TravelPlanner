{
 "cells": [
  {
   "cell_type": "markdown",
   "metadata": {},
   "source": [
    "# abc Trip Planner (MVP)\n",
    "\n",
    "Members\n",
    "* Daniel Jiang (1009509)\n",
    "* John Mo (1009513)\n",
    "* Timothy Zheng (1009502)\n",
    "\n",
    "## Notes\n",
    "\n",
    "To run this program, you will need to create and populate a `.env` file with your OpenAI API key\n",
    "\n",
    "`.env`\n",
    "```\n",
    "OPENAI_API_KEY = \"your_key_here\"\n",
    "```\n",
    "\n",
    "### TODO\n",
    "* Set up OpenAI key\n",
    "* Implement LLM\n",
    "* RAG system\n",
    "* (eval) compare to \"ground truth\""
   ]
  },
  {
   "cell_type": "code",
   "execution_count": 1,
   "metadata": {},
   "outputs": [
    {
     "name": "stdout",
     "output_type": "stream",
     "text": [
      "chatgpt but better\n"
     ]
    }
   ],
   "source": [
    "print(\"chatgpt but better\")"
   ]
  }
 ],
 "metadata": {
  "kernelspec": {
   "display_name": "Python 3",
   "language": "python",
   "name": "python3"
  },
  "language_info": {
   "codemirror_mode": {
    "name": "ipython",
    "version": 3
   },
   "file_extension": ".py",
   "mimetype": "text/x-python",
   "name": "python",
   "nbconvert_exporter": "python",
   "pygments_lexer": "ipython3",
   "version": "3.11.2"
  }
 },
 "nbformat": 4,
 "nbformat_minor": 2
}
