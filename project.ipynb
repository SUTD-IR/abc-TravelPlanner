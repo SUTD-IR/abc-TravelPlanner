{
 "cells": [
  {
   "cell_type": "markdown",
   "metadata": {},
   "source": [
    "# abc Trip Planner (MVP)\n",
    "\n",
    "Members\n",
    "* Daniel Jiang (1009509)\n",
    "* John Mo (1009513)\n",
    "* Timothy Zheng (1009502)\n",
    "\n",
    "## Notes\n",
    "\n",
    "To run this program, you will need to create and populate a `.env` file with your OpenAI API key\n",
    "\n",
    "`.env`\n",
    "\n",
    "```bash\n",
    "OPENAI_API_KEY = \"your_key_here\"\n",
    "```\n",
    "\n",
    "### TODO\n",
    "* Set up OpenAI key\n",
    "* Implement LLM\n",
    "* RAG system\n",
    "* (eval) compare to \"ground truth\"\n",
    "\n",
    "### Innovative \"ideas\"\n",
    "* Take note of the places LLM suggests, then make LLM system search online for the prices of places. Then output estimated cost of trip.\n",
    "* Approach the topic as a \"narrative journey\": Add the history of places, culture, etc and make attractions \"references\" to the narrative, instead of the primary focus. Make the narrative the primary focus.\n",
    "* Attach a packing list\n",
    "* Implement weather forecast into trip plan"
   ]
  },
  {
   "cell_type": "code",
   "execution_count": 1,
   "metadata": {},
   "outputs": [
    {
     "name": "stdout",
     "output_type": "stream",
     "text": [
      "Found existing installation: pandas 2.2.3\n",
      "Uninstalling pandas-2.2.3:\n",
      "  Successfully uninstalled pandas-2.2.3\n",
      "Note: you may need to restart the kernel to use updated packages.\n",
      "Found existing installation: numpy 1.26.4\n",
      "Uninstalling numpy-1.26.4:\n",
      "  Successfully uninstalled numpy-1.26.4\n",
      "Note: you may need to restart the kernel to use updated packages.\n",
      "Found existing installation: pytz 2024.2\n",
      "Uninstalling pytz-2024.2:\n",
      "  Successfully uninstalled pytz-2024.2\n",
      "Note: you may need to restart the kernel to use updated packages.\n",
      "Found existing installation: python-dateutil 2.9.0.post0\n",
      "Uninstalling python-dateutil-2.9.0.post0:\n",
      "  Successfully uninstalled python-dateutil-2.9.0.post0\n",
      "Note: you may need to restart the kernel to use updated packages.\n"
     ]
    }
   ],
   "source": [
    "%pip uninstall pandas -y\n",
    "%pip uninstall numpy -y\n",
    "%pip uninstall pytz -y\n",
    "%pip uninstall python-dateutil -y"
   ]
  },
  {
   "cell_type": "code",
   "execution_count": 2,
   "metadata": {},
   "outputs": [
    {
     "name": "stdout",
     "output_type": "stream",
     "text": [
      "Note: you may need to restart the kernel to use updated packages.\n",
      "Note: you may need to restart the kernel to use updated packages.\n",
      "Note: you may need to restart the kernel to use updated packages.\n",
      "Note: you may need to restart the kernel to use updated packages.\n",
      "Note: you may need to restart the kernel to use updated packages.\n",
      "Note: you may need to restart the kernel to use updated packages.\n",
      "Note: you may need to restart the kernel to use updated packages.\n",
      "Note: you may need to restart the kernel to use updated packages.\n"
     ]
    }
   ],
   "source": [
    "%pip install --upgrade pip --quiet\n",
    "%pip install openai --quiet\n",
    "%pip install python-dotenv --quiet\n",
    "%pip install praw --quiet\n",
    "%pip install pydantic --quiet\n",
    "%pip install langchain-community --quiet\n",
    "%pip install bs4 --quiet\n",
    "%pip install pandas --quiet"
   ]
  },
  {
   "cell_type": "code",
   "execution_count": 3,
   "metadata": {},
   "outputs": [
    {
     "data": {
      "text/plain": [
       "True"
      ]
     },
     "execution_count": 3,
     "metadata": {},
     "output_type": "execute_result"
    }
   ],
   "source": [
    "from openai import OpenAI\n",
    "from dotenv import load_dotenv\n",
    "from IPython.display import display, Markdown, clear_output\n",
    "import time\n",
    "\n",
    "load_dotenv() # Requires .env file"
   ]
  },
  {
   "cell_type": "code",
   "execution_count": 4,
   "metadata": {},
   "outputs": [],
   "source": [
    "client = OpenAI()\n",
    "\n",
    "system_prompt = \"\"\"You are a knowledgeable travel assistant. Provide a comprehensive and well-structured guide for the specified destination. Your response should be detailed, accurate, and formatted using markdown. Follow these guidelines:\n",
    "\n",
    "1. Begin with a brief introduction about the destination.\n",
    "2. Use level 2 headers (##) to separate main sections.\n",
    "3. Use bolding (**) for subsections or important points within sections.\n",
    "4. Include exclusively the following sections in exactly this order.\n",
    "   - Best Time to Visit\n",
    "   - Top Attractions\n",
    "   - Local Culture and Etiquette\n",
    "   - Getting Around\n",
    "   - Food and Dining\n",
    "   - Accommodation\n",
    "   - Safety and Health\n",
    "   - Budget Tips\n",
    "   - Unique Experiences\n",
    "   - Essential Phrases (if applicable)\n",
    "\n",
    "5. Provide practical, up-to-date information and insider tips, highlighting any date-specific events if possible.\n",
    "6. Use bullet points sparingly, preferring well-structured paragraphs.\n",
    "7. Include any recent developments or changes affecting travel to the destination.\n",
    "8. Conclude with a brief summary or final travel tip.\n",
    "\n",
    "Aim for a comprehensive guide that's easy to read and informative for travelers.\"\"\""
   ]
  },
  {
   "cell_type": "code",
   "execution_count": 5,
   "metadata": {},
   "outputs": [
    {
     "data": {
      "text/markdown": [
       "# Travel Guide to Chiang Mai, Thailand\n",
       "\n",
       "Chiang Mai, located in northern Thailand, is a culturally rich city known for its ancient temples, vibrant markets, and picturesque mountain landscapes. Travelers flock to Chiang Mai to experience its laid-back atmosphere, delicious cuisine, and numerous outdoor activities.\n",
       "\n",
       "## Best Time to Visit\n",
       "\n",
       "**The best time to visit Chiang Mai is between November and February** when the weather is cooler and drier, making it ideal for exploring the city and its surroundings. Avoid the hot season from March to May and the rainy season from June to October.\n",
       "\n",
       "## Top Attractions\n",
       "\n",
       "**1. Wat Phra That Doi Suthep:** A must-visit temple situated on a mountain with stunning views of the city below.\n",
       "**2. Chiang Mai Old City:** Explore the historic center with its ancient walls, moats, and numerous temples like Wat Chedi Luang.\n",
       "**3. Night Bazaar:** Shop for local handicrafts, souvenirs, and try delicious street food at this bustling market.\n",
       "**4. Elephant Nature Park:** Interact with rescued elephants in an ethical and sustainable environment.\n",
       "**5. Doi Inthanon National Park:** Discover Thailand’s highest peak, waterfalls, and hill tribe villages.\n",
       "\n",
       "## Local Culture and Etiquette\n",
       "\n",
       "**1. Dress modestly when visiting temples.**\n",
       "**2. Remove your shoes before entering someone's home or a temple.**\n",
       "**3. Greet locals with a respectful \"wai\" (placing your palms together at chest level).**\n",
       "**4. Avoid public displays of affection.**\n",
       "**5. Bargain politely at markets but remember to be respectful.**\n",
       "\n",
       "## Getting Around\n",
       "\n",
       "**1. Red Trucks (Songthaews):** These shared taxis are a common and affordable way to get around the city.\n",
       "**2. Tuk-tuks:** Negotiate the price before getting in.\n",
       "**3. Grab:** A convenient option for getting around, similar to Uber.\n",
       "**4. Renting a scooter or bicycle:** Great for exploring areas outside the city center.\n",
       "\n",
       "## Food and Dining\n",
       "\n",
       "**1. Try Khao Soi:** A traditional Northern Thai coconut curry noodle soup.\n",
       "**2. Visit a night market for local dishes like grilled meats, papaya salad, and mango sticky rice.**\n",
       "**3. Attend a cooking class to learn how to make traditional Thai dishes.**\n",
       "\n",
       "## Accommodation\n",
       "\n",
       "**1. Old City:** Stay in this area for easy access to temples, markets, and restaurants.\n",
       "**2. Nimmanhaemin Road:** Trendy area with boutique hotels, cafes, and shopping.\n",
       "**3. Riverside:** Offers beautiful views and a quieter atmosphere.\n",
       "\n",
       "## Safety and Health\n",
       "\n",
       "**1. Stay hydrated, especially during the hot season.**\n",
       "**2. Be cautious of traffic when crossing the streets.**\n",
       "**3. Watch out for scams, especially around popular tourist areas.**\n",
       "**4. Ensure your vaccinations are up to date before traveling.**\n",
       "\n",
       "## Budget Tips\n",
       "\n",
       "**1. Eat at local markets and street stalls for affordable meals.**\n",
       "**2. Opt for accommodations slightly outside the city center for better rates.**\n",
       "**3. Bargain when shopping at markets but do so respectfully.**\n",
       "\n",
       "## Unique Experiences\n",
       "\n",
       "**1. Monk Chat:** Engage in conversations with local monks to learn about Buddhism and Thai culture.\n",
       "**2. Take a traditional Lanna cooking class to learn about Northern Thai cuisine.**\n",
       "**3. Attend a Yi Peng lantern release ceremony during the Loy Krathong festival if you visit in November.**\n",
       "\n",
       "## Final Travel Tip\n",
       "\n",
       "While in Chiang Mai, don’t miss the opportunity to participate in a monk’s alms giving ceremony early in the morning. It provides a unique insight into the local culture and spirituality. Enjoy your trip to this enchanting city!"
      ],
      "text/plain": [
       "<IPython.core.display.Markdown object>"
      ]
     },
     "metadata": {},
     "output_type": "display_data"
    }
   ],
   "source": [
    "destination = \"Chiang Mai\"\n",
    "stream = client.chat.completions.create(\n",
    "    model=\"gpt-3.5-turbo-0125\",\n",
    "    messages=[\n",
    "        {\"role\": \"system\", \"content\": system_prompt},\n",
    "        {\"role\": \"user\", \"content\": f\"Provide key travel tips for {destination}\"}\n",
    "    ],\n",
    "    stream=True\n",
    ")\n",
    "\n",
    "full_response = \"\"\n",
    "for chunk in stream:\n",
    "    if chunk.choices[0].delta.content is not None:\n",
    "        content = chunk.choices[0].delta.content\n",
    "        full_response += content\n",
    "        \n",
    "        # Clear the current output and display the updated markdown\n",
    "        clear_output(wait=True)\n",
    "        display(Markdown(full_response))\n",
    "        \n",
    "        # Add a small delay to make the streaming visible\n",
    "        time.sleep(0.01)"
   ]
  },
  {
   "cell_type": "markdown",
   "metadata": {},
   "source": [
    "***\n",
    "\n",
    "## RAG Implementation"
   ]
  },
  {
   "cell_type": "markdown",
   "metadata": {},
   "source": [
    "## TODO: Need to create system that dynamically finds reddit threads (maybe tripadvisor if time permits) given a location (refer to the diagram in slides to implement)\n",
    "* Searches google API for places based on \"things to do in <location> site:reddit.com\" etc."
   ]
  },
  {
   "cell_type": "code",
   "execution_count": 6,
   "metadata": {},
   "outputs": [],
   "source": [
    "# code here"
   ]
  },
  {
   "cell_type": "markdown",
   "metadata": {},
   "source": [
    "### Testing\n",
    "* Below is a test list of sources for Chiang Mai (still need to implement the system for fetching docs from Google)"
   ]
  },
  {
   "cell_type": "code",
   "execution_count": 7,
   "metadata": {},
   "outputs": [],
   "source": [
    "sources = [\n",
    "    'https://www.reddit.com/r/chiangmai/comments/1cb3fx4/yi_pengloi_krathong_2024/',\n",
    "    'https://www.reddit.com/r/ThailandTourism/comments/1cpccho/yi_peng_festival_on_a_budget/',\n",
    "    'https://www.reddit.com/r/ThailandTourism/comments/13b0gld/help_me_with_chiang_mai_itinerary/',\n",
    "    'https://www.reddit.com/r/chiangmai/comments/1evxoyu/4_days_trip_in_chiang_mai_any_suggestions_for/',\n",
    "    'https://www.reddit.com/r/chiangmai/comments/1er2mj4/things_to_do_in_chiang_mai/',\n",
    "    'https://www.reddit.com/r/chiangmai/comments/1bmosut/chiang_mai_trip_report_places_to_eat_activities/',\n",
    "    'https://www.reddit.com/r/chiangmai/comments/185wni7/what_to_do_in_chiang_mai/',\n",
    "    \n",
    "    # buggy tripadvisor\n",
    "    'https://www.tripadvisor.com/ShowUserReviews-g293917-d8820428-r621075297-Yi_Peng_and_Loy_Krathong_Lantern_Festival-Chiang_Mai.html'\n",
    "]"
   ]
  },
  {
   "cell_type": "code",
   "execution_count": 8,
   "metadata": {},
   "outputs": [
    {
     "name": "stderr",
     "output_type": "stream",
     "text": [
      "/Users/timothyz/Library/Python/3.9/lib/python/site-packages/urllib3/__init__.py:35: NotOpenSSLWarning: urllib3 v2 only supports OpenSSL 1.1.1+, currently the 'ssl' module is compiled with 'LibreSSL 2.8.3'. See: https://github.com/urllib3/urllib3/issues/3020\n",
      "  warnings.warn(\n"
     ]
    }
   ],
   "source": [
    "import praw\n",
    "import requests\n",
    "from bs4 import BeautifulSoup, SoupStrainer\n",
    "from urllib.parse import urlparse\n",
    "import pandas as pd\n",
    "import time\n",
    "from typing import List, Dict\n",
    "import os\n"
   ]
  },
  {
   "cell_type": "markdown",
   "metadata": {},
   "source": [
    "### Reddit API Key\n",
    "Create a Reddit API key by following the instructions [here](https://www.reddit.com/prefs/apps) (create a script)\n",
    "\n",
    "add the following to your `.env` file\n",
    "```bash\n",
    "REDDIT_CLIENT_ID = \"<your-reddit-client-id>\"\n",
    "REDDIT_CLIENT_SECRET = \"<your-reddit-client-secret>\" \n",
    "REDDIT_USER_AGENT = \"python:<app-name>:v1.0 (by /u/<your-reddit-username>)\"\n",
    "```"
   ]
  },
  {
   "cell_type": "code",
   "execution_count": 9,
   "metadata": {},
   "outputs": [],
   "source": [
    "# Scrape reddit using praw\n",
    "\n",
    "# using praw to better seperate reddit data\n",
    "reddit = praw.Reddit(\n",
    "    client_id=os.environ.get(\"REDDIT_CLIENT_ID\"),\n",
    "    client_secret=os.environ.get(\"REDDIT_CLIENT_SECRET\"),\n",
    "    user_agent=os.environ.get(\"REDDIT_USER_AGENT\"),\n",
    ")\n",
    "\n",
    "def scrape_reddit_post(url: str) -> Dict:\n",
    "    \"\"\"Scrape content from a Reddit post.\"\"\"\n",
    "    try:\n",
    "        # Extract post ID from URL\n",
    "        submission_id = url.split('comments/')[1].split('/')[0]\n",
    "        submission = reddit.submission(id=submission_id)\n",
    "        \n",
    "        # Get post content\n",
    "        post_data = {\n",
    "            'title': submission.title,\n",
    "            'text': submission.selftext,\n",
    "            'comments': [],\n",
    "            'url': url,\n",
    "            'source': 'reddit'\n",
    "        }\n",
    "        \n",
    "        # Get comments (limit to top-level comments)\n",
    "        submission.comments.replace_more(limit=0)\n",
    "        for comment in submission.comments:\n",
    "            if not comment.stickied:  # Skip stickied comments\n",
    "                post_data['comments'].append(comment.body)\n",
    "        \n",
    "        return post_data\n",
    "    \n",
    "    except Exception as e:\n",
    "        print(f\"Error scraping Reddit post {url}: {str(e)}\")\n",
    "        return None\n"
   ]
  },
  {
   "cell_type": "code",
   "execution_count": 10,
   "metadata": {},
   "outputs": [
    {
     "name": "stderr",
     "output_type": "stream",
     "text": [
      "USER_AGENT environment variable not set, consider setting it to identify your requests.\n"
     ]
    }
   ],
   "source": [
    "from langchain_community.document_loaders import WebBaseLoader\n",
    "\n",
    "# TODO scraping tripadvisor is too buggy keeps getting rate limited\n",
    "def scrape_tripadvisor(url: str):\n",
    "    loader = WebBaseLoader(\n",
    "    web_paths=(url,),\n",
    "    bs_kwargs=dict(\n",
    "        parse_only=SoupStrainer(\n",
    "            class_=(\"post-content\", \"post-title\", \"post-header\")\n",
    "            )\n",
    "        ),\n",
    "    )\n",
    "    return loader.load()[0]"
   ]
  },
  {
   "cell_type": "code",
   "execution_count": 11,
   "metadata": {},
   "outputs": [],
   "source": [
    "# Combined function\n",
    "def scrape_urls(urls: List[str]) -> pd.DataFrame:\n",
    "    \"\"\"Scrape content from a list of URLs.\"\"\"\n",
    "    scraped_data = []\n",
    "    \n",
    "    for url in urls:\n",
    "        print(f\"Scraping {url}\")\n",
    "        domain = urlparse(url).netloc\n",
    "        \n",
    "        # Add delay between requests\n",
    "        time.sleep(1)\n",
    "        \n",
    "        if 'reddit.com' in domain:\n",
    "            data = scrape_reddit_post(url)\n",
    "        else:\n",
    "            data = scrape_tripadvisor(url)\n",
    "            \n",
    "        if data:\n",
    "            scraped_data.append(data)\n",
    "    \n",
    "    # Convert to DataFrame\n",
    "    df = pd.DataFrame(scraped_data)\n",
    "    return df\n",
    "\n",
    "# non-reddit links keep getting rate limited\n",
    "# display(scrape_urls(['https://www.tripadvisor.com/ShowUserReviews-g293917-d8820428-r621075297-Yi_Peng_and_Loy_Krathong_Lantern_Festival-Chiang_Mai.html']))"
   ]
  },
  {
   "cell_type": "code",
   "execution_count": 12,
   "metadata": {},
   "outputs": [
    {
     "name": "stdout",
     "output_type": "stream",
     "text": [
      "Scraping https://www.reddit.com/r/chiangmai/comments/1cb3fx4/yi_pengloi_krathong_2024/\n",
      "Scraping https://www.reddit.com/r/ThailandTourism/comments/1cpccho/yi_peng_festival_on_a_budget/\n",
      "Scraping https://www.reddit.com/r/ThailandTourism/comments/13b0gld/help_me_with_chiang_mai_itinerary/\n",
      "Scraping https://www.reddit.com/r/chiangmai/comments/1evxoyu/4_days_trip_in_chiang_mai_any_suggestions_for/\n",
      "Scraping https://www.reddit.com/r/chiangmai/comments/1er2mj4/things_to_do_in_chiang_mai/\n",
      "Scraping https://www.reddit.com/r/chiangmai/comments/1bmosut/chiang_mai_trip_report_places_to_eat_activities/\n",
      "Scraping https://www.reddit.com/r/chiangmai/comments/185wni7/what_to_do_in_chiang_mai/\n"
     ]
    },
    {
     "data": {
      "text/html": [
       "<div>\n",
       "<style scoped>\n",
       "    .dataframe tbody tr th:only-of-type {\n",
       "        vertical-align: middle;\n",
       "    }\n",
       "\n",
       "    .dataframe tbody tr th {\n",
       "        vertical-align: top;\n",
       "    }\n",
       "\n",
       "    .dataframe thead th {\n",
       "        text-align: right;\n",
       "    }\n",
       "</style>\n",
       "<table border=\"1\" class=\"dataframe\">\n",
       "  <thead>\n",
       "    <tr style=\"text-align: right;\">\n",
       "      <th></th>\n",
       "      <th>title</th>\n",
       "      <th>text</th>\n",
       "      <th>comments</th>\n",
       "      <th>url</th>\n",
       "      <th>source</th>\n",
       "    </tr>\n",
       "  </thead>\n",
       "  <tbody>\n",
       "    <tr>\n",
       "      <th>0</th>\n",
       "      <td>Yi Peng/Loi Krathong 2024</td>\n",
       "      <td>Hey everyone!\\n\\nMy Girl and me want to visit ...</td>\n",
       "      <td>[There is events you can pay to go, but I woul...</td>\n",
       "      <td>https://www.reddit.com/r/chiangmai/comments/1c...</td>\n",
       "      <td>reddit</td>\n",
       "    </tr>\n",
       "    <tr>\n",
       "      <th>1</th>\n",
       "      <td>Yi Peng Festival - on a Budget</td>\n",
       "      <td>Hi, so I'm from the Philippines! \\n\\nMy friend...</td>\n",
       "      <td>[No matter where you stay in the Old City area...</td>\n",
       "      <td>https://www.reddit.com/r/ThailandTourism/comme...</td>\n",
       "      <td>reddit</td>\n",
       "    </tr>\n",
       "    <tr>\n",
       "      <th>2</th>\n",
       "      <td>Help me with Chiang Mai itinerary</td>\n",
       "      <td>This September me and my friends will be in Ch...</td>\n",
       "      <td>[You'll be completely fucked after a night bus...</td>\n",
       "      <td>https://www.reddit.com/r/ThailandTourism/comme...</td>\n",
       "      <td>reddit</td>\n",
       "    </tr>\n",
       "    <tr>\n",
       "      <th>3</th>\n",
       "      <td>4 days trip in Chiang Mai - Any suggestions fo...</td>\n",
       "      <td>Hello all! I'm planning on a solo trip to Chia...</td>\n",
       "      <td>[Sticky waterfall: a wonder that will mess wit...</td>\n",
       "      <td>https://www.reddit.com/r/chiangmai/comments/1e...</td>\n",
       "      <td>reddit</td>\n",
       "    </tr>\n",
       "    <tr>\n",
       "      <th>4</th>\n",
       "      <td>Things to do in Chiang Mai</td>\n",
       "      <td>Hey guys! I'm an Irish Tourist and am in Chian...</td>\n",
       "      <td>[Here’s a helpful [Chiang Mai Itinerary](https...</td>\n",
       "      <td>https://www.reddit.com/r/chiangmai/comments/1e...</td>\n",
       "      <td>reddit</td>\n",
       "    </tr>\n",
       "  </tbody>\n",
       "</table>\n",
       "</div>"
      ],
      "text/plain": [
       "                                               title  \\\n",
       "0                          Yi Peng/Loi Krathong 2024   \n",
       "1                     Yi Peng Festival - on a Budget   \n",
       "2                  Help me with Chiang Mai itinerary   \n",
       "3  4 days trip in Chiang Mai - Any suggestions fo...   \n",
       "4                         Things to do in Chiang Mai   \n",
       "\n",
       "                                                text  \\\n",
       "0  Hey everyone!\\n\\nMy Girl and me want to visit ...   \n",
       "1  Hi, so I'm from the Philippines! \\n\\nMy friend...   \n",
       "2  This September me and my friends will be in Ch...   \n",
       "3  Hello all! I'm planning on a solo trip to Chia...   \n",
       "4  Hey guys! I'm an Irish Tourist and am in Chian...   \n",
       "\n",
       "                                            comments  \\\n",
       "0  [There is events you can pay to go, but I woul...   \n",
       "1  [No matter where you stay in the Old City area...   \n",
       "2  [You'll be completely fucked after a night bus...   \n",
       "3  [Sticky waterfall: a wonder that will mess wit...   \n",
       "4  [Here’s a helpful [Chiang Mai Itinerary](https...   \n",
       "\n",
       "                                                 url  source  \n",
       "0  https://www.reddit.com/r/chiangmai/comments/1c...  reddit  \n",
       "1  https://www.reddit.com/r/ThailandTourism/comme...  reddit  \n",
       "2  https://www.reddit.com/r/ThailandTourism/comme...  reddit  \n",
       "3  https://www.reddit.com/r/chiangmai/comments/1e...  reddit  \n",
       "4  https://www.reddit.com/r/chiangmai/comments/1e...  reddit  "
      ]
     },
     "metadata": {},
     "output_type": "display_data"
    }
   ],
   "source": [
    "# Scrape reddit only\n",
    "reddit_results = scrape_urls([s for s in sources if 'reddit' in s])\n",
    "\n",
    "# Display first few rows\n",
    "display(reddit_results.head())"
   ]
  },
  {
   "cell_type": "markdown",
   "metadata": {},
   "source": [
    "### Encode Reddit data in single string for embedding\n",
    "\n",
    "Target structure (Markdown):\n",
    "\n",
    "* Markdown performance in GPT-4 is cheaper and more token-efficient\n",
    "- https://arxiv.org/html/2411.10541v1\n",
    "   - GPT-3.5-turbo prefers JSON, whereas GPT-4 favors Markdown\n",
    "   - Encode in markdown since we are using GPT-4\n",
    "- https://community.openai.com/t/markdown-is-15-more-token-efficient-than-json/841742"
   ]
  },
  {
   "cell_type": "code",
   "execution_count": 19,
   "metadata": {},
   "outputs": [
    {
     "data": {
      "text/plain": [
       "title                               Yi Peng/Loi Krathong 2024\n",
       "text        Hey everyone!\\n\\nMy Girl and me want to visit ...\n",
       "comments    [There is events you can pay to go, but I woul...\n",
       "url         https://www.reddit.com/r/chiangmai/comments/1c...\n",
       "source                                                 reddit\n",
       "Name: 0, dtype: object"
      ]
     },
     "execution_count": 19,
     "metadata": {},
     "output_type": "execute_result"
    }
   ],
   "source": [
    "first_post = reddit_results.iloc[0]\n",
    "first_post"
   ]
  },
  {
   "cell_type": "code",
   "execution_count": 47,
   "metadata": {},
   "outputs": [],
   "source": [
    "from dataclasses import dataclass\n",
    "from typing import List\n",
    "import textwrap\n",
    "\n",
    "@dataclass\n",
    "class RedditThread:\n",
    "    title: str\n",
    "    text: str\n",
    "    comments: List[str]\n",
    "    url: str\n",
    "    source: str\n",
    "    \n",
    "    def __str__(self) -> str:\n",
    "        # Format the main post\n",
    "        output = [\n",
    "            f\"# {self.title}\",\n",
    "            \"\",\n",
    "            f\"## Original Post\",\n",
    "            \"\",\n",
    "            textwrap.fill(self.text, width=80),\n",
    "            \"\",\n",
    "            \"### Comments\",\n",
    "            \"\"\n",
    "        ]\n",
    "        \n",
    "        # Format comments with indentation to show thread structure\n",
    "        for comment in self.comments:\n",
    "            # Calculate comment depth based on leading spaces\n",
    "            depth = len(comment) - len(comment.lstrip())\n",
    "            # Remove leading spaces and wrap text\n",
    "            clean_comment = comment.lstrip()\n",
    "            # Add markdown list marker with proper indentation\n",
    "            indent = \"  \" * (depth // 2)  # Adjust indentation based on depth\n",
    "            wrapped_comment = textwrap.fill(\n",
    "                clean_comment,\n",
    "                width=80,\n",
    "                initial_indent=f\"{indent}- \",\n",
    "                subsequent_indent=f\"{indent}  \"\n",
    "            )\n",
    "            output.append(wrapped_comment)\n",
    "        \n",
    "        output += [\n",
    "            \"\",\n",
    "            \"#### URL\",\n",
    "            self.url\n",
    "        ]\n",
    "        \n",
    "        return \"\\n\".join(output)"
   ]
  },
  {
   "cell_type": "code",
   "execution_count": 48,
   "metadata": {},
   "outputs": [],
   "source": [
    "reddit_threads = [RedditThread(\n",
    "    title=row['title'],\n",
    "    text=row['text'],\n",
    "    comments=row['comments'],\n",
    "    url=row['url'],\n",
    "    source=row['source']\n",
    ") for index, row in reddit_results.iterrows()]"
   ]
  },
  {
   "cell_type": "code",
   "execution_count": 49,
   "metadata": {},
   "outputs": [
    {
     "data": {
      "text/plain": [
       "\"# Yi Peng/Loi Krathong 2024\\n\\n## Original Post\\n\\nHey everyone!  My Girl and me want to visit Thailand in November. We saw that\\naround the 15./16. of November there will be the Yi Peng and Loi Krathong\\nfestivities in Chiang Mai. It is not easy to get an overview of what to expect\\nthere. So I am grateful for any information!   So here are a few questions:  -\\nDo we need to attend the paid festival by CAD? Or is this just a touristic cash\\ngrab? - Where to get a lantern? - Are we allowed to let a lantern start from\\nwithin the city?  - What is a “must see” at that time in Chiang mai? e.g. any\\nspecial ceremonies? Parades? - Is there like a timetable what is happening when\\nin the city?   Thank & Cheers!\\n\\n### Comments\\n\\n- There is events you can pay to go, but I would advise against it. It's very\\n  simple festival, go to any bridge on the ping river, there is lanterns\\n  everywhere to buy from street vendors, you can buy flowers to set on the water\\n  etc. You dont have to stress to much about time, when the sun goes down around\\n  7 is when you can expect the lanterns to raise to the air. Go have a nice\\n  dinner near ping river (Riverside or The Dukes, and when dinner is done go to\\n  the river and enjoy the sights and buy some lanterns and some flower\\n  decorations to give to the water spirits ( which is from my understanding what\\n  the whole festival Loi Krathong is about)   I hired a photographer for 2 hours\\n  in 2017 and got some amazing shots with me and my family.\\n- Hey, I was in CM for Yi Peng/Loi Krathong last November, it was very good. No\\n  need to go to the paid festival, the city centre (particularly around the\\n  river area) is absolutely buzzing with people/festivities and decorated\\n  beautifully.  In terms of launching lanterns from the city - people seemed to\\n  be launching them mostly from Nawarat Bridge (literally hundreds, maybe\\n  thousands). I can't endorse this though as it's banned due to fire risk. It\\n  also can't be great for the environment / wildlife. Unfortunately there was a\\n  big fire last year that took hours to put out\\n  (https://www.nationthailand.com/thailand/general/40033278). I witnessed it\\n  from my balcony and it was a very sad sight. Apparently this has happed in\\n  previous years too. Fortunately I think nobody was hurt, but people probably\\n  lost homes, or at very least businesses.  Other than that, it was a really\\n  great festival. CM (and Thailand in general) has some of the strongest\\n  festival game I've ever seen. Each one truly magical and memorable. And yes,\\n  there was parade around the perimeter of the Old City on one of the last days,\\n  that was good too.  One thing I'd say is to try and book accommodation and\\n  flights (if that's how you'll be travelling) well in advance as a lot of\\n  people visit CM for this festival. I was there for the the whole of November\\n  and the influx was very noticeable. Afterwards, as my departure from CM\\n  happened to coincide with the end of Yi Peng/Loi Krathong, I ended up having\\n  to get a 10hr bus to BKK to just get a reasonably priced last(ish) minute\\n  flight to HCM as this was \\\\~$300 from CM (usually $50-70 for this route). I\\n  imagine it would've been cheaper from CM if I'd booked more in advance.  Have\\n  a great time! I love CM so much, one of my favourite places in the world. If\\n  you have time, drive \\\\~20mins from the centre (or get a Grab taxi for \\\\~300\\n  bhat) to Royal Park Rajapruek. Afterwards, you can also drive/taxi 5-10min up\\n  to Wat Phra That Doi Kham, the temple overlooking the park + has a great view\\n  over CM (if you go up by Grab taxi you may have to get a songthaew back down\\n  though as I'm not sure if Grab collect from up there, or perhaps you could try\\n  and tipping the Grab driver that took you up to wait for you). This area is\\n  truly special and relatively unknown / unvisited by tourists as it's a bit out\\n  of town.\\n- The paid event is worth it if you dgaf about the cost and want something less\\n  crowded and organized including transportation to/from and everything planned\\n  out.  There’s a free event at doi saket lakes which is fun but insanely\\n  overcrowded. It’s absolutely crazy how many people are here for it. We’re\\n  already sold out of beds for this year.\\n\\n#### URL\\nhttps://www.reddit.com/r/chiangmai/comments/1cb3fx4/yi_pengloi_krathong_2024/\""
      ]
     },
     "execution_count": 49,
     "metadata": {},
     "output_type": "execute_result"
    }
   ],
   "source": [
    "str(reddit_threads[0])"
   ]
  },
  {
   "cell_type": "code",
   "execution_count": 50,
   "metadata": {},
   "outputs": [
    {
     "data": {
      "text/markdown": [
       "# Yi Peng/Loi Krathong 2024\n",
       "\n",
       "## Original Post\n",
       "\n",
       "Hey everyone!  My Girl and me want to visit Thailand in November. We saw that\n",
       "around the 15./16. of November there will be the Yi Peng and Loi Krathong\n",
       "festivities in Chiang Mai. It is not easy to get an overview of what to expect\n",
       "there. So I am grateful for any information!   So here are a few questions:  -\n",
       "Do we need to attend the paid festival by CAD? Or is this just a touristic cash\n",
       "grab? - Where to get a lantern? - Are we allowed to let a lantern start from\n",
       "within the city?  - What is a “must see” at that time in Chiang mai? e.g. any\n",
       "special ceremonies? Parades? - Is there like a timetable what is happening when\n",
       "in the city?   Thank & Cheers!\n",
       "\n",
       "### Comments\n",
       "\n",
       "- There is events you can pay to go, but I would advise against it. It's very\n",
       "  simple festival, go to any bridge on the ping river, there is lanterns\n",
       "  everywhere to buy from street vendors, you can buy flowers to set on the water\n",
       "  etc. You dont have to stress to much about time, when the sun goes down around\n",
       "  7 is when you can expect the lanterns to raise to the air. Go have a nice\n",
       "  dinner near ping river (Riverside or The Dukes, and when dinner is done go to\n",
       "  the river and enjoy the sights and buy some lanterns and some flower\n",
       "  decorations to give to the water spirits ( which is from my understanding what\n",
       "  the whole festival Loi Krathong is about)   I hired a photographer for 2 hours\n",
       "  in 2017 and got some amazing shots with me and my family.\n",
       "- Hey, I was in CM for Yi Peng/Loi Krathong last November, it was very good. No\n",
       "  need to go to the paid festival, the city centre (particularly around the\n",
       "  river area) is absolutely buzzing with people/festivities and decorated\n",
       "  beautifully.  In terms of launching lanterns from the city - people seemed to\n",
       "  be launching them mostly from Nawarat Bridge (literally hundreds, maybe\n",
       "  thousands). I can't endorse this though as it's banned due to fire risk. It\n",
       "  also can't be great for the environment / wildlife. Unfortunately there was a\n",
       "  big fire last year that took hours to put out\n",
       "  (https://www.nationthailand.com/thailand/general/40033278). I witnessed it\n",
       "  from my balcony and it was a very sad sight. Apparently this has happed in\n",
       "  previous years too. Fortunately I think nobody was hurt, but people probably\n",
       "  lost homes, or at very least businesses.  Other than that, it was a really\n",
       "  great festival. CM (and Thailand in general) has some of the strongest\n",
       "  festival game I've ever seen. Each one truly magical and memorable. And yes,\n",
       "  there was parade around the perimeter of the Old City on one of the last days,\n",
       "  that was good too.  One thing I'd say is to try and book accommodation and\n",
       "  flights (if that's how you'll be travelling) well in advance as a lot of\n",
       "  people visit CM for this festival. I was there for the the whole of November\n",
       "  and the influx was very noticeable. Afterwards, as my departure from CM\n",
       "  happened to coincide with the end of Yi Peng/Loi Krathong, I ended up having\n",
       "  to get a 10hr bus to BKK to just get a reasonably priced last(ish) minute\n",
       "  flight to HCM as this was \\~$300 from CM (usually $50-70 for this route). I\n",
       "  imagine it would've been cheaper from CM if I'd booked more in advance.  Have\n",
       "  a great time! I love CM so much, one of my favourite places in the world. If\n",
       "  you have time, drive \\~20mins from the centre (or get a Grab taxi for \\~300\n",
       "  bhat) to Royal Park Rajapruek. Afterwards, you can also drive/taxi 5-10min up\n",
       "  to Wat Phra That Doi Kham, the temple overlooking the park + has a great view\n",
       "  over CM (if you go up by Grab taxi you may have to get a songthaew back down\n",
       "  though as I'm not sure if Grab collect from up there, or perhaps you could try\n",
       "  and tipping the Grab driver that took you up to wait for you). This area is\n",
       "  truly special and relatively unknown / unvisited by tourists as it's a bit out\n",
       "  of town.\n",
       "- The paid event is worth it if you dgaf about the cost and want something less\n",
       "  crowded and organized including transportation to/from and everything planned\n",
       "  out.  There’s a free event at doi saket lakes which is fun but insanely\n",
       "  overcrowded. It’s absolutely crazy how many people are here for it. We’re\n",
       "  already sold out of beds for this year.\n",
       "\n",
       "#### URL\n",
       "https://www.reddit.com/r/chiangmai/comments/1cb3fx4/yi_pengloi_krathong_2024/"
      ],
      "text/plain": [
       "<IPython.core.display.Markdown object>"
      ]
     },
     "metadata": {},
     "output_type": "display_data"
    }
   ],
   "source": [
    "display(Markdown(str(reddit_threads[0])))"
   ]
  },
  {
   "cell_type": "markdown",
   "metadata": {},
   "source": [
    "### Add reddit data into vector store"
   ]
  },
  {
   "cell_type": "code",
   "execution_count": 58,
   "metadata": {},
   "outputs": [
    {
     "name": "stderr",
     "output_type": "stream",
     "text": [
      "huggingface/tokenizers: The current process just got forked, after parallelism has already been used. Disabling parallelism to avoid deadlocks...\n",
      "To disable this warning, you can either:\n",
      "\t- Avoid using `tokenizers` before the fork if possible\n",
      "\t- Explicitly set the environment variable TOKENIZERS_PARALLELISM=(true | false)\n"
     ]
    },
    {
     "name": "stdout",
     "output_type": "stream",
     "text": [
      "Note: you may need to restart the kernel to use updated packages.\n"
     ]
    },
    {
     "name": "stderr",
     "output_type": "stream",
     "text": [
      "huggingface/tokenizers: The current process just got forked, after parallelism has already been used. Disabling parallelism to avoid deadlocks...\n",
      "To disable this warning, you can either:\n",
      "\t- Avoid using `tokenizers` before the fork if possible\n",
      "\t- Explicitly set the environment variable TOKENIZERS_PARALLELISM=(true | false)\n"
     ]
    },
    {
     "name": "stdout",
     "output_type": "stream",
     "text": [
      "Note: you may need to restart the kernel to use updated packages.\n"
     ]
    },
    {
     "name": "stderr",
     "output_type": "stream",
     "text": [
      "huggingface/tokenizers: The current process just got forked, after parallelism has already been used. Disabling parallelism to avoid deadlocks...\n",
      "To disable this warning, you can either:\n",
      "\t- Avoid using `tokenizers` before the fork if possible\n",
      "\t- Explicitly set the environment variable TOKENIZERS_PARALLELISM=(true | false)\n"
     ]
    },
    {
     "name": "stdout",
     "output_type": "stream",
     "text": [
      "Note: you may need to restart the kernel to use updated packages.\n"
     ]
    },
    {
     "name": "stderr",
     "output_type": "stream",
     "text": [
      "huggingface/tokenizers: The current process just got forked, after parallelism has already been used. Disabling parallelism to avoid deadlocks...\n",
      "To disable this warning, you can either:\n",
      "\t- Avoid using `tokenizers` before the fork if possible\n",
      "\t- Explicitly set the environment variable TOKENIZERS_PARALLELISM=(true | false)\n"
     ]
    },
    {
     "name": "stdout",
     "output_type": "stream",
     "text": [
      "Note: you may need to restart the kernel to use updated packages.\n"
     ]
    }
   ],
   "source": [
    "%pip install --quiet chromadb\n",
    "%pip install --quiet sentence-transformers\n",
    "%pip install --quiet langchain\n",
    "%pip install --quiet langchain_openai"
   ]
  },
  {
   "cell_type": "code",
   "execution_count": 59,
   "metadata": {},
   "outputs": [],
   "source": [
    "from langchain_openai import ChatOpenAI\n",
    "\n",
    "llm = ChatOpenAI(\n",
    "    model=\"gpt-4o\"\n",
    ")"
   ]
  },
  {
   "cell_type": "code",
   "execution_count": null,
   "metadata": {},
   "outputs": [],
   "source": [
    "from langchain.text_splitter import MarkdownHeaderTextSplitter, RecursiveCharacterTextSplitter\n",
    "from langchain.embeddings import HuggingFaceEmbeddings\n",
    "from langchain.vectorstores import Chroma\n",
    "import chromadb\n",
    "\n",
    "reddit_thread_strings = [str(t) for t in reddit_threads]\n",
    "\n",
    "def create_reddit_vectorstore(reddit_threads: list[str], persist_directory: str = \"./chroma_db\"):\n",
    "    # Initialize the markdown header splitter\n",
    "    headers_to_split_on = [\n",
    "        (\"#\", \"Title\"),\n",
    "        (\"##\", \"Original Post\"),\n",
    "        (\"###\", \"Comments\"),\n",
    "        (\"####\", \"URL\")\n",
    "    ]\n",
    "    markdown_splitter = MarkdownHeaderTextSplitter(headers_to_split_on=headers_to_split_on)\n",
    "    \n",
    "    # Initialize recursive splitter for further splitting\n",
    "    text_splitter = RecursiveCharacterTextSplitter(\n",
    "        chunk_size=512,\n",
    "        chunk_overlap=50,\n",
    "        separators=[\"\\n\\n\", \"\\n\", \" \", \"\"],\n",
    "        length_function=len\n",
    "    )\n",
    "    \n",
    "    # Initialize embeddings model\n",
    "    embeddings = HuggingFaceEmbeddings(\n",
    "        model_name=\"sentence-transformers/all-MiniLM-L6-v2\", # optimal model for conversational data\n",
    "        model_kwargs={'device': 'mps'}\n",
    "    )\n",
    "    \n",
    "    # Process all documents\n",
    "    all_splits = []\n",
    "    for thread in reddit_threads:\n",
    "        # Split by markdown headers first\n",
    "        md_splits = markdown_splitter.split_text(thread)\n",
    "        \n",
    "        # Further split the content\n",
    "        for md_split in md_splits:\n",
    "            splits = text_splitter.split_text(md_split.page_content)\n",
    "            all_splits.extend(splits)\n",
    "    \n",
    "    # Create and persist vectorstore\n",
    "    vectorstore = Chroma.from_texts(\n",
    "        texts=all_splits,\n",
    "        embedding=embeddings,\n",
    "        persist_directory=persist_directory\n",
    "    )\n",
    "    vectorstore.persist()\n",
    "    \n",
    "    return vectorstore\n",
    "\n",
    "vectorstore = create_reddit_vectorstore(reddit_thread_strings)\n",
    "\n",
    "retriever = vectorstore.as_retriever(\n",
    "    search_type=\"similarity_score_threshold\", search_kwargs={\"score_threshold\": 0.5}\n",
    ")"
   ]
  },
  {
   "cell_type": "code",
   "execution_count": null,
   "metadata": {},
   "outputs": [],
   "source": [
    "def format_reddit_threads(threads):\n",
    "    enumerated_reddit_threads = [\n",
    "        f\"Source ID: {i}\\nReddit Thread: {thread}\"\n",
    "        for i, thread in enumerate(threads)\n",
    "    ]\n",
    "\n",
    "    return \"\\n\\n\" + \"\\n\\n\".join(enumerated_reddit_threads)\n"
   ]
  },
  {
   "cell_type": "code",
   "execution_count": 55,
   "metadata": {},
   "outputs": [],
   "source": [
    "from langchain_core.prompts import ChatPromptTemplate\n",
    "\n",
    "rag_system_prompt = (\n",
    "    \"You're a helpful AI assistant. Given a user question \"\n",
    "    \"and some Reddit thread snippets including the original post and top comments, answer the user \"\n",
    "    \"question. If none of the threads answer the question, \"\n",
    "    \"just say you don't know.\"\n",
    "    \"\\n\\nHere are the Reddit Threads: \"\n",
    "    \"{context}\"\n",
    ")\n",
    "\n",
    "rag_prompt = ChatPromptTemplate.from_messages(\n",
    "    [\n",
    "        (\"system\", rag_system_prompt),\n",
    "        (\"human\", \"{input}\"),\n",
    "    ]\n",
    ")"
   ]
  },
  {
   "cell_type": "code",
   "execution_count": null,
   "metadata": {},
   "outputs": [],
   "source": [
    "from pydantic import BaseModel, Field\n",
    "from langchain_core.runnables import RunnablePassthrough\n",
    "\n",
    "\n",
    "class Citation(BaseModel):\n",
    "    source_id: int = Field(\n",
    "        ...,\n",
    "        description=\"The integer ID of a SPECIFIC source which justifies the answer.\",\n",
    "    )\n",
    "    quote: str = Field(\n",
    "        ...,\n",
    "        description=\"The VERBATIM quote from the specified source that justifies the answer.\",\n",
    "    )\n",
    "\n",
    "\n",
    "class QuotedAnswer(BaseModel):\n",
    "    \"\"\"Answer the user question based only on the given sources, and cite the sources used.\"\"\"\n",
    "\n",
    "    answer: str = Field(\n",
    "        ...,\n",
    "        description=\"The answer to the user question, which is based only on the given sources.\",\n",
    "    )\n",
    "    citations: List[Citation] = Field(\n",
    "        ..., description=\"Citations from the given sources that justify the answer.\"\n",
    "    )\n",
    "\n",
    "rag_chain_from_docs = (\n",
    "    RunnablePassthrough.assign(context=(lambda x: format_reddit_threads(x[\"context\"])))\n",
    "    | rag_prompt\n",
    "    | llm.with_structured_output(QuotedAnswer)\n",
    ")\n",
    "\n",
    "\n",
    "retrieve_docs = (lambda x: x[\"input\"]) | retriever\n",
    "\n",
    "chain = RunnablePassthrough.assign(context=retrieve_docs).assign(\n",
    "    answer=rag_chain_from_docs\n",
    ")"
   ]
  },
  {
   "cell_type": "code",
   "execution_count": null,
   "metadata": {},
   "outputs": [],
   "source": [
    "result = chain.invoke({\"input\": \"How fast are cheetahs?\"})"
   ]
  },
  {
   "cell_type": "code",
   "execution_count": null,
   "metadata": {},
   "outputs": [],
   "source": [
    "result[\"answer\"]"
   ]
  },
  {
   "cell_type": "code",
   "execution_count": null,
   "metadata": {},
   "outputs": [],
   "source": [
    "result['context'][0]"
   ]
  },
  {
   "cell_type": "code",
   "execution_count": null,
   "metadata": {},
   "outputs": [],
   "source": []
  },
  {
   "cell_type": "markdown",
   "metadata": {},
   "source": [
    "### Vectorstore retrieval based on relevance"
   ]
  },
  {
   "cell_type": "code",
   "execution_count": null,
   "metadata": {},
   "outputs": [],
   "source": []
  },
  {
   "cell_type": "markdown",
   "metadata": {},
   "source": [
    "### Generate Answer"
   ]
  },
  {
   "cell_type": "code",
   "execution_count": 14,
   "metadata": {},
   "outputs": [],
   "source": [
    "# code here"
   ]
  },
  {
   "cell_type": "markdown",
   "metadata": {},
   "source": [
    "### Add Citations to Answer"
   ]
  },
  {
   "cell_type": "code",
   "execution_count": 15,
   "metadata": {},
   "outputs": [],
   "source": [
    "## TODO: Create citation"
   ]
  },
  {
   "cell_type": "markdown",
   "metadata": {},
   "source": [
    "### Evaluate citations using NLI model (from RAG - tutorial slides)"
   ]
  },
  {
   "cell_type": "code",
   "execution_count": 16,
   "metadata": {},
   "outputs": [],
   "source": [
    "# download huggingface model and do stuff"
   ]
  },
  {
   "cell_type": "markdown",
   "metadata": {},
   "source": [
    "### Present With Rag / Without RAG relevance (the evaluation step)"
   ]
  },
  {
   "cell_type": "code",
   "execution_count": null,
   "metadata": {},
   "outputs": [],
   "source": []
  }
 ],
 "metadata": {
  "kernelspec": {
   "display_name": "Python 3",
   "language": "python",
   "name": "python3"
  },
  "language_info": {
   "codemirror_mode": {
    "name": "ipython",
    "version": 3
   },
   "file_extension": ".py",
   "mimetype": "text/x-python",
   "name": "python",
   "nbconvert_exporter": "python",
   "pygments_lexer": "ipython3",
   "version": "3.9.6"
  }
 },
 "nbformat": 4,
 "nbformat_minor": 2
}
