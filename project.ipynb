{
 "cells": [
  {
   "cell_type": "markdown",
   "metadata": {},
   "source": [
    "# abc Trip Planner (MVP)\n",
    "\n",
    "Members\n",
    "* Daniel Jiang (1009509)\n",
    "* John Mo (1009513)\n",
    "* Timothy Zheng (1009502)\n",
    "\n",
    "## Notes\n",
    "\n",
    "To run this program, you will need to create and populate a `.env` file with your OpenAI API key\n",
    "\n",
    "`.env`\n",
    "```\n",
    "OPENAI_API_KEY = \"your_key_here\"\n",
    "```\n",
    "\n",
    "### TODO\n",
    "* Set up OpenAI key\n",
    "* Implement LLM\n",
    "* RAG system\n",
    "* (eval) compare to \"ground truth\""
   ]
  },
  {
   "cell_type": "code",
   "execution_count": 4,
   "metadata": {},
   "outputs": [
    {
     "name": "stdout",
     "output_type": "stream",
     "text": [
      "Requirement already satisfied: pip in /Library/Frameworks/Python.framework/Versions/3.11/lib/python3.11/site-packages (24.3.1)\n",
      "Note: you may need to restart the kernel to use updated packages.\n",
      "Note: you may need to restart the kernel to use updated packages.\n",
      "Note: you may need to restart the kernel to use updated packages.\n"
     ]
    }
   ],
   "source": [
    "%pip install --upgrade pip\n",
    "%pip install openai --quiet\n",
    "%pip install python-dotenv --quiet"
   ]
  },
  {
   "cell_type": "code",
   "execution_count": 18,
   "metadata": {},
   "outputs": [
    {
     "data": {
      "text/plain": [
       "True"
      ]
     },
     "execution_count": 18,
     "metadata": {},
     "output_type": "execute_result"
    }
   ],
   "source": [
    "from openai import OpenAI\n",
    "from dotenv import load_dotenv\n",
    "from IPython.display import display, Markdown, clear_output\n",
    "import time\n",
    "\n",
    "load_dotenv() # Requires .env file"
   ]
  },
  {
   "cell_type": "code",
   "execution_count": 19,
   "metadata": {},
   "outputs": [],
   "source": [
    "client = OpenAI()\n",
    "\n",
    "system_prompt = \"\"\"You are a knowledgeable travel assistant. Provide a comprehensive and well-structured guide for the specified destination. Your response should be detailed, accurate, and formatted using markdown. Follow these guidelines:\n",
    "\n",
    "1. Begin with a brief introduction about the destination.\n",
    "2. Use level 2 headers (##) to separate main sections.\n",
    "3. Use bolding (**) for subsections or important points within sections.\n",
    "4. Include the following sections, but not necessarily in this order:\n",
    "   - Best Time to Visit\n",
    "   - Top Attractions\n",
    "   - Local Culture and Etiquette\n",
    "   - Getting Around\n",
    "   - Food and Dining\n",
    "   - Accommodation\n",
    "   - Safety and Health\n",
    "   - Budget Tips\n",
    "   - Unique Experiences\n",
    "   - Essential Phrases (if applicable)\n",
    "\n",
    "5. Provide practical, up-to-date information and insider tips.\n",
    "6. Use bullet points sparingly, preferring well-structured paragraphs.\n",
    "7. Include any recent developments or changes affecting travel to the destination.\n",
    "8. Conclude with a brief summary or final travel tip.\n",
    "\n",
    "Aim for a comprehensive guide that's easy to read and informative for travelers.\"\"\""
   ]
  },
  {
   "cell_type": "code",
   "execution_count": 20,
   "metadata": {},
   "outputs": [
    {
     "data": {
      "text/markdown": [
       "# Travel Guide to Chiang Mai, Thailand\n",
       "\n",
       "Chiang Mai, often referred to as the \"Rose of the North,\" is a culturally and historically rich city nestled in the mountainous region of northern Thailand. Known for its stunning temples, vibrant festivals, and lush landscapes, Chiang Mai offers a unique blend of traditional and contemporary experiences.\n",
       "\n",
       "## Best Time to Visit\n",
       "\n",
       "**Ideal Months:** The best time to visit Chiang Mai is between **November and February**. During these cooler months, the weather is pleasant, making it perfect for exploring the city and its surroundings.\n",
       "\n",
       "**Trip Considerations:** Avoid the hot season from March to May, where temperatures can rise significantly. Additionally, March may see some air pollution due to regional agricultural burning. The rainy season, June to October, offers lush scenery but can disrupt travel plans with sudden downpours.\n",
       "\n",
       "## Top Attractions\n",
       "\n",
       "**Temples and Cultural Sites:**\n",
       "- **Wat Phra That Doi Suthep:** Perched on a mountain, this iconic temple offers breathtaking views of the city and is a must-visit for its beautiful architecture and spiritual significance.\n",
       "- **Old City Temples:** Explore temples like Wat Chedi Luang and Wat Phra Singh within the old city walls, rich in history and Lanna architecture.\n",
       "\n",
       "**Natural Wonders:**\n",
       "- **Elephant Nature Park:** A sanctuary for elephants rescued from less favorable circumstances. Visits support ethical tourism and allow for close encounters.\n",
       "- **Doi Inthanon National Park:** Known as the \"Roof of Thailand,\" it is home to the country's highest peak and offers stunning waterfalls and hiking trails.\n",
       "\n",
       "**Vibrant Markets:**\n",
       "- **Chiang Mai Night Bazaar:** A bustling market perfect for souvenir shopping, sampling local street food, and enjoying the lively atmosphere.\n",
       "- **Sunday Walking Street:** This market takes over the central streets and is ideal for experiencing local crafts, food, and performances.\n",
       "\n",
       "## Local Culture and Etiquette\n",
       "\n",
       "**Respect and Customs:**\n",
       "- **Cultural Sensitivity:** When visiting temples, dress modestly, covering shoulders and knees, and remove shoes before entering.\n",
       "- **Politeness:** The Thai people are generally friendly and polite; showing respect through the customary *wai* gesture (a slight bow with hands pressed together) is appreciated.\n",
       "\n",
       "**Festivals:**\n",
       "- **Loy Krathong and Yi Peng:** Held in November, these festivals feature beautiful light displays and floating lanterns and are culturally significant events not to be missed.\n",
       "\n",
       "## Getting Around\n",
       "\n",
       "**Transport Options:**\n",
       "- **Songthaews and Tuk-tuks:** Economical and popular modes of transport for short distances within the city.\n",
       "- **Bicycle or Motorbike Rentals:** Offer flexibility and a fun way to explore, though ensure you’re comfortable with local traffic conditions.\n",
       "- **Public Buses and Taxis:** Also available, with Grab being a reliable app for hailing rides.\n",
       "\n",
       "## Food and Dining\n",
       "\n",
       "**Local Cuisine Highlights:**\n",
       "- **Khao Soi:** A spicy noodle soup topped with crispy noodles, a Northern Thai specialty.\n",
       "- **Sai Oua (Northern Sausage):** Try this flavorful sausage with herbs and spices unique to the region.\n",
       "- **Street Food:** Explore markets for an array of street food, providing both delicious and budget-friendly options.\n",
       "\n",
       "**Dining Tips:**\n",
       "- **Etiquette:** Sharing dishes is common, and it's customary to leave a small tip or round up the bill in gratitude.\n",
       "\n",
       "## Accommodation\n",
       "\n",
       "**Variety of Options:**\n",
       "- **Old City:** Offers quaint guesthouses and boutique hotels, ideal for cultural immersion.\n",
       "- **Nimmanhaemin Road:** Known for modern hotels and is a hub for digital nomads with cafes and co-working spaces.\n",
       "- **Luxury Resorts:** Surrounding areas like Mae Rim offer high-end options with serene settings.\n",
       "\n",
       "## Safety and Health\n",
       "\n",
       "**General Safety:**\n",
       "- **Safety:** Chiang Mai is generally safe but remain vigilant about personal belongings and be cautious, particularly in crowded markets.\n",
       "- **Health Precautions:** Access to healthcare is good, but remember to use mosquito repellent to guard against dengue fever.\n",
       "\n",
       "## Budget Tips\n",
       "\n",
       "**Cost-effective Travelling:**\n",
       "- **Accommodation:** Opt for guesthouses or hostels for affordable lodging.\n",
       "- **Food:** Street vendors and local eateries offer budget-friendly dining without compromising on taste.\n",
       "- **Bargaining:** Particularly in markets, bargaining is expected, and prices can often be negotiated.\n",
       "\n",
       "## Unique Experiences\n",
       "\n",
       "- **Hill Tribe Villages:** Visit for an immersive cultural experience and support local communities through fair-trade markets.\n",
       "- **Cooking Classes:** Join a Thai cooking class for hands-on experience creating traditional dishes with local ingredients.\n",
       "\n",
       "## Essential Phrases\n",
       "\n",
       "- **Hello:** *Sawasdee (krub/ka)*\n",
       "- **Thank you:** *Khob khun (krub/ka)*\n",
       "- **How much does it cost?:** *Tao rai ka/krub?*\n",
       "\n",
       "## Conclusion\n",
       "\n",
       "Chiang Mai is a captivating blend of ancient traditions and modern living. Whether you're exploring its historic temples, savoring its flavorful cuisine, or marveling at its natural wonders, this city promises a fulfilling adventure. Remember to carry an open heart and mind, as the people and experiences in Chiang Mai are truly enriching. Safe travels!"
      ],
      "text/plain": [
       "<IPython.core.display.Markdown object>"
      ]
     },
     "metadata": {},
     "output_type": "display_data"
    }
   ],
   "source": [
    "stream = client.chat.completions.create(\n",
    "    model=\"gpt-4o\",\n",
    "    messages=[\n",
    "        {\"role\": \"system\", \"content\": system_prompt},\n",
    "        {\"role\": \"user\", \"content\": f\"Provide key travel tips for {destination}\"}\n",
    "    ],\n",
    "    stream=True\n",
    ")\n",
    "\n",
    "full_response = \"\"\n",
    "for chunk in stream:\n",
    "    if chunk.choices[0].delta.content is not None:\n",
    "        content = chunk.choices[0].delta.content\n",
    "        full_response += content\n",
    "        \n",
    "        # Clear the current output and display the updated markdown\n",
    "        clear_output(wait=True)\n",
    "        display(Markdown(full_response))\n",
    "        \n",
    "        # Add a small delay to make the streaming visible\n",
    "        time.sleep(0.01)"
   ]
  }
 ],
 "metadata": {
  "kernelspec": {
   "display_name": "Python 3",
   "language": "python",
   "name": "python3"
  },
  "language_info": {
   "codemirror_mode": {
    "name": "ipython",
    "version": 3
   },
   "file_extension": ".py",
   "mimetype": "text/x-python",
   "name": "python",
   "nbconvert_exporter": "python",
   "pygments_lexer": "ipython3",
   "version": "3.11.2"
  }
 },
 "nbformat": 4,
 "nbformat_minor": 2
}
